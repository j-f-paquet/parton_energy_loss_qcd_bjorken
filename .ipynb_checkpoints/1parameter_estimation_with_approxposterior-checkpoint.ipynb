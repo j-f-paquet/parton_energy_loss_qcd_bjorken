{
 "cells": [
  {
   "cell_type": "markdown",
   "metadata": {},
   "source": [
    "### This Notebook has been adapted from one of the examples of approxposterior [Fitting A Line](https://github.com/dflemin3/approxposterior/blob/master/examples/Notebooks/fittingALine.ipynb)"
   ]
  },
  {
   "cell_type": "code",
   "execution_count": 4,
   "metadata": {},
   "outputs": [],
   "source": [
    "import numpy as np\n",
    "import matplotlib.pyplot as plt\n",
    "import emcee\n",
    "from scipy.optimize import minimize\n",
    "import corner\n",
    "import george\n",
    "\n",
    "#Our expensive simulation model for the forwar calculations of the likelihood\n",
    "import run_simple_energy_loss\n",
    "\n",
    "\n",
    "from approxposterior import approx, gpUtils as gpu"
   ]
  },
  {
   "cell_type": "markdown",
   "metadata": {},
   "source": [
    "**Data**\n",
    "\n",
    "---\n",
    "\n",
    "First, we generate data from our jet energy loss simulations and assume  indepedent, Gaussian errors, for the measurement of $R_{AA}$."
   ]
  },
  {
   "cell_type": "code",
   "execution_count": 5,
   "metadata": {},
   "outputs": [],
   "source": [
    "simulation=run_simple_energy_loss.run_simulation"
   ]
  },
  {
   "cell_type": "code",
   "execution_count": 6,
   "metadata": {},
   "outputs": [],
   "source": [
    "# Wrap the simulation in a way that it only takes the parameter alpha_s as input and keep all other model\n",
    "# parameters fixed. p_T values have to be discrete and between 1 and 10.\n",
    "def f(alpha_s, p_T_values):\n",
    "    \"\"\"returns simulation output for alpha_s design point\"\"\"\n",
    "    n_design=alpha_s.shape[0]\n",
    "   # print(n_design)\n",
    "    p_mom=(1, 10, 10)\n",
    "    # design for alpha_s parameter\n",
    "    T0_in_fm = np.full((n_design,1), 0.3)\n",
    "    tau0 = np.full((n_design,1), 0.2)\n",
    "    Tf_in_fm = np.full((n_design,1), 0.15)\n",
    "    # We will only consider the change in modle parameter for now\n",
    "    alpha_s = alpha_s.reshape(-1,1)\n",
    "    mD_factor = np.full((n_design,1), 1)\n",
    "    design = np.hstack([T0_in_fm, tau0, Tf_in_fm, alpha_s, mD_factor])\n",
    "   # print(design.shape)\n",
    "    observables=simulation(design,*p_mom)\n",
    "    \n",
    "    #Let's just return only one obsrvable for now. The middle p_T bin\n",
    "    p_T_bins=np.array(p_T_values).flatten()\n",
    "    return observables[:,p_T_bins]"
   ]
  },
  {
   "cell_type": "code",
   "execution_count": 7,
   "metadata": {},
   "outputs": [
    {
     "name": "stdout",
     "output_type": "stream",
     "text": [
      "Working on 0/1 designs\n"
     ]
    },
    {
     "name": "stderr",
     "output_type": "stream",
     "text": [
      "/Users/dananjayaliyanage/miniconda3/envs/parton_loss/lib/python3.6/site-packages/scipy/integrate/_ode.py:1180: UserWarning: dopri5: step size becomes too small\n",
      "  self.messages.get(istate, unexpected_istate_msg)))\n",
      "/Users/dananjayaliyanage/miniconda3/envs/parton_loss/lib/python3.6/site-packages/scipy/integrate/_ode.py:1180: UserWarning: dopri5: larger nsteps is needed\n",
      "  self.messages.get(istate, unexpected_istate_msg)))\n",
      "/Users/dananjayaliyanage/git/parton_energy_loss_qcd_bjorken/solver_rk.py:78: IntegrationWarning: The integral is probably divergent, or slowly convergent.\n",
      "  res_quad2b=scipy.integrate.quad(lambda u, p=p: p*integrand_middle(p,u), 0, delta, limit=npts, epsabs=epsabs, epsrel=epsrel)\n",
      "/Users/dananjayaliyanage/git/parton_energy_loss_qcd_bjorken/solver_rk.py:73: IntegrationWarning: The integral is probably divergent, or slowly convergent.\n",
      "  res_quad2a=scipy.integrate.quad(vec_integrand, pmin, p, limit=npts, epsabs=epsabs, epsrel=epsrel)\n"
     ]
    },
    {
     "name": "stdout",
     "output_type": "stream",
     "text": [
      "Shape of the result array is (1, 10)\n"
     ]
    },
    {
     "data": {
      "image/png": "[encoded data removed]",
      "text/plain": [
       "<Figure size 576x576 with 1 Axes>"
      ]
     },
     "metadata": {
      "needs_background": "light"
     },
     "output_type": "display_data"
    }
   ],
   "source": [
    "# Set seed for reproducibility.\n",
    "seed = 42\n",
    "np.random.seed(seed)\n",
    "\n",
    "# Choose the \"true\" parameters.\n",
    "alpha_s_true = np.array([0.3])\n",
    "#bTrue = 4.294\n",
    "\n",
    "\n",
    "# Generate some synthetic data from the model.\n",
    "x = np.array([3, 5, 7])\n",
    "N = len(x)\n",
    "obserr = 0.1 # Amplitude of noise term\n",
    "obs = f(alpha_s_true, x) # True model\n",
    "obs += obserr * np.random.randn(N) # Add some random noise\n",
    "\n",
    "# Now plot it to see what the data looks like\n",
    "fig, ax = plt.subplots(figsize=(8,8))\n",
    "\n",
    "ax.errorbar(x.flatten(), obs.flatten(), yerr=obserr, fmt=\"xk\", capsize=0)\n",
    "#ax.plot(x.flatten(), obs.flatten(), \"k\", alpha=0.3, lw=3)\n",
    "#ax.set_xlim(0, 10)\n",
    "ax.set_xlabel(r\"$p_T$\")\n",
    "ax.set_ylabel(r\"$R_{AA}$\");"
   ]
  },
  {
   "cell_type": "markdown",
   "metadata": {},
   "source": [
    "**Inference**\n",
    "\n",
    "---\n",
    "\n",
    "Now we want to infer posterior probability distributions for our model's parameters, $\\theta$, i.e $\\alpha_s$, given the data and uncertainties, D, via Bayes' Theorem: $p(\\theta | D) \\propto l(D | \\theta)p(\\theta)$ where $l(D|\\theta)$ is the likelihood of the data for a given set of model parameters, and $p(\\theta)$ is our assume prior probability of a given $\\theta$. We sample the posterior distribution using the emcee MCMC code.  See the emcee example (https://emcee.readthedocs.io/en/latest/tutorials/line/) for more details of this procedure."
   ]
  },
  {
   "cell_type": "code",
   "execution_count": 11,
   "metadata": {},
   "outputs": [],
   "source": [
    "# Define the loglikelihood function\n",
    "def logLikelihood(theta, x, obs, obserr):\n",
    "  \n",
    "    # Model parameters\n",
    "    theta = np.array(theta)\n",
    "    alpha_s = theta\n",
    "    \n",
    "    # Model predictions given parameters\n",
    "    model = f(alpha_s, x)\n",
    "    \n",
    "    # Likelihood of data given model parameters\n",
    "    return -0.5*np.sum((obs-model)**2/obserr**2)"
   ]
  },
  {
   "cell_type": "code",
   "execution_count": 12,
   "metadata": {},
   "outputs": [],
   "source": [
    "# Define the logprior function\n",
    "def logPrior(theta):\n",
    "    \n",
    "    # Model parameters\n",
    "    theta = np.array(theta)\n",
    "    alpha_s = theta\n",
    "    \n",
    "    # Probability of model parameters: flat prior\n",
    "    if 0 < alpha_s < 1:\n",
    "        return 0.0\n",
    "    return -np.inf"
   ]
  },
  {
   "cell_type": "code",
   "execution_count": 14,
   "metadata": {},
   "outputs": [],
   "source": [
    "# Define logprobability function: l(D|theta) * p(theta)\n",
    "# Note: use this for emcee, not approxposterior!\n",
    "def logProbability(theta, x, obs, obserr):\n",
    "        \n",
    "    lp = logPrior(theta)\n",
    "    if not np.isfinite(lp):\n",
    "        return -np.inf\n",
    "    return lp + logLikelihood(theta, x, obs, obserr)"
   ]
  },
  {
   "cell_type": "markdown",
   "metadata": {},
   "source": [
    "Now that we've set up the required functions, we initialize our MCMC sampler in emcee, pick an initial state for the walkers, and run the MCMC!"
   ]
  },
  {
   "cell_type": "code",
   "execution_count": null,
   "metadata": {},
   "outputs": [],
   "source": []
  },
  {
   "cell_type": "code",
   "execution_count": 29,
   "metadata": {},
   "outputs": [
    {
     "name": "stdout",
     "output_type": "stream",
     "text": [
      "[[0.29214465]\n",
      " [0.36636184]\n",
      " [0.45606998]\n",
      " [0.78517596]\n",
      " [0.19967378]\n",
      " [0.51423444]\n",
      " [0.59241457]\n",
      " [0.04645041]\n",
      " [0.60754485]\n",
      " [0.17052412]]\n",
      "MCMC sampling using emcee (affine-invariant ensamble sampler) with 10 walkers\n",
      "Working on 0/1 designsWorking on 0/1 designsWorking on 0/1 designsWorking on 0/1 designsWorking on 0/1 designsWorking on 0/1 designsWorking on 0/1 designs\n",
      "\n",
      "\n",
      "\n",
      "\n",
      "\n",
      "\n",
      "Working on 0/1 designs\n",
      "burn in sampling started\n",
      "burn was true going to burnin\n"
     ]
    },
    {
     "name": "stderr",
     "output_type": "stream",
     "text": [
      "/Users/dananjayaliyanage/git/parton_energy_loss_qcd_bjorken/solver_rk.py:42: RuntimeWarning: invalid value encountered in log\n",
      "  log_P_g_prev=np.log(P_g)\n",
      "/Users/dananjayaliyanage/git/parton_energy_loss_qcd_bjorken/solver_rk.py:74: IntegrationWarning: The occurrence of roundoff error is detected, which prevents \n",
      "  the requested tolerance from being achieved.  The error may be \n",
      "  underestimated.\n",
      "  res_quad2c=scipy.integrate.quad(vec_integrand, p, pmax, limit=npts, epsabs=epsabs, epsrel=epsrel)\n",
      "/Users/dananjayaliyanage/git/parton_energy_loss_qcd_bjorken/solver_rk.py:79: IntegrationWarning: The occurrence of roundoff error is detected, which prevents \n",
      "  the requested tolerance from being achieved.  The error may be \n",
      "  underestimated.\n",
      "  res_quad2c=scipy.integrate.quad(vec_integrand, p*(1+delta), pmax, limit=npts, epsabs=epsabs, epsrel=epsrel)\n",
      "/Users/dananjayaliyanage/git/parton_energy_loss_qcd_bjorken/solver_rk.py:78: IntegrationWarning: The occurrence of roundoff error is detected, which prevents \n",
      "  the requested tolerance from being achieved.  The error may be \n",
      "  underestimated.\n",
      "  res_quad2b=scipy.integrate.quad(lambda u, p=p: p*integrand_middle(p,u), 0, delta, limit=npts, epsabs=epsabs, epsrel=epsrel)\n",
      "/Users/dananjayaliyanage/git/parton_energy_loss_qcd_bjorken/solver_rk.py:77: IntegrationWarning: The occurrence of roundoff error is detected, which prevents \n",
      "  the requested tolerance from being achieved.  The error may be \n",
      "  underestimated.\n",
      "  res_quad2a=scipy.integrate.quad(vec_integrand, pmin, p*(1-delta), limit=npts, epsabs=epsabs, epsrel=epsrel)\n"
     ]
    },
    {
     "name": "stdout",
     "output_type": "stream",
     "text": [
      "Shape of the result array is (1, 10)\n",
      "Working on 0/1 designs\n",
      "Shape of the result array is (1, 10)\n",
      "Working on 0/1 designs\n"
     ]
    },
    {
     "name": "stderr",
     "output_type": "stream",
     "text": [
      "/Users/dananjayaliyanage/git/parton_energy_loss_qcd_bjorken/solver_rk.py:42: RuntimeWarning: invalid value encountered in log\n",
      "  log_P_g_prev=np.log(P_g)\n",
      "/Users/dananjayaliyanage/git/parton_energy_loss_qcd_bjorken/solver_rk.py:74: IntegrationWarning: The occurrence of roundoff error is detected, which prevents \n",
      "  the requested tolerance from being achieved.  The error may be \n",
      "  underestimated.\n",
      "  res_quad2c=scipy.integrate.quad(vec_integrand, p, pmax, limit=npts, epsabs=epsabs, epsrel=epsrel)\n",
      "/Users/dananjayaliyanage/git/parton_energy_loss_qcd_bjorken/solver_rk.py:79: IntegrationWarning: The occurrence of roundoff error is detected, which prevents \n",
      "  the requested tolerance from being achieved.  The error may be \n",
      "  underestimated.\n",
      "  res_quad2c=scipy.integrate.quad(vec_integrand, p*(1+delta), pmax, limit=npts, epsabs=epsabs, epsrel=epsrel)\n",
      "/Users/dananjayaliyanage/git/parton_energy_loss_qcd_bjorken/solver_rk.py:77: IntegrationWarning: The occurrence of roundoff error is detected, which prevents \n",
      "  the requested tolerance from being achieved.  The error may be \n",
      "  underestimated.\n",
      "  res_quad2a=scipy.integrate.quad(vec_integrand, pmin, p*(1-delta), limit=npts, epsabs=epsabs, epsrel=epsrel)\n",
      "/Users/dananjayaliyanage/git/parton_energy_loss_qcd_bjorken/solver_rk.py:78: IntegrationWarning: The occurrence of roundoff error is detected, which prevents \n",
      "  the requested tolerance from being achieved.  The error may be \n",
      "  underestimated.\n",
      "  res_quad2b=scipy.integrate.quad(lambda u, p=p: p*integrand_middle(p,u), 0, delta, limit=npts, epsabs=epsabs, epsrel=epsrel)\n",
      "/Users/dananjayaliyanage/git/parton_energy_loss_qcd_bjorken/solver_rk.py:73: IntegrationWarning: The occurrence of roundoff error is detected, which prevents \n",
      "  the requested tolerance from being achieved.  The error may be \n",
      "  underestimated.\n",
      "  res_quad2a=scipy.integrate.quad(vec_integrand, pmin, p, limit=npts, epsabs=epsabs, epsrel=epsrel)\n",
      "/Users/dananjayaliyanage/git/parton_energy_loss_qcd_bjorken/solver_rk.py:74: IntegrationWarning: Extremely bad integrand behavior occurs at some points of the\n",
      "  integration interval.\n",
      "  res_quad2c=scipy.integrate.quad(vec_integrand, p, pmax, limit=npts, epsabs=epsabs, epsrel=epsrel)\n",
      "/Users/dananjayaliyanage/git/parton_energy_loss_qcd_bjorken/solver_rk.py:73: IntegrationWarning: The occurrence of roundoff error is detected, which prevents \n",
      "  the requested tolerance from being achieved.  The error may be \n",
      "  underestimated.\n",
      "  res_quad2a=scipy.integrate.quad(vec_integrand, pmin, p, limit=npts, epsabs=epsabs, epsrel=epsrel)\n",
      "/Users/dananjayaliyanage/git/parton_energy_loss_qcd_bjorken/solver_rk.py:74: IntegrationWarning: Extremely bad integrand behavior occurs at some points of the\n",
      "  integration interval.\n",
      "  res_quad2c=scipy.integrate.quad(vec_integrand, p, pmax, limit=npts, epsabs=epsabs, epsrel=epsrel)\n",
      "/Users/dananjayaliyanage/git/parton_energy_loss_qcd_bjorken/solver_rk.py:73: IntegrationWarning: Extremely bad integrand behavior occurs at some points of the\n",
      "  integration interval.\n",
      "  res_quad2a=scipy.integrate.quad(vec_integrand, pmin, p, limit=npts, epsabs=epsabs, epsrel=epsrel)\n"
     ]
    },
    {
     "name": "stdout",
     "output_type": "stream",
     "text": [
      "Shape of the result array is (1, 10)\n",
      "Shape of the result array is (1, 10)\n",
      "Shape of the result array is (1, 10)\n",
      "Shape of the result array is (1, 10)\n"
     ]
    },
    {
     "name": "stderr",
     "output_type": "stream",
     "text": [
      "/Users/dananjayaliyanage/git/parton_energy_loss_qcd_bjorken/solver_rk.py:73: IntegrationWarning: Extremely bad integrand behavior occurs at some points of the\n",
      "  integration interval.\n",
      "  res_quad2a=scipy.integrate.quad(vec_integrand, pmin, p, limit=npts, epsabs=epsabs, epsrel=epsrel)\n"
     ]
    },
    {
     "name": "stdout",
     "output_type": "stream",
     "text": [
      "Shape of the result array is (1, 10)"
     ]
    },
    {
     "name": "stderr",
     "output_type": "stream",
     "text": [
      "/Users/dananjayaliyanage/git/parton_energy_loss_qcd_bjorken/solver_rk.py:42: RuntimeWarning: invalid value encountered in log\n",
      "  log_P_g_prev=np.log(P_g)\n"
     ]
    },
    {
     "name": "stdout",
     "output_type": "stream",
     "text": [
      "\n"
     ]
    },
    {
     "name": "stderr",
     "output_type": "stream",
     "text": [
      "/Users/dananjayaliyanage/git/parton_energy_loss_qcd_bjorken/solver_rk.py:74: IntegrationWarning: The occurrence of roundoff error is detected, which prevents \n",
      "  the requested tolerance from being achieved.  The error may be \n",
      "  underestimated.\n",
      "  res_quad2c=scipy.integrate.quad(vec_integrand, p, pmax, limit=npts, epsabs=epsabs, epsrel=epsrel)\n",
      "/Users/dananjayaliyanage/git/parton_energy_loss_qcd_bjorken/solver_rk.py:78: IntegrationWarning: The occurrence of roundoff error is detected, which prevents \n",
      "  the requested tolerance from being achieved.  The error may be \n",
      "  underestimated.\n",
      "  res_quad2b=scipy.integrate.quad(lambda u, p=p: p*integrand_middle(p,u), 0, delta, limit=npts, epsabs=epsabs, epsrel=epsrel)\n",
      "/Users/dananjayaliyanage/git/parton_energy_loss_qcd_bjorken/solver_rk.py:79: IntegrationWarning: The occurrence of roundoff error is detected, which prevents \n",
      "  the requested tolerance from being achieved.  The error may be \n",
      "  underestimated.\n",
      "  res_quad2c=scipy.integrate.quad(vec_integrand, p*(1+delta), pmax, limit=npts, epsabs=epsabs, epsrel=epsrel)\n",
      "/Users/dananjayaliyanage/git/parton_energy_loss_qcd_bjorken/solver_rk.py:77: IntegrationWarning: The occurrence of roundoff error is detected, which prevents \n",
      "  the requested tolerance from being achieved.  The error may be \n",
      "  underestimated.\n",
      "  res_quad2a=scipy.integrate.quad(vec_integrand, pmin, p*(1-delta), limit=npts, epsabs=epsabs, epsrel=epsrel)\n",
      "/Users/dananjayaliyanage/git/parton_energy_loss_qcd_bjorken/solver_rk.py:73: IntegrationWarning: The occurrence of roundoff error is detected, which prevents \n",
      "  the requested tolerance from being achieved.  The error may be \n",
      "  underestimated.\n",
      "  res_quad2a=scipy.integrate.quad(vec_integrand, pmin, p, limit=npts, epsabs=epsabs, epsrel=epsrel)\n",
      "/Users/dananjayaliyanage/git/parton_energy_loss_qcd_bjorken/solver_rk.py:74: IntegrationWarning: Extremely bad integrand behavior occurs at some points of the\n",
      "  integration interval.\n",
      "  res_quad2c=scipy.integrate.quad(vec_integrand, p, pmax, limit=npts, epsabs=epsabs, epsrel=epsrel)\n",
      "/Users/dananjayaliyanage/git/parton_energy_loss_qcd_bjorken/solver_rk.py:73: IntegrationWarning: Extremely bad integrand behavior occurs at some points of the\n",
      "  integration interval.\n",
      "  res_quad2a=scipy.integrate.quad(vec_integrand, pmin, p, limit=npts, epsabs=epsabs, epsrel=epsrel)\n"
     ]
    },
    {
     "name": "stdout",
     "output_type": "stream",
     "text": [
      "Shape of the result array is (1, 10)\n",
      "Shape of the result array is (1, 10)\n",
      "Shape of the result array is (1, 10)\n"
     ]
    },
    {
     "name": "stderr",
     "output_type": "stream",
     "text": [
      "\r",
      "  0%|          | 0/5 [00:00<?, ?it/s]"
     ]
    },
    {
     "name": "stdout",
     "output_type": "stream",
     "text": [
      "Working on 0/1 designsWorking on 0/1 designsWorking on 0/1 designsWorking on 0/1 designs\n",
      "\n",
      "\n",
      "\n"
     ]
    },
    {
     "name": "stderr",
     "output_type": "stream",
     "text": [
      "/Users/dananjayaliyanage/git/parton_energy_loss_qcd_bjorken/solver_rk.py:42: RuntimeWarning: invalid value encountered in log\n",
      "  log_P_g_prev=np.log(P_g)\n",
      "/Users/dananjayaliyanage/git/parton_energy_loss_qcd_bjorken/solver_rk.py:74: IntegrationWarning: The occurrence of roundoff error is detected, which prevents \n",
      "  the requested tolerance from being achieved.  The error may be \n",
      "  underestimated.\n",
      "  res_quad2c=scipy.integrate.quad(vec_integrand, p, pmax, limit=npts, epsabs=epsabs, epsrel=epsrel)\n",
      "/Users/dananjayaliyanage/git/parton_energy_loss_qcd_bjorken/solver_rk.py:79: IntegrationWarning: The occurrence of roundoff error is detected, which prevents \n",
      "  the requested tolerance from being achieved.  The error may be \n",
      "  underestimated.\n",
      "  res_quad2c=scipy.integrate.quad(vec_integrand, p*(1+delta), pmax, limit=npts, epsabs=epsabs, epsrel=epsrel)\n",
      "/Users/dananjayaliyanage/git/parton_energy_loss_qcd_bjorken/solver_rk.py:78: IntegrationWarning: The occurrence of roundoff error is detected, which prevents \n",
      "  the requested tolerance from being achieved.  The error may be \n",
      "  underestimated.\n",
      "  res_quad2b=scipy.integrate.quad(lambda u, p=p: p*integrand_middle(p,u), 0, delta, limit=npts, epsabs=epsabs, epsrel=epsrel)\n",
      "/Users/dananjayaliyanage/git/parton_energy_loss_qcd_bjorken/solver_rk.py:77: IntegrationWarning: The occurrence of roundoff error is detected, which prevents \n",
      "  the requested tolerance from being achieved.  The error may be \n",
      "  underestimated.\n",
      "  res_quad2a=scipy.integrate.quad(vec_integrand, pmin, p*(1-delta), limit=npts, epsabs=epsabs, epsrel=epsrel)\n",
      "/Users/dananjayaliyanage/git/parton_energy_loss_qcd_bjorken/solver_rk.py:73: IntegrationWarning: The occurrence of roundoff error is detected, which prevents \n",
      "  the requested tolerance from being achieved.  The error may be \n",
      "  underestimated.\n",
      "  res_quad2a=scipy.integrate.quad(vec_integrand, pmin, p, limit=npts, epsabs=epsabs, epsrel=epsrel)\n",
      "/Users/dananjayaliyanage/git/parton_energy_loss_qcd_bjorken/solver_rk.py:74: IntegrationWarning: Extremely bad integrand behavior occurs at some points of the\n",
      "  integration interval.\n",
      "  res_quad2c=scipy.integrate.quad(vec_integrand, p, pmax, limit=npts, epsabs=epsabs, epsrel=epsrel)\n",
      "/Users/dananjayaliyanage/git/parton_energy_loss_qcd_bjorken/solver_rk.py:73: IntegrationWarning: Extremely bad integrand behavior occurs at some points of the\n",
      "  integration interval.\n",
      "  res_quad2a=scipy.integrate.quad(vec_integrand, pmin, p, limit=npts, epsabs=epsabs, epsrel=epsrel)\n"
     ]
    },
    {
     "name": "stdout",
     "output_type": "stream",
     "text": [
      "Shape of the result array is (1, 10)\n",
      "Shape of the result array is (1, 10)\n",
      "Shape of the result array is (1, 10)\n",
      "Shape of the result array is (1, 10)\n",
      "Working on 0/1 designsWorking on 0/1 designsWorking on 0/1 designs\n",
      "\n",
      "\n",
      "Shape of the result array is (1, 10)\n",
      "Shape of the result array is (1, 10)\n",
      "Shape of the result array is (1, 10)\n"
     ]
    },
    {
     "name": "stderr",
     "output_type": "stream",
     "text": [
      "\r",
      " 20%|██        | 1/5 [02:45<11:00, 165.21s/it]"
     ]
    },
    {
     "name": "stdout",
     "output_type": "stream",
     "text": [
      "Working on 0/1 designsWorking on 0/1 designs\n",
      "\n"
     ]
    },
    {
     "name": "stderr",
     "output_type": "stream",
     "text": [
      "/Users/dananjayaliyanage/git/parton_energy_loss_qcd_bjorken/solver_rk.py:42: RuntimeWarning: invalid value encountered in log\n",
      "  log_P_g_prev=np.log(P_g)\n",
      "/Users/dananjayaliyanage/git/parton_energy_loss_qcd_bjorken/solver_rk.py:74: IntegrationWarning: The occurrence of roundoff error is detected, which prevents \n",
      "  the requested tolerance from being achieved.  The error may be \n",
      "  underestimated.\n",
      "  res_quad2c=scipy.integrate.quad(vec_integrand, p, pmax, limit=npts, epsabs=epsabs, epsrel=epsrel)\n",
      "/Users/dananjayaliyanage/git/parton_energy_loss_qcd_bjorken/solver_rk.py:77: IntegrationWarning: The occurrence of roundoff error is detected, which prevents \n",
      "  the requested tolerance from being achieved.  The error may be \n",
      "  underestimated.\n",
      "  res_quad2a=scipy.integrate.quad(vec_integrand, pmin, p*(1-delta), limit=npts, epsabs=epsabs, epsrel=epsrel)\n",
      "/Users/dananjayaliyanage/git/parton_energy_loss_qcd_bjorken/solver_rk.py:78: IntegrationWarning: The occurrence of roundoff error is detected, which prevents \n",
      "  the requested tolerance from being achieved.  The error may be \n",
      "  underestimated.\n",
      "  res_quad2b=scipy.integrate.quad(lambda u, p=p: p*integrand_middle(p,u), 0, delta, limit=npts, epsabs=epsabs, epsrel=epsrel)\n",
      "/Users/dananjayaliyanage/git/parton_energy_loss_qcd_bjorken/solver_rk.py:79: IntegrationWarning: The occurrence of roundoff error is detected, which prevents \n",
      "  the requested tolerance from being achieved.  The error may be \n",
      "  underestimated.\n",
      "  res_quad2c=scipy.integrate.quad(vec_integrand, p*(1+delta), pmax, limit=npts, epsabs=epsabs, epsrel=epsrel)\n",
      "/Users/dananjayaliyanage/git/parton_energy_loss_qcd_bjorken/solver_rk.py:73: IntegrationWarning: The occurrence of roundoff error is detected, which prevents \n",
      "  the requested tolerance from being achieved.  The error may be \n",
      "  underestimated.\n",
      "  res_quad2a=scipy.integrate.quad(vec_integrand, pmin, p, limit=npts, epsabs=epsabs, epsrel=epsrel)\n",
      "/Users/dananjayaliyanage/git/parton_energy_loss_qcd_bjorken/solver_rk.py:74: IntegrationWarning: Extremely bad integrand behavior occurs at some points of the\n",
      "  integration interval.\n",
      "  res_quad2c=scipy.integrate.quad(vec_integrand, p, pmax, limit=npts, epsabs=epsabs, epsrel=epsrel)\n",
      "/Users/dananjayaliyanage/git/parton_energy_loss_qcd_bjorken/solver_rk.py:73: IntegrationWarning: Extremely bad integrand behavior occurs at some points of the\n",
      "  integration interval.\n",
      "  res_quad2a=scipy.integrate.quad(vec_integrand, pmin, p, limit=npts, epsabs=epsabs, epsrel=epsrel)\n"
     ]
    },
    {
     "name": "stdout",
     "output_type": "stream",
     "text": [
      "Shape of the result array is (1, 10)\n",
      "Shape of the result array is (1, 10)\n",
      "Working on 0/1 designsWorking on 0/1 designsWorking on 0/1 designsWorking on 0/1 designsWorking on 0/1 designs\n",
      "\n",
      "\n",
      "\n",
      "\n",
      "Shape of the result array is (1, 10)\n",
      "Shape of the result array is (1, 10)\n",
      "Shape of the result array is (1, 10)\n",
      "Shape of the result array is (1, 10)\n",
      "Shape of the result array is (1, 10)\n"
     ]
    },
    {
     "name": "stderr",
     "output_type": "stream",
     "text": [
      "\r",
      " 40%|████      | 2/5 [04:09<05:52, 117.64s/it]"
     ]
    },
    {
     "name": "stdout",
     "output_type": "stream",
     "text": [
      "Working on 0/1 designsWorking on 0/1 designsWorking on 0/1 designsWorking on 0/1 designs\n",
      "\n",
      "\n",
      "\n"
     ]
    },
    {
     "name": "stderr",
     "output_type": "stream",
     "text": [
      "/Users/dananjayaliyanage/git/parton_energy_loss_qcd_bjorken/solver_rk.py:42: RuntimeWarning: invalid value encountered in log\n",
      "  log_P_g_prev=np.log(P_g)\n",
      "/Users/dananjayaliyanage/git/parton_energy_loss_qcd_bjorken/solver_rk.py:74: IntegrationWarning: The occurrence of roundoff error is detected, which prevents \n",
      "  the requested tolerance from being achieved.  The error may be \n",
      "  underestimated.\n",
      "  res_quad2c=scipy.integrate.quad(vec_integrand, p, pmax, limit=npts, epsabs=epsabs, epsrel=epsrel)\n",
      "/Users/dananjayaliyanage/git/parton_energy_loss_qcd_bjorken/solver_rk.py:79: IntegrationWarning: The occurrence of roundoff error is detected, which prevents \n",
      "  the requested tolerance from being achieved.  The error may be \n",
      "  underestimated.\n",
      "  res_quad2c=scipy.integrate.quad(vec_integrand, p*(1+delta), pmax, limit=npts, epsabs=epsabs, epsrel=epsrel)\n",
      "/Users/dananjayaliyanage/git/parton_energy_loss_qcd_bjorken/solver_rk.py:78: IntegrationWarning: The occurrence of roundoff error is detected, which prevents \n",
      "  the requested tolerance from being achieved.  The error may be \n",
      "  underestimated.\n",
      "  res_quad2b=scipy.integrate.quad(lambda u, p=p: p*integrand_middle(p,u), 0, delta, limit=npts, epsabs=epsabs, epsrel=epsrel)\n",
      "/Users/dananjayaliyanage/git/parton_energy_loss_qcd_bjorken/solver_rk.py:77: IntegrationWarning: The occurrence of roundoff error is detected, which prevents \n",
      "  the requested tolerance from being achieved.  The error may be \n",
      "  underestimated.\n",
      "  res_quad2a=scipy.integrate.quad(vec_integrand, pmin, p*(1-delta), limit=npts, epsabs=epsabs, epsrel=epsrel)\n",
      "/Users/dananjayaliyanage/git/parton_energy_loss_qcd_bjorken/solver_rk.py:73: IntegrationWarning: The occurrence of roundoff error is detected, which prevents \n",
      "  the requested tolerance from being achieved.  The error may be \n",
      "  underestimated.\n",
      "  res_quad2a=scipy.integrate.quad(vec_integrand, pmin, p, limit=npts, epsabs=epsabs, epsrel=epsrel)\n",
      "/Users/dananjayaliyanage/git/parton_energy_loss_qcd_bjorken/solver_rk.py:74: IntegrationWarning: Extremely bad integrand behavior occurs at some points of the\n",
      "  integration interval.\n",
      "  res_quad2c=scipy.integrate.quad(vec_integrand, p, pmax, limit=npts, epsabs=epsabs, epsrel=epsrel)\n"
     ]
    },
    {
     "name": "stdout",
     "output_type": "stream",
     "text": [
      "Shape of the result array is (1, 10)\n",
      "Shape of the result array is (1, 10)\n"
     ]
    },
    {
     "name": "stderr",
     "output_type": "stream",
     "text": [
      "/Users/dananjayaliyanage/git/parton_energy_loss_qcd_bjorken/solver_rk.py:73: IntegrationWarning: Extremely bad integrand behavior occurs at some points of the\n",
      "  integration interval.\n",
      "  res_quad2a=scipy.integrate.quad(vec_integrand, pmin, p, limit=npts, epsabs=epsabs, epsrel=epsrel)\n"
     ]
    },
    {
     "name": "stdout",
     "output_type": "stream",
     "text": [
      "Shape of the result array is (1, 10)\n",
      "Shape of the result array is (1, 10)\n",
      "Working on 0/1 designsWorking on 0/1 designsWorking on 0/1 designsWorking on 0/1 designsWorking on 0/1 designs\n",
      "\n",
      "\n",
      "\n",
      "\n",
      "Shape of the result array is (1, 10)\n",
      "Shape of the result array is (1, 10)\n",
      "Shape of the result array is (1, 10)\n",
      "Shape of the result array is (1, 10)\n",
      "Shape of the result array is (1, 10)\n"
     ]
    },
    {
     "name": "stderr",
     "output_type": "stream",
     "text": [
      "\r",
      " 60%|██████    | 3/5 [06:40<04:25, 132.98s/it]"
     ]
    },
    {
     "name": "stdout",
     "output_type": "stream",
     "text": [
      "Working on 0/1 designsWorking on 0/1 designsWorking on 0/1 designsWorking on 0/1 designs\n",
      "\n",
      "\n",
      "\n",
      "Shape of the result array is (1, 10)\n",
      "Shape of the result array is (1, 10)\n",
      "Shape of the result array is (1, 10)\n",
      "Shape of the result array is (1, 10)\n",
      "Working on 0/1 designsWorking on 0/1 designsWorking on 0/1 designsWorking on 0/1 designsWorking on 0/1 designs\n",
      "\n",
      "\n",
      "\n",
      "\n",
      "Shape of the result array is (1, 10)\n",
      "Shape of the result array is (1, 10)\n",
      "Shape of the result array is (1, 10)\n",
      "Shape of the result array is (1, 10)\n",
      "Shape of the result array is (1, 10)\n"
     ]
    },
    {
     "name": "stderr",
     "output_type": "stream",
     "text": [
      "\r",
      " 80%|████████  | 4/5 [08:09<01:55, 115.70s/it]"
     ]
    },
    {
     "name": "stdout",
     "output_type": "stream",
     "text": [
      "Working on 0/1 designsWorking on 0/1 designsWorking on 0/1 designsWorking on 0/1 designs\n",
      "\n",
      "\n",
      "\n",
      "Shape of the result array is (1, 10)\n",
      "Shape of the result array is (1, 10)\n",
      "Shape of the result array is (1, 10)\n",
      "Shape of the result array is (1, 10)\n",
      "Working on 0/1 designsWorking on 0/1 designsWorking on 0/1 designs\n",
      "\n",
      "\n",
      "Shape of the result array is (1, 10)\n"
     ]
    },
    {
     "name": "stderr",
     "output_type": "stream",
     "text": [
      "/Users/dananjayaliyanage/git/parton_energy_loss_qcd_bjorken/solver_rk.py:42: RuntimeWarning: invalid value encountered in log\n",
      "  log_P_g_prev=np.log(P_g)\n",
      "/Users/dananjayaliyanage/git/parton_energy_loss_qcd_bjorken/solver_rk.py:74: IntegrationWarning: The occurrence of roundoff error is detected, which prevents \n",
      "  the requested tolerance from being achieved.  The error may be \n",
      "  underestimated.\n",
      "  res_quad2c=scipy.integrate.quad(vec_integrand, p, pmax, limit=npts, epsabs=epsabs, epsrel=epsrel)\n",
      "/Users/dananjayaliyanage/git/parton_energy_loss_qcd_bjorken/solver_rk.py:79: IntegrationWarning: The occurrence of roundoff error is detected, which prevents \n",
      "  the requested tolerance from being achieved.  The error may be \n",
      "  underestimated.\n",
      "  res_quad2c=scipy.integrate.quad(vec_integrand, p*(1+delta), pmax, limit=npts, epsabs=epsabs, epsrel=epsrel)\n"
     ]
    },
    {
     "name": "stdout",
     "output_type": "stream",
     "text": [
      "Shape of the result array is (1, 10)\n"
     ]
    },
    {
     "name": "stderr",
     "output_type": "stream",
     "text": [
      "/Users/dananjayaliyanage/git/parton_energy_loss_qcd_bjorken/solver_rk.py:77: IntegrationWarning: The occurrence of roundoff error is detected, which prevents \n",
      "  the requested tolerance from being achieved.  The error may be \n",
      "  underestimated.\n",
      "  res_quad2a=scipy.integrate.quad(vec_integrand, pmin, p*(1-delta), limit=npts, epsabs=epsabs, epsrel=epsrel)\n",
      "/Users/dananjayaliyanage/git/parton_energy_loss_qcd_bjorken/solver_rk.py:78: IntegrationWarning: The occurrence of roundoff error is detected, which prevents \n",
      "  the requested tolerance from being achieved.  The error may be \n",
      "  underestimated.\n",
      "  res_quad2b=scipy.integrate.quad(lambda u, p=p: p*integrand_middle(p,u), 0, delta, limit=npts, epsabs=epsabs, epsrel=epsrel)\n",
      "/Users/dananjayaliyanage/git/parton_energy_loss_qcd_bjorken/solver_rk.py:73: IntegrationWarning: The occurrence of roundoff error is detected, which prevents \n",
      "  the requested tolerance from being achieved.  The error may be \n",
      "  underestimated.\n",
      "  res_quad2a=scipy.integrate.quad(vec_integrand, pmin, p, limit=npts, epsabs=epsabs, epsrel=epsrel)\n",
      "/Users/dananjayaliyanage/git/parton_energy_loss_qcd_bjorken/solver_rk.py:74: IntegrationWarning: Extremely bad integrand behavior occurs at some points of the\n",
      "  integration interval.\n",
      "  res_quad2c=scipy.integrate.quad(vec_integrand, p, pmax, limit=npts, epsabs=epsabs, epsrel=epsrel)\n"
     ]
    },
    {
     "name": "stdout",
     "output_type": "stream",
     "text": [
      "Shape of the result array is (1, 10)\n"
     ]
    },
    {
     "name": "stderr",
     "output_type": "stream",
     "text": [
      "100%|██████████| 5/5 [09:04<00:00, 108.84s/it]\n",
      "  0%|          | 0/10 [00:00<?, ?it/s]"
     ]
    },
    {
     "name": "stdout",
     "output_type": "stream",
     "text": [
      "Working on 0/1 designsWorking on 0/1 designsWorking on 0/1 designsWorking on 0/1 designs\n",
      "\n",
      "\n",
      "\n",
      "Mean acceptance fraction: 0.360 (in total 50 steps)\n",
      "Burn in completed. Now running the samples\n",
      "Shape of the result array is (1, 10)\n",
      "Shape of the result array is (1, 10)\n",
      "Shape of the result array is (1, 10)\n",
      "Shape of the result array is (1, 10)\n",
      "Working on 0/1 designsWorking on 0/1 designsWorking on 0/1 designsWorking on 0/1 designsWorking on 0/1 designs\n",
      "\n",
      "\n",
      "\n",
      "\n",
      "Shape of the result array is (1, 10)\n",
      "Shape of the result array is (1, 10)\n",
      "Shape of the result array is (1, 10)\n",
      "Shape of the result array is (1, 10)\n",
      "Shape of the result array is (1, 10)\n"
     ]
    },
    {
     "name": "stderr",
     "output_type": "stream",
     "text": [
      "\r",
      " 10%|█         | 1/10 [01:45<15:45, 105.09s/it]"
     ]
    },
    {
     "name": "stdout",
     "output_type": "stream",
     "text": [
      "Working on 0/1 designsWorking on 0/1 designsWorking on 0/1 designsWorking on 0/1 designs\n",
      "\n",
      "\n",
      "\n",
      "Shape of the result array is (1, 10)\n",
      "Shape of the result array is (1, 10)\n",
      "Shape of the result array is (1, 10)\n",
      "Shape of the result array is (1, 10)\n",
      "Working on 0/1 designsWorking on 0/1 designsWorking on 0/1 designs\n",
      "\n",
      "\n",
      "Shape of the result array is (1, 10)\n",
      "Shape of the result array is (1, 10)\n",
      "Shape of the result array is (1, 10)\n"
     ]
    },
    {
     "name": "stderr",
     "output_type": "stream",
     "text": [
      "\r",
      " 20%|██        | 2/10 [02:22<08:41, 65.15s/it] "
     ]
    },
    {
     "name": "stdout",
     "output_type": "stream",
     "text": [
      "Working on 0/1 designsWorking on 0/1 designsWorking on 0/1 designsWorking on 0/1 designs\n"
     ]
    }
   ],
   "source": [
    "do_mcmc = True\n",
    "\n",
    "Burn=True\n",
    "\n",
    "from multiprocessing import Pool\n",
    "\n",
    "backend = emcee.backends.HDFBackend(filename)\n",
    "\n",
    "\n",
    "from multiprocessing import Pool\n",
    "ndim = 1  # number of parameters in the model\n",
    "nwalkers = 5  # number of MCMC walkers\n",
    "nburn = 20 # \"burn-in\" period to let chains stabilize\n",
    "nsteps =100  # number of MCMC steps to take\n",
    "filename = \"classic_mcmc.h5\"\n",
    "\n",
    "if do_mcmc==True:\n",
    "    backend = emcee.backends.HDFBackend(filename)\n",
    "    starting_guesses = np.random.uniform(size=(nwalkers, ndim))\n",
    "    print(starting_guesses)\n",
    "    print(\"MCMC sampling using emcee (affine-invariant ensamble sampler) with {0} walkers\".format(nwalkers))\n",
    "    with Pool() as pool:\n",
    "        sampler = emcee.EnsembleSampler(nwalkers, ndim, logProbability, args=(x, obs, obserr),  pool=pool, backend=backend)\n",
    "        print('burn in sampling started')\n",
    "        if Burn==True:\n",
    "            backend.reset(nwalkers, ndim)\n",
    "            print('burn was true going to burnin')\n",
    "            pos= sampler.run_mcmc(starting_guesses, nburn,progress=True,store = True)\n",
    "        print(\"Mean acceptance fraction: {0:.3f} (in total {1} steps)\".format(np.mean(sampler.acceptance_fraction),nwalkers*nburn))\n",
    "\n",
    "        print('Burn in completed. Now running the samples')\n",
    "        sampler.run_mcmc(initial_state=None,nsteps=nsteps,progress=True, tune= False)  \n",
    "        print(\"Mean acceptance fraction: {0:.3f} (in total {1} steps)\".format(np.mean(sampler.acceptance_fraction),nwalkers*nsteps))\n",
    "        \n",
    "        # discard burn-in points and flatten the walkers; the shape of samples is (nwalkers*nsteps, ndim)\n",
    "        samples_mcmc = backend.get_chain(flat=True,discard=nburn)\n",
    "else:\n",
    "    df1=h5py.File(filename,mode='r')\n",
    "    samples_mcmc= df1['mcmc']['chain']"
   ]
  },
  {
   "cell_type": "markdown",
   "metadata": {},
   "source": [
    "The MCMC is complete, so let's examine the joint and marginal posterior probability distributions it derived for the model parameters."
   ]
  },
  {
   "cell_type": "code",
   "execution_count": 43,
   "metadata": {},
   "outputs": [
    {
     "data": {
      "image/png": "[encoded data removed]",
      "text/plain": [
       "<Figure size 244.8x244.8 with 1 Axes>"
      ]
     },
     "metadata": {
      "needs_background": "light"
     },
     "output_type": "display_data"
    }
   ],
   "source": [
    "fig = corner.corner(sampler.flatchain,\n",
    "                    quantiles=[0.16, 0.5, 0.84],\n",
    "                    truths=[alpha_s_true],\n",
    "                    labels=[r\"$\\alpha_s$\"],show_titles=True);"
   ]
  },
  {
   "cell_type": "markdown",
   "metadata": {},
   "source": [
    "Looks good!"
   ]
  },
  {
   "cell_type": "markdown",
   "metadata": {},
   "source": [
    "**Inference with ```approxposterior```**\n",
    "\n",
    "---\n",
    "\n",
    "Now let's see if we can derive similar constraints using ```approxposterior```.\n",
    "\n",
    "First, ```approxposterior``` requires a function that samples model parameters from the prior distributions."
   ]
  },
  {
   "cell_type": "code",
   "execution_count": 15,
   "metadata": {},
   "outputs": [],
   "source": [
    "def sampleFunction(n):\n",
    "    \"\"\"\n",
    "    docs\n",
    "\n",
    "    Parameters\n",
    "    ----------\n",
    "    n : int\n",
    "        Number of samples\n",
    "\n",
    "    Returns\n",
    "    -------\n",
    "    sample : floats\n",
    "        n x 3 array of floats samples from the prior\n",
    "    \"\"\"\n",
    "\n",
    "    # Sample model parameters given prior distributions\n",
    "    alpha_s = np.random.uniform(size=(n))\n",
    "   # b = np.random.uniform(low=0, high=10, size=(n))\n",
    "    \n",
    "    return np.array([alpha_s]).T\n",
    "# end function"
   ]
  },
  {
   "cell_type": "markdown",
   "metadata": {},
   "source": [
    "Define the ```approxposterior``` parameters."
   ]
  },
  {
   "cell_type": "code",
   "execution_count": 16,
   "metadata": {},
   "outputs": [],
   "source": [
    "# Define algorithm parameters\n",
    "m0 = 5                           # Initial size of training set\n",
    "m = 5                            # Number of new points to find each iteration\n",
    "nmax = 5                          # Maximum number of iterations\n",
    "bounds = [(0,1)]    # Prior bounds\n",
    "algorithm = \"bape\"                # Use the Kandasamy et al. (2017) formalism\n",
    "\n",
    "# emcee MCMC parameters: Use the same MCMC parameters as the emcee-only analysis\n",
    "samplerKwargs = {\"nwalkers\" : 5}  # emcee.EnsembleSampler parameters\n",
    "mcmcKwargs = {\"iterations\" : 100} # emcee.EnsembleSampler.run_mcmc parameters\n",
    "\n",
    "# Data and uncertainties that we use to condition our model\n",
    "args = (x, obs, obserr)"
   ]
  },
  {
   "cell_type": "markdown",
   "metadata": {},
   "source": [
    "Here we create the initial training set by running the true forward model $m_0$ times.  ```approxposterior``` learns on this training set and, each iteration, runs the forward model $m$ additional times in regions of parameter space that will most improve its owns predictive performance, iteratively improving the posterior distribution estimate."
   ]
  },
  {
   "cell_type": "code",
   "execution_count": 17,
   "metadata": {},
   "outputs": [
    {
     "name": "stdout",
     "output_type": "stream",
     "text": [
      "Working on 0/1 designs\n"
     ]
    },
    {
     "name": "stderr",
     "output_type": "stream",
     "text": [
      "/Users/dananjayaliyanage/miniconda3/envs/parton_loss/lib/python3.6/site-packages/scipy/integrate/_ode.py:1180: UserWarning: dopri5: step size becomes too small\n",
      "  self.messages.get(istate, unexpected_istate_msg)))\n",
      "/Users/dananjayaliyanage/miniconda3/envs/parton_loss/lib/python3.6/site-packages/scipy/integrate/_ode.py:1180: UserWarning: dopri5: larger nsteps is needed\n",
      "  self.messages.get(istate, unexpected_istate_msg)))\n",
      "/Users/dananjayaliyanage/git/parton_energy_loss_qcd_bjorken/solver_rk.py:78: IntegrationWarning: The integral is probably divergent, or slowly convergent.\n",
      "  res_quad2b=scipy.integrate.quad(lambda u, p=p: p*integrand_middle(p,u), 0, delta, limit=npts, epsabs=epsabs, epsrel=epsrel)\n",
      "/Users/dananjayaliyanage/git/parton_energy_loss_qcd_bjorken/solver_rk.py:73: IntegrationWarning: The integral is probably divergent, or slowly convergent.\n",
      "  res_quad2a=scipy.integrate.quad(vec_integrand, pmin, p, limit=npts, epsabs=epsabs, epsrel=epsrel)\n"
     ]
    },
    {
     "name": "stdout",
     "output_type": "stream",
     "text": [
      "Shape of the result array is (1, 10)\n",
      "Working on 0/1 designs\n",
      "Shape of the result array is (1, 10)\n",
      "Working on 0/1 designs\n",
      "Shape of the result array is (1, 10)\n",
      "Working on 0/1 designs\n"
     ]
    },
    {
     "name": "stderr",
     "output_type": "stream",
     "text": [
      "/Users/dananjayaliyanage/git/parton_energy_loss_qcd_bjorken/solver_rk.py:42: RuntimeWarning: invalid value encountered in log\n",
      "  log_P_g_prev=np.log(P_g)\n",
      "/Users/dananjayaliyanage/git/parton_energy_loss_qcd_bjorken/solver_rk.py:74: IntegrationWarning: The occurrence of roundoff error is detected, which prevents \n",
      "  the requested tolerance from being achieved.  The error may be \n",
      "  underestimated.\n",
      "  res_quad2c=scipy.integrate.quad(vec_integrand, p, pmax, limit=npts, epsabs=epsabs, epsrel=epsrel)\n",
      "/Users/dananjayaliyanage/git/parton_energy_loss_qcd_bjorken/solver_rk.py:79: IntegrationWarning: The occurrence of roundoff error is detected, which prevents \n",
      "  the requested tolerance from being achieved.  The error may be \n",
      "  underestimated.\n",
      "  res_quad2c=scipy.integrate.quad(vec_integrand, p*(1+delta), pmax, limit=npts, epsabs=epsabs, epsrel=epsrel)\n",
      "/Users/dananjayaliyanage/git/parton_energy_loss_qcd_bjorken/solver_rk.py:78: IntegrationWarning: The occurrence of roundoff error is detected, which prevents \n",
      "  the requested tolerance from being achieved.  The error may be \n",
      "  underestimated.\n",
      "  res_quad2b=scipy.integrate.quad(lambda u, p=p: p*integrand_middle(p,u), 0, delta, limit=npts, epsabs=epsabs, epsrel=epsrel)\n",
      "/Users/dananjayaliyanage/git/parton_energy_loss_qcd_bjorken/solver_rk.py:77: IntegrationWarning: The occurrence of roundoff error is detected, which prevents \n",
      "  the requested tolerance from being achieved.  The error may be \n",
      "  underestimated.\n",
      "  res_quad2a=scipy.integrate.quad(vec_integrand, pmin, p*(1-delta), limit=npts, epsabs=epsabs, epsrel=epsrel)\n",
      "/Users/dananjayaliyanage/git/parton_energy_loss_qcd_bjorken/solver_rk.py:73: IntegrationWarning: The occurrence of roundoff error is detected, which prevents \n",
      "  the requested tolerance from being achieved.  The error may be \n",
      "  underestimated.\n",
      "  res_quad2a=scipy.integrate.quad(vec_integrand, pmin, p, limit=npts, epsabs=epsabs, epsrel=epsrel)\n",
      "/Users/dananjayaliyanage/git/parton_energy_loss_qcd_bjorken/solver_rk.py:74: IntegrationWarning: Extremely bad integrand behavior occurs at some points of the\n",
      "  integration interval.\n",
      "  res_quad2c=scipy.integrate.quad(vec_integrand, p, pmax, limit=npts, epsabs=epsabs, epsrel=epsrel)\n",
      "/Users/dananjayaliyanage/git/parton_energy_loss_qcd_bjorken/solver_rk.py:73: IntegrationWarning: Extremely bad integrand behavior occurs at some points of the\n",
      "  integration interval.\n",
      "  res_quad2a=scipy.integrate.quad(vec_integrand, pmin, p, limit=npts, epsabs=epsabs, epsrel=epsrel)\n"
     ]
    },
    {
     "name": "stdout",
     "output_type": "stream",
     "text": [
      "Shape of the result array is (1, 10)\n",
      "Working on 0/1 designs\n",
      "Shape of the result array is (1, 10)\n"
     ]
    }
   ],
   "source": [
    "# Create a training set to condition the GP\n",
    "\n",
    "# Randomly sample initial conditions from the prior\n",
    "theta = np.array(sampleFunction(m0))\n",
    "\n",
    "# Evaluate forward model to compute log likelihood + lnprior for each theta\n",
    "y = list()\n",
    "for ii in range(len(theta)):\n",
    "    y.append(logLikelihood(theta[ii], *args) + logPrior(theta[ii]))\n",
    "y = np.array(y)\n",
    "\n",
    "# We'll create the initial GP using approxposterior's built-in default\n",
    "# initialization.  This default typically works well in many applications.\n",
    "gp = gpu.defaultGP(theta, y)"
   ]
  },
  {
   "cell_type": "markdown",
   "metadata": {},
   "source": [
    "Now initialize the ```ApproxPosterior``` object and we're ready to go!"
   ]
  },
  {
   "cell_type": "code",
   "execution_count": 18,
   "metadata": {},
   "outputs": [],
   "source": [
    "ap = approx.ApproxPosterior(theta=theta,                   # Initial model parameters for inputs\n",
    "                            y=y,                           # Logprobability of each input\n",
    "                            gp=gp,                         # Initialize Gaussian Process\n",
    "                            lnprior=logPrior,              # logprior function\n",
    "                            lnlike=logLikelihood,          # loglikelihood function\n",
    "                            priorSample=sampleFunction,    # Prior sample function\n",
    "                            algorithm=algorithm,           # bape, agp, or alternate\n",
    "                            bounds=bounds)                 # Parameter bounds"
   ]
  },
  {
   "cell_type": "markdown",
   "metadata": {},
   "source": [
    "Run ```approxposterior```! Note that we set cache to False so ```approxposterior``` only saves the most recent sampler and MCMC chain instead of saving each full MCMC chain to a local HD5f file (see emcee v3 documentation for more details on how emcee caches data)."
   ]
  },
  {
   "cell_type": "code",
   "execution_count": 19,
   "metadata": {},
   "outputs": [
    {
     "name": "stderr",
     "output_type": "stream",
     "text": [
      "\r",
      "  0%|          | 0/5 [00:00<?, ?it/s]"
     ]
    },
    {
     "name": "stdout",
     "output_type": "stream",
     "text": [
      "Working on 0/1 designs\n"
     ]
    },
    {
     "name": "stderr",
     "output_type": "stream",
     "text": [
      "\r",
      " 20%|██        | 1/5 [00:10<00:42, 10.65s/it]"
     ]
    },
    {
     "name": "stdout",
     "output_type": "stream",
     "text": [
      "Shape of the result array is (1, 10)\n",
      "hyperparameters [-29.04936258 -10.74994686]\n",
      "Working on 0/1 designs\n"
     ]
    },
    {
     "name": "stderr",
     "output_type": "stream",
     "text": [
      "\r",
      " 40%|████      | 2/5 [00:38<01:02, 20.67s/it]"
     ]
    },
    {
     "name": "stdout",
     "output_type": "stream",
     "text": [
      "Shape of the result array is (1, 10)\n",
      "hyperparameters [-28.93833286  -9.67564253]\n",
      "Working on 0/1 designs\n"
     ]
    },
    {
     "name": "stderr",
     "output_type": "stream",
     "text": [
      "\r",
      " 60%|██████    | 3/5 [00:49<00:32, 16.19s/it]"
     ]
    },
    {
     "name": "stdout",
     "output_type": "stream",
     "text": [
      "Shape of the result array is (1, 10)\n",
      "hyperparameters [-28.89970903  -9.50193808]\n",
      "Working on 0/1 designs\n"
     ]
    },
    {
     "name": "stderr",
     "output_type": "stream",
     "text": [
      "\r",
      " 80%|████████  | 4/5 [01:00<00:14, 14.10s/it]"
     ]
    },
    {
     "name": "stdout",
     "output_type": "stream",
     "text": [
      "Shape of the result array is (1, 10)\n",
      "hyperparameters [-27.63342225  -9.12127105]\n",
      "Working on 0/1 designs\n"
     ]
    },
    {
     "name": "stderr",
     "output_type": "stream",
     "text": [
      "100%|██████████| 5/5 [01:10<00:00, 14.14s/it]\n",
      "  0%|          | 0/5 [00:00<?, ?it/s]"
     ]
    },
    {
     "name": "stdout",
     "output_type": "stream",
     "text": [
      "Shape of the result array is (1, 10)\n",
      "hyperparameters [-27.6606607   -9.20008233]\n",
      "Working on 0/1 designs\n"
     ]
    },
    {
     "name": "stderr",
     "output_type": "stream",
     "text": [
      "\r",
      " 20%|██        | 1/5 [00:10<00:42, 10.52s/it]"
     ]
    },
    {
     "name": "stdout",
     "output_type": "stream",
     "text": [
      "Shape of the result array is (1, 10)\n",
      "hyperparameters [-27.26110309  -8.2732963 ]\n",
      "Working on 0/1 designs\n"
     ]
    },
    {
     "name": "stderr",
     "output_type": "stream",
     "text": [
      "\r",
      " 40%|████      | 2/5 [00:20<00:31, 10.42s/it]"
     ]
    },
    {
     "name": "stdout",
     "output_type": "stream",
     "text": [
      "Shape of the result array is (1, 10)\n",
      "hyperparameters [-26.3040774   -8.17147804]\n",
      "Working on 0/1 designs\n"
     ]
    },
    {
     "name": "stderr",
     "output_type": "stream",
     "text": [
      "\r",
      " 60%|██████    | 3/5 [00:31<00:21, 10.51s/it]"
     ]
    },
    {
     "name": "stdout",
     "output_type": "stream",
     "text": [
      "Shape of the result array is (1, 10)\n",
      "hyperparameters [-26.32986364  -8.46651641]\n",
      "Working on 0/1 designs\n"
     ]
    },
    {
     "name": "stderr",
     "output_type": "stream",
     "text": [
      "\r",
      " 80%|████████  | 4/5 [02:30<00:53, 53.17s/it]"
     ]
    },
    {
     "name": "stdout",
     "output_type": "stream",
     "text": [
      "Shape of the result array is (1, 10)\n",
      "hyperparameters [-25.57637917  -8.31296651]\n",
      "Working on 0/1 designs\n"
     ]
    },
    {
     "name": "stderr",
     "output_type": "stream",
     "text": [
      "100%|██████████| 5/5 [02:40<00:00, 32.11s/it]"
     ]
    },
    {
     "name": "stdout",
     "output_type": "stream",
     "text": [
      "Shape of the result array is (1, 10)\n",
      "hyperparameters [-26.08185694  -8.26547881]\n"
     ]
    },
    {
     "name": "stderr",
     "output_type": "stream",
     "text": [
      "\n"
     ]
    }
   ],
   "source": [
    "# Run!\n",
    "ap.run(m=m, nmax=nmax,estBurnin=True, mcmcKwargs=mcmcKwargs, cache=False,\n",
    "       samplerKwargs=samplerKwargs, verbose=False, args=args, onlyLastMCMC=True,\n",
    "       seed=seed)"
   ]
  },
  {
   "cell_type": "markdown",
   "metadata": {},
   "source": [
    "As before, let's plot the joint and marginal posterior probability distributions to see how ```approxposterior``` did. In addition, as red points, we'll plot where ```approxposterior``` decided to evaluate the forward model to improve its own performance.  As you'll see below, ```approxposterior``` preferentially runs the forward model in regions of high posterior probability density - it doesn't waste time on low likelihood regions of parameter space!"
   ]
  },
  {
   "cell_type": "code",
   "execution_count": 29,
   "metadata": {},
   "outputs": [],
   "source": [
    "samples = ap.sampler.get_chain(discard=ap.iburns[-1], flat=True, thin=ap.ithins[-1])\n",
    "\n"
   ]
  },
  {
   "cell_type": "code",
   "execution_count": 40,
   "metadata": {},
   "outputs": [
    {
     "data": {
      "image/png": "[encoded data removed]",
      "text/plain": [
       "<Figure size 244.8x244.8 with 1 Axes>"
      ]
     },
     "metadata": {
      "needs_background": "light"
     },
     "output_type": "display_data"
    }
   ],
   "source": [
    "samples = ap.sampler.get_chain(discard=ap.iburns[-1], flat=True, thin=ap.ithins[-1])\n",
    "#samples= ap.sampler.flatchain\n",
    "fig = corner.corner(samples, quantiles=[0.16, 0.5, 0.84], truths=[alpha_s_true],\n",
    "                    labels=[r\"$\\alpha_s$\"], show_titles=True, scale_hist=True);\n",
    "\n",
    "# Plot where forward model was evaluated\n",
    "fig.axes[0].scatter(ap.theta[:],y=np.zeros(shape=ap.theta.shape), s=8, color=\"red\", zorder=20);"
   ]
  },
  {
   "cell_type": "markdown",
   "metadata": {},
   "source": [
    "The predictions are close to the true MCMC!"
   ]
  },
  {
   "cell_type": "code",
   "execution_count": null,
   "metadata": {},
   "outputs": [],
   "source": []
  }
 ],
 "metadata": {
  "kernelspec": {
   "display_name": "Python 3",
   "language": "python",
   "name": "python3"
  },
  "language_info": {
   "codemirror_mode": {
    "name": "ipython",
    "version": 3
   },
   "file_extension": ".py",
   "mimetype": "text/x-python",
   "name": "python",
   "nbconvert_exporter": "python",
   "pygments_lexer": "ipython3",
   "version": "3.6.13"
  }
 },
 "nbformat": 4,
 "nbformat_minor": 4
}
