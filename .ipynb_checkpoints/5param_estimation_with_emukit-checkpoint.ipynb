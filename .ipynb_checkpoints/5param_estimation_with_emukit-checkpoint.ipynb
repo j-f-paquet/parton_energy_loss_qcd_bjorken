{
 "cells": [
  {
   "cell_type": "code",
   "execution_count": 1,
   "metadata": {},
   "outputs": [],
   "source": [
    "import numpy as np\n",
    "import matplotlib.pyplot as plt\n",
    "import run_simple_energy_loss"
   ]
  },
  {
   "cell_type": "code",
   "execution_count": 2,
   "metadata": {},
   "outputs": [],
   "source": [
    "simulation=run_simple_energy_loss.run_simulation"
   ]
  },
  {
   "cell_type": "code",
   "execution_count": 3,
   "metadata": {},
   "outputs": [],
   "source": [
    "pT_range = (1, 10, 10) # Compute more observable than needed to avoid boundry unstabilities.\n",
    "pT_obs = [3, 5, 7] # p_T Observables we will use for the analysis"
   ]
  },
  {
   "cell_type": "code",
   "execution_count": 4,
   "metadata": {},
   "outputs": [],
   "source": [
    "from emukit.core import ParameterSpace, ContinuousParameter"
   ]
  },
  {
   "cell_type": "code",
   "execution_count": 5,
   "metadata": {},
   "outputs": [],
   "source": [
    "prior_ranges= {'alpha_s':(0.05,0.5), 'exponent_inel':(-3,3), 'exponent_el':(-3,3), 'scale_inel':(0.1, 0.5), 'scale_el':(0.1, 0.5)}\n",
    "true_values= {'alpha_s': 0.2, 'exponent_inel': -1, 'exponent_el': 1, 'scale_inel': 0.3, 'scale_el': 0.3}\n",
    "name_to_position =  {'alpha_s':0, 'exponent_inel':1, 'exponent_el':2, 'scale_inel':3, 'scale_el':4}"
   ]
  },
  {
   "cell_type": "code",
   "execution_count": 6,
   "metadata": {},
   "outputs": [
    {
     "name": "stdout",
     "output_type": "stream",
     "text": [
      "[[ 0.2 -1.   1.   0.3  0.3]]\n"
     ]
    }
   ],
   "source": [
    "# We will generate observable for these model parametr values and consider them as experimental data\n",
    "truth = np.array(list(true_values.values())).reshape(1,-1)\n",
    "print(truth)"
   ]
  },
  {
   "cell_type": "code",
   "execution_count": 7,
   "metadata": {},
   "outputs": [
    {
     "name": "stdout",
     "output_type": "stream",
     "text": [
      "Working on 1/1 design\n"
     ]
    },
    {
     "name": "stderr",
     "output_type": "stream",
     "text": [
      "/Users/dananjayaliyanage/miniconda3/envs/parton_loss/lib/python3.6/site-packages/scipy/integrate/_ode.py:1180: UserWarning: dopri5: step size becomes too small\n",
      "  self.messages.get(istate, unexpected_istate_msg)))\n",
      "/Users/dananjayaliyanage/miniconda3/envs/parton_loss/lib/python3.6/site-packages/scipy/integrate/_ode.py:1180: UserWarning: dopri5: larger nsteps is needed\n",
      "  self.messages.get(istate, unexpected_istate_msg)))\n",
      "/Users/dananjayaliyanage/git/parton_energy_loss_qcd_bjorken/solver_rk.py:78: IntegrationWarning: The integral is probably divergent, or slowly convergent.\n",
      "  res_quad2b=scipy.integrate.quad(lambda u, p=p: p*integrand_middle(p,u), 0, delta, limit=npts, epsabs=epsabs, epsrel=epsrel)\n",
      "/Users/dananjayaliyanage/git/parton_energy_loss_qcd_bjorken/solver_rk.py:73: IntegrationWarning: The integral is probably divergent, or slowly convergent.\n",
      "  res_quad2a=scipy.integrate.quad(vec_integrand, pmin, p, limit=npts, epsabs=epsabs, epsrel=epsrel)\n"
     ]
    },
    {
     "data": {
      "text/plain": [
       "Text(0.5, 1.0, 'Experimental observations')"
      ]
     },
     "execution_count": 7,
     "metadata": {},
     "output_type": "execute_result"
    },
    {
     "data": {
      "image/png": "[encoded data removed]",
      "text/plain": [
       "<Figure size 576x576 with 1 Axes>"
      ]
     },
     "metadata": {
      "needs_background": "light"
     },
     "output_type": "display_data"
    }
   ],
   "source": [
    "# Set seed for reproducibility.\n",
    "seed = 42\n",
    "np.random.seed(seed)\n",
    "\n",
    "# Generate some synthetic data from the model.\n",
    "x = np.array(pT_obs)\n",
    "N = len(x)\n",
    "obserr = 0.05 # Amplitude of noise term\n",
    "obs = simulation(truth, *pT_range)[:,pT_obs] # True model\n",
    "obs += obserr * np.random.randn(N) # Add some random noise\n",
    "\n",
    "# Now plot it to see what the data looks like\n",
    "fig, ax = plt.subplots(figsize=(8,8))\n",
    "\n",
    "ax.errorbar(x.flatten(), obs.flatten(), yerr=obserr, fmt=\"xk\", capsize=0)\n",
    "#ax.plot(x.flatten(), obs.flatten(), \"k\", alpha=0.3, lw=3)\n",
    "#ax.set_xlim(0, 10)\n",
    "ax.set_xlabel(r\"$p_T$\")\n",
    "ax.set_ylabel(r\"$R_{AA}$\")\n",
    "ax.set_title('Experimental observations')"
   ]
  },
  {
   "cell_type": "code",
   "execution_count": 8,
   "metadata": {},
   "outputs": [],
   "source": [
    "parameter_space = ParameterSpace([ContinuousParameter('alpha_s', 0.05,0.5 ),\n",
    "                                  ContinuousParameter('exponent_inel', -3, 3),\n",
    "                                  ContinuousParameter('exponent_el', -3, 3),\n",
    "                                  ContinuousParameter('scale_inel', 0.1, 0.5),\n",
    "                                  ContinuousParameter('scale_el', 0.1, 0.5)])"
   ]
  },
  {
   "cell_type": "code",
   "execution_count": 9,
   "metadata": {},
   "outputs": [
    {
     "name": "stdout",
     "output_type": "stream",
     "text": [
      "Shape of X (5, 5)\n"
     ]
    }
   ],
   "source": [
    "from emukit.core.initial_designs import RandomDesign\n",
    "\n",
    "design = RandomDesign(parameter_space)\n",
    "num_data_points = 5\n",
    "X = design.get_samples(num_data_points)\n",
    "print(f'Shape of X {X.shape}')"
   ]
  },
  {
   "cell_type": "code",
   "execution_count": null,
   "metadata": {},
   "outputs": [],
   "source": []
  },
  {
   "cell_type": "code",
   "execution_count": 10,
   "metadata": {},
   "outputs": [],
   "source": [
    "def f(design, pT=pT_obs[0]):\n",
    "    \"\"\"returns simulation output for a design matrix\"\"\"\n",
    "    print(design)\n",
    "    observables=simulation(design,*pT_range)\n",
    "    #Let's just return only one obsrvable for now. The middle p_T bin\n",
    "    return observables[:,pT]\n",
    "\n",
    "def f1(design, pT=pT_obs[0]):\n",
    "    \"\"\"returns simulation output for a design matrix\"\"\"\n",
    "    print(design)\n",
    "    observables=simulation(design,*pT_range)\n",
    "    #Let's just return only one obsrvable for now. The middle p_T bin\n",
    "    return observables[:,pT].reshape(-1,1)\n",
    "\n",
    "def f2(design, pT=pT_obs[1]):\n",
    "    \"\"\"returns simulation output for a design matrix\"\"\"\n",
    "    print(design)\n",
    "    observables=simulation(design,*pT_range)\n",
    "    #Let's just return only one obsrvable for now. The middle p_T bin\n",
    "    return observables[:,pT].reshape(-1,1)\n",
    "\n",
    "def f3(design, pT=pT_obs[2]):\n",
    "    \"\"\"returns simulation output for a design matrix\"\"\"\n",
    "    print(design)\n",
    "    observables=simulation(design,*pT_range)\n",
    "    #Let's just return only one obsrvable for now. The middle p_T bin\n",
    "    return observables[:,pT].reshape(-1,1)\n",
    "\n",
    "fun=np.array([f1, f2, f3])"
   ]
  },
  {
   "cell_type": "code",
   "execution_count": 11,
   "metadata": {},
   "outputs": [
    {
     "name": "stdout",
     "output_type": "stream",
     "text": [
      "[[ 0.12020839  1.24843547 -1.9090502   0.21649166  0.28242799]\n",
      " [ 0.12019753 -2.87649303 -1.89957294  0.34474116  0.41407038]\n",
      " [ 0.07613763  2.81945911 -1.17454654  0.15579754  0.17986951]\n",
      " [ 0.43977927  1.99465584  0.14853859  0.21685786  0.30569378]\n",
      " [ 0.32050176 -1.72596534 -0.40832989  0.24654474  0.33696583]]\n",
      "Working on 1/5 design\n",
      "Working on 2/5 design\n",
      "Working on 3/5 design\n",
      "Working on 4/5 design\n",
      "Working on 5/5 design\n"
     ]
    }
   ],
   "source": [
    "#Generate 5 randome observables\n",
    "Y = f(X,pT_obs)"
   ]
  },
  {
   "cell_type": "code",
   "execution_count": 12,
   "metadata": {
    "scrolled": true
   },
   "outputs": [],
   "source": [
    "from GPy.kern import RBF, White\n",
    "from GPy.models import GPRegression\n",
    "from emukit.model_wrappers import GPyModelWrapper\n",
    "from multiprocessing import Pool"
   ]
  },
  {
   "cell_type": "markdown",
   "metadata": {},
   "source": [
    "### Let's build a emulator for each observable (3 in total) and query 5 points for each emulator at a time. "
   ]
  },
  {
   "cell_type": "code",
   "execution_count": 13,
   "metadata": {},
   "outputs": [
    {
     "name": "stdout",
     "output_type": "stream",
     "text": [
      "Optimization restart 1/4, f = -0.48784534191270446\n",
      "Optimization restart 2/4, f = -0.48784760650866454\n",
      "Optimization restart 3/4, f = -0.4878477036717852\n",
      "Optimization restart 4/4, f = -0.26780727257011927\n",
      "Optimization restart 1/4, f = -0.2049059519481764\n",
      "Optimization restart 2/4, f = 4.508961020778255\n",
      "Optimization restart 3/4, f = -0.20490607164568297\n",
      "Optimization restart 4/4, f = -0.20490151737849605\n",
      "Optimization restart 1/4, f = -0.11993094680461747\n",
      "Optimization restart 2/4, f = -0.11992438617154777\n",
      "Optimization restart 3/4, f = 0.20979190556308058\n",
      "Optimization restart 4/4, f = -0.11993240488602286\n"
     ]
    }
   ],
   "source": [
    "# size of possible variation of parameters\n",
    "ptp = np.array([prior_ranges['alpha_s'][1],prior_ranges['exponent_inel'][1],prior_ranges['exponent_el'][1],prior_ranges['scale_inel'][1],prior_ranges['scale_el'][1]])\\\n",
    "-np.array([prior_ranges['alpha_s'][0],prior_ranges['exponent_inel'][0],prior_ranges['exponent_el'][0],prior_ranges['scale_inel'][0],prior_ranges['scale_el'][0]])\n",
    "\n",
    "gp_array = []\n",
    "for i,pt in enumerate(pT_obs):\n",
    "    rbf_kern =      RBF(  input_dim=5,\n",
    "                          variance= 1,\n",
    "                          lengthscale=ptp,\n",
    "                          ARD=True)\n",
    "    my_kernel = rbf_kern\n",
    "    model_gpy = GPRegression(X=X,Y=Y[:, i].reshape(-1,1),kernel=my_kernel, noise_var=0.01**2)\n",
    "    model_gpy.optimize_restarts(num_restarts = 4)\n",
    "    model_emukit = GPyModelWrapper(model_gpy, n_restarts=4)\n",
    "    gp_array.append(model_emukit)"
   ]
  },
  {
   "cell_type": "code",
   "execution_count": null,
   "metadata": {},
   "outputs": [],
   "source": []
  },
  {
   "cell_type": "code",
   "execution_count": 14,
   "metadata": {},
   "outputs": [],
   "source": [
    "from emukit.experimental_design.acquisitions import IntegratedVarianceReduction, ModelVariance\n",
    "from emukit.experimental_design import ExperimentalDesignLoop"
   ]
  },
  {
   "cell_type": "code",
   "execution_count": 21,
   "metadata": {},
   "outputs": [
    {
     "name": "stdout",
     "output_type": "stream",
     "text": [
      "\n",
      "Name : GP regression\n",
      "Objective : -21.85004502407068\n",
      "Number of Parameters : 7\n",
      "Number of Optimization Parameters : 7\n",
      "Updates : True\n",
      "Parameters:\n",
      "  \u001b[1mGP_regression.         \u001b[0;0m  |                   value  |  constraints  |  priors\n",
      "  \u001b[1mrbf.variance           \u001b[0;0m  |      0.2292562297262161  |      +ve      |        \n",
      "  \u001b[1mrbf.lengthscale        \u001b[0;0m  |                    (5,)  |      +ve      |        \n",
      "  \u001b[1mGaussian_noise.variance\u001b[0;0m  |  1.5853361488130657e-11  |      +ve      |        \n",
      "\n",
      "Name : GP regression\n",
      "Objective : -10.358731214053568\n",
      "Number of Parameters : 7\n",
      "Number of Optimization Parameters : 7\n",
      "Updates : True\n",
      "Parameters:\n",
      "  \u001b[1mGP_regression.         \u001b[0;0m  |                   value  |  constraints  |  priors\n",
      "  \u001b[1mrbf.variance           \u001b[0;0m  |      0.5377110940247872  |      +ve      |        \n",
      "  \u001b[1mrbf.lengthscale        \u001b[0;0m  |                    (5,)  |      +ve      |        \n",
      "  \u001b[1mGaussian_noise.variance\u001b[0;0m  |  5.562684646268137e-309  |      +ve      |        \n",
      "\n",
      "Name : GP regression\n",
      "Objective : -12.5317031887674\n",
      "Number of Parameters : 7\n",
      "Number of Optimization Parameters : 7\n",
      "Updates : True\n",
      "Parameters:\n",
      "  \u001b[1mGP_regression.         \u001b[0;0m  |                   value  |  constraints  |  priors\n",
      "  \u001b[1mrbf.variance           \u001b[0;0m  |      0.2820109460535122  |      +ve      |        \n",
      "  \u001b[1mrbf.lengthscale        \u001b[0;0m  |                    (5,)  |      +ve      |        \n",
      "  \u001b[1mGaussian_noise.variance\u001b[0;0m  |  5.562684646268137e-309  |      +ve      |        \n"
     ]
    }
   ],
   "source": [
    "integrated_var = []\n",
    "for g in gp_array:\n",
    "    print(g.model)\n",
    "    integrated_var.append(IntegratedVarianceReduction(model = g, space=parameter_space))"
   ]
  },
  {
   "cell_type": "code",
   "execution_count": 16,
   "metadata": {},
   "outputs": [],
   "source": [
    "#from emukit.core.optimization import GradientAcquisitionOptimizer\n",
    "#optimizer = GradientAcquisitionOptimizer(parameter_space)"
   ]
  },
  {
   "cell_type": "code",
   "execution_count": 23,
   "metadata": {},
   "outputs": [
    {
     "data": {
      "text/plain": [
       "(32, 5)"
      ]
     },
     "execution_count": 23,
     "metadata": {},
     "output_type": "execute_result"
    }
   ],
   "source": [
    "gp_array[0].X.shape"
   ]
  },
  {
   "cell_type": "code",
   "execution_count": 22,
   "metadata": {},
   "outputs": [
    {
     "name": "stdout",
     "output_type": "stream",
     "text": [
      "Trainng 0 gp for R_AA at 3 GeV\n",
      "Optimization restart 1/4, f = -22.944514278356852\n",
      "Optimization restart 2/4, f = -22.944514212715248\n",
      "Optimization restart 3/4, f = -22.944514287851383\n",
      "Optimization restart 4/4, f = -22.94451431460548\n",
      "[[ 0.24320441  1.40901985 -1.99623379  0.40735965  0.35333315]\n",
      " [ 0.44975772 -1.0795544   0.9508947   0.2099045   0.18308162]\n",
      " [ 0.38784599 -1.62533934  1.00191795  0.40117084  0.37323676]\n",
      " [ 0.10944682  1.99640763  0.65080107  0.416237    0.34988796]\n",
      " [ 0.17245686  1.10805296  0.16102223  0.43624563  0.48623139]\n",
      " [ 0.28034569  1.51639597  1.42420895  0.38163902  0.36306057]\n",
      " [ 0.4563676  -0.65240671 -0.64605018  0.29501486  0.26115257]\n",
      " [ 0.11366165  0.93468645  0.54576858  0.28737469  0.31319496]\n",
      " [ 0.45142597  1.30725793 -1.51881694  0.26933315  0.28209294]\n",
      " [ 0.46110241  1.05422823  2.70400959  0.35335029  0.34761725]]\n",
      "Working on 1/10 design\n"
     ]
    },
    {
     "name": "stderr",
     "output_type": "stream",
     "text": [
      " /Users/dananjayaliyanage/miniconda3/envs/parton_loss/lib/python3.6/site-packages/scipy/integrate/_ode.py:1180: UserWarning:dopri5: step size becomes too small\n",
      " /Users/dananjayaliyanage/miniconda3/envs/parton_loss/lib/python3.6/site-packages/scipy/integrate/_ode.py:1180: UserWarning:dopri5: larger nsteps is needed\n",
      " /Users/dananjayaliyanage/git/parton_energy_loss_qcd_bjorken/solver_rk.py:78: IntegrationWarning:The integral is probably divergent, or slowly convergent.\n",
      " /Users/dananjayaliyanage/git/parton_energy_loss_qcd_bjorken/solver_rk.py:73: IntegrationWarning:The integral is probably divergent, or slowly convergent.\n"
     ]
    },
    {
     "name": "stdout",
     "output_type": "stream",
     "text": [
      "Working on 2/10 design\n",
      "Working on 3/10 design\n"
     ]
    },
    {
     "name": "stderr",
     "output_type": "stream",
     "text": [
      " /Users/dananjayaliyanage/git/parton_energy_loss_qcd_bjorken/solver_rk.py:42: RuntimeWarning:invalid value encountered in log\n",
      " /Users/dananjayaliyanage/git/parton_energy_loss_qcd_bjorken/solver_rk.py:74: IntegrationWarning:The occurrence of roundoff error is detected, which prevents \n",
      "  the requested tolerance from being achieved.  The error may be \n",
      "  underestimated.\n",
      " /Users/dananjayaliyanage/git/parton_energy_loss_qcd_bjorken/solver_rk.py:79: IntegrationWarning:The occurrence of roundoff error is detected, which prevents \n",
      "  the requested tolerance from being achieved.  The error may be \n",
      "  underestimated.\n",
      " /Users/dananjayaliyanage/git/parton_energy_loss_qcd_bjorken/solver_rk.py:77: IntegrationWarning:The occurrence of roundoff error is detected, which prevents \n",
      "  the requested tolerance from being achieved.  The error may be \n",
      "  underestimated.\n",
      " /Users/dananjayaliyanage/git/parton_energy_loss_qcd_bjorken/solver_rk.py:78: IntegrationWarning:The occurrence of roundoff error is detected, which prevents \n",
      "  the requested tolerance from being achieved.  The error may be \n",
      "  underestimated.\n",
      " /Users/dananjayaliyanage/git/parton_energy_loss_qcd_bjorken/solver_rk.py:73: IntegrationWarning:The occurrence of roundoff error is detected, which prevents \n",
      "  the requested tolerance from being achieved.  The error may be \n",
      "  underestimated.\n",
      " /Users/dananjayaliyanage/git/parton_energy_loss_qcd_bjorken/solver_rk.py:74: IntegrationWarning:Extremely bad integrand behavior occurs at some points of the\n",
      "  integration interval.\n",
      " /Users/dananjayaliyanage/git/parton_energy_loss_qcd_bjorken/solver_rk.py:73: IntegrationWarning:Extremely bad integrand behavior occurs at some points of the\n",
      "  integration interval.\n"
     ]
    },
    {
     "name": "stdout",
     "output_type": "stream",
     "text": [
      "Working on 4/10 design\n",
      "Working on 5/10 design\n",
      "Working on 6/10 design\n",
      "Working on 7/10 design\n",
      "Working on 8/10 design\n",
      "Working on 9/10 design\n",
      "Working on 10/10 design\n",
      "Optimization restart 1/4, f = -29.417903691957257\n",
      "Optimization restart 2/4, f = -33.63404655707051\n",
      "Optimization restart 3/4, f = -33.63404732463006\n",
      "Optimization restart 4/4, f = -29.417903736245634\n",
      "[[ 0.24320441  1.40901985 -1.99623379  0.40735965  0.35333315]\n",
      " [ 0.44975772 -1.0795544   0.9508947   0.2099045   0.18308162]\n",
      " [ 0.38784599 -1.62533934  1.00191795  0.40117084  0.37323676]\n",
      " [ 0.10944682  1.99640763  0.65080107  0.416237    0.34988796]\n",
      " [ 0.17245686  1.10805296  0.16102223  0.43624563  0.48623139]\n",
      " [ 0.28034569  1.51639597  1.42420895  0.38163902  0.36306057]\n",
      " [ 0.4563676  -0.65240671 -0.64605018  0.29501486  0.26115257]\n",
      " [ 0.11366165  0.93468645  0.54576858  0.28737469  0.31319496]\n",
      " [ 0.45142597  1.30725793 -1.51881694  0.26933315  0.28209294]\n",
      " [ 0.46110241  1.05422823  2.70400959  0.35335029  0.34761725]]\n",
      "Working on 1/10 design\n",
      "Working on 2/10 design\n",
      "Working on 3/10 design\n",
      "Working on 4/10 design\n",
      "Working on 5/10 design\n",
      "Working on 6/10 design\n",
      "Working on 7/10 design\n",
      "Working on 8/10 design\n",
      "Working on 9/10 design\n",
      "Working on 10/10 design\n",
      "\n",
      "Name : GP regression\n",
      "Objective : -33.63404732463006\n",
      "Number of Parameters : 7\n",
      "Number of Optimization Parameters : 7\n",
      "Updates : True\n",
      "Parameters:\n",
      "  \u001b[1mGP_regression.         \u001b[0;0m  |                  value  |  constraints  |  priors\n",
      "  \u001b[1mrbf.variance           \u001b[0;0m  |    0.25164266289703563  |      +ve      |        \n",
      "  \u001b[1mrbf.lengthscale        \u001b[0;0m  |                   (5,)  |      +ve      |        \n",
      "  \u001b[1mGaussian_noise.variance\u001b[0;0m  |  0.0008360264125385423  |      +ve      |        \n",
      "\n",
      "Name : GP regression\n",
      "Objective : -10.358731214053568\n",
      "Number of Parameters : 7\n",
      "Number of Optimization Parameters : 7\n",
      "Updates : True\n",
      "Parameters:\n",
      "  \u001b[1mGP_regression.         \u001b[0;0m  |                   value  |  constraints  |  priors\n",
      "  \u001b[1mrbf.variance           \u001b[0;0m  |      0.5377110940247872  |      +ve      |        \n",
      "  \u001b[1mrbf.lengthscale        \u001b[0;0m  |                    (5,)  |      +ve      |        \n",
      "  \u001b[1mGaussian_noise.variance\u001b[0;0m  |  5.562684646268137e-309  |      +ve      |        \n",
      "\n",
      "Name : GP regression\n",
      "Objective : -12.5317031887674\n",
      "Number of Parameters : 7\n",
      "Number of Optimization Parameters : 7\n",
      "Updates : True\n",
      "Parameters:\n",
      "  \u001b[1mGP_regression.         \u001b[0;0m  |                   value  |  constraints  |  priors\n",
      "  \u001b[1mrbf.variance           \u001b[0;0m  |      0.2820109460535122  |      +ve      |        \n",
      "  \u001b[1mrbf.lengthscale        \u001b[0;0m  |                    (5,)  |      +ve      |        \n",
      "  \u001b[1mGaussian_noise.variance\u001b[0;0m  |  5.562684646268137e-309  |      +ve      |        \n"
     ]
    },
    {
     "ename": "ValueError",
     "evalue": "all the input array dimensions for the concatenation axis must match exactly, but along dimension 1, the array at index 0 has size 1 and the array at index 1 has size 3",
     "output_type": "error",
     "traceback": [
      "\u001b[0;31m---------------------------------------------------------------------------\u001b[0m",
      "\u001b[0;31mValueError\u001b[0m                                Traceback (most recent call last)",
      "\u001b[0;32m<ipython-input-22-1823e79605e6>\u001b[0m in \u001b[0;36m<module>\u001b[0;34m\u001b[0m\n\u001b[1;32m     16\u001b[0m         \u001b[0;32mif\u001b[0m \u001b[0mk\u001b[0m\u001b[0;34m!=\u001b[0m\u001b[0mgp\u001b[0m\u001b[0;34m:\u001b[0m\u001b[0;34m\u001b[0m\u001b[0;34m\u001b[0m\u001b[0m\n\u001b[1;32m     17\u001b[0m             \u001b[0mX\u001b[0m \u001b[0;34m=\u001b[0m \u001b[0mnp\u001b[0m\u001b[0;34m.\u001b[0m\u001b[0mappend\u001b[0m\u001b[0;34m(\u001b[0m\u001b[0mgp_array\u001b[0m\u001b[0;34m[\u001b[0m\u001b[0mk\u001b[0m\u001b[0;34m]\u001b[0m\u001b[0;34m.\u001b[0m\u001b[0mX\u001b[0m\u001b[0;34m,\u001b[0m \u001b[0mX_latest\u001b[0m\u001b[0;34m,\u001b[0m \u001b[0maxis\u001b[0m\u001b[0;34m=\u001b[0m\u001b[0;36m0\u001b[0m\u001b[0;34m)\u001b[0m\u001b[0;34m\u001b[0m\u001b[0;34m\u001b[0m\u001b[0m\n\u001b[0;32m---> 18\u001b[0;31m             \u001b[0mY\u001b[0m \u001b[0;34m=\u001b[0m \u001b[0mnp\u001b[0m\u001b[0;34m.\u001b[0m\u001b[0mappend\u001b[0m\u001b[0;34m(\u001b[0m\u001b[0mgp_array\u001b[0m\u001b[0;34m[\u001b[0m\u001b[0mk\u001b[0m\u001b[0;34m]\u001b[0m\u001b[0;34m.\u001b[0m\u001b[0mY\u001b[0m\u001b[0;34m,\u001b[0m \u001b[0mY_latest\u001b[0m\u001b[0;34m,\u001b[0m \u001b[0maxis\u001b[0m\u001b[0;34m=\u001b[0m\u001b[0;36m0\u001b[0m\u001b[0;34m)\u001b[0m\u001b[0;34m\u001b[0m\u001b[0;34m\u001b[0m\u001b[0m\n\u001b[0m\u001b[1;32m     19\u001b[0m             \u001b[0mgp_array\u001b[0m\u001b[0;34m[\u001b[0m\u001b[0mk\u001b[0m\u001b[0;34m]\u001b[0m\u001b[0;34m.\u001b[0m\u001b[0mset_data\u001b[0m\u001b[0;34m(\u001b[0m\u001b[0mX\u001b[0m\u001b[0;34m,\u001b[0m \u001b[0mY\u001b[0m\u001b[0;34m)\u001b[0m\u001b[0;34m\u001b[0m\u001b[0;34m\u001b[0m\u001b[0m\n\u001b[1;32m     20\u001b[0m     \u001b[0;32mfor\u001b[0m \u001b[0mgiii\u001b[0m \u001b[0;32min\u001b[0m \u001b[0mgp_array\u001b[0m\u001b[0;34m:\u001b[0m\u001b[0;34m\u001b[0m\u001b[0;34m\u001b[0m\u001b[0m\n",
      "\u001b[0;32m<__array_function__ internals>\u001b[0m in \u001b[0;36mappend\u001b[0;34m(*args, **kwargs)\u001b[0m\n",
      "\u001b[0;32m~/miniconda3/envs/parton_loss/lib/python3.6/site-packages/numpy/lib/function_base.py\u001b[0m in \u001b[0;36mappend\u001b[0;34m(arr, values, axis)\u001b[0m\n\u001b[1;32m   4669\u001b[0m         \u001b[0mvalues\u001b[0m \u001b[0;34m=\u001b[0m \u001b[0mravel\u001b[0m\u001b[0;34m(\u001b[0m\u001b[0mvalues\u001b[0m\u001b[0;34m)\u001b[0m\u001b[0;34m\u001b[0m\u001b[0;34m\u001b[0m\u001b[0m\n\u001b[1;32m   4670\u001b[0m         \u001b[0maxis\u001b[0m \u001b[0;34m=\u001b[0m \u001b[0marr\u001b[0m\u001b[0;34m.\u001b[0m\u001b[0mndim\u001b[0m\u001b[0;34m-\u001b[0m\u001b[0;36m1\u001b[0m\u001b[0;34m\u001b[0m\u001b[0;34m\u001b[0m\u001b[0m\n\u001b[0;32m-> 4671\u001b[0;31m     \u001b[0;32mreturn\u001b[0m \u001b[0mconcatenate\u001b[0m\u001b[0;34m(\u001b[0m\u001b[0;34m(\u001b[0m\u001b[0marr\u001b[0m\u001b[0;34m,\u001b[0m \u001b[0mvalues\u001b[0m\u001b[0;34m)\u001b[0m\u001b[0;34m,\u001b[0m \u001b[0maxis\u001b[0m\u001b[0;34m=\u001b[0m\u001b[0maxis\u001b[0m\u001b[0;34m)\u001b[0m\u001b[0;34m\u001b[0m\u001b[0;34m\u001b[0m\u001b[0m\n\u001b[0m\u001b[1;32m   4672\u001b[0m \u001b[0;34m\u001b[0m\u001b[0m\n\u001b[1;32m   4673\u001b[0m \u001b[0;34m\u001b[0m\u001b[0m\n",
      "\u001b[0;32m<__array_function__ internals>\u001b[0m in \u001b[0;36mconcatenate\u001b[0;34m(*args, **kwargs)\u001b[0m\n",
      "\u001b[0;31mValueError\u001b[0m: all the input array dimensions for the concatenation axis must match exactly, but along dimension 1, the array at index 0 has size 1 and the array at index 1 has size 3"
     ]
    }
   ],
   "source": [
    "for i in range(0,10):\n",
    "#model_variance = ModelVariance(model = model_emukit)\n",
    "    gp = i%3\n",
    "    print (f'Trainng {gp} gp for R_AA at {pT_obs[gp]} GeV')\n",
    "    integrated_var = IntegratedVarianceReduction(model = gp_array[gp], space=parameter_space)\n",
    "    expdesign_loop = ExperimentalDesignLoop(model = gp_array[gp],\n",
    "                                         space = parameter_space,\n",
    "                                         acquisition = integrated_var,\n",
    "                                         batch_size = 10)\n",
    "    ed=expdesign_loop.run_loop(fun[gp],1)\n",
    "    X_latest=gp_array[gp].X[-10:,:]\n",
    "    Y_latest= f(X_latest, pT=pT_obs)         \n",
    "    for k in range(0,3):\n",
    "        if k!=gp:\n",
    "            X = np.append(gp_array[k].X, X_latest, axis=0)\n",
    "            Y = np.append(gp_array[k].Y, Y_latest[k], axis=0)\n",
    "            gp_array[k].set_data(X, Y)\n",
    "            gp_array[k].optimize()"
   ]
  },
  {
   "cell_type": "code",
   "execution_count": null,
   "metadata": {},
   "outputs": [],
   "source": [
    "model_emukit.predict(X=np.array(truth).reshape(1,-1))"
   ]
  },
  {
   "cell_type": "code",
   "execution_count": null,
   "metadata": {},
   "outputs": [],
   "source": [
    "truth = list(true_values.values())\n",
    "print(truth)\n",
    "obs_1,_ = model_emukit.predict(X=np.array(truth).reshape(1,-1))\n",
    "print(obs_1)\n",
    "#deg_obs_2 = simulation(second_mean, *pT_range)[:,pT_obs]\n",
    "# Now plot it to see what the data looks like\n",
    "fig, ax = plt.subplots(figsize=(8,8))\n",
    "\n",
    "ax.errorbar(x.flatten(), obs.flatten(), yerr=obserr, fmt=\"xk\", capsize=0, elinewidth=1)\n",
    "ax.scatter(x.flatten(), obs_1.flatten(), label ='prediction' )\n",
    "#ax.scatter(x.flatten(), deg_obs_2.flatten(), label ='2nd Degenerate mean prediction' )\n",
    "#ax.plot(x.flatten(), obs.flatten(), \"k\", alpha=0.3, lw=3)\n",
    "#ax.set_xlim(0, 10)\n",
    "ax.set_xlabel(r\"$p_T$\")\n",
    "ax.set_ylabel(r\"$R_{AA}$\")\n",
    "ax.set_title('Simulation MAP predictions')\n",
    "ax.legend()"
   ]
  },
  {
   "cell_type": "code",
   "execution_count": null,
   "metadata": {},
   "outputs": [],
   "source": [
    "# truth = list(true_values.values())\n",
    "# for i,param in enumerate(list(prior_ranges.keys())):\n",
    "#     x = np.linspace(*prior_ranges[param],100)\n",
    "#     y = []\n",
    "#     for xx in x:\n",
    "#         parameters = np.array(truth).reshape(1,-1)\n",
    "#         parameters[0,i] = xx\n",
    "#         parameters=parameters\n",
    "#         print(parameters)\n",
    "#         mu_plot, var_plot = model_emukit.predict(parameters)\n",
    "#         print(mu_plot)\n",
    "#         y.append(mu_plot)\n",
    "#     y= np.array(y).reshape(-1,)\n",
    "#     fig, ax = plt.subplots()\n",
    "#     ax.plot(x,y)\n",
    "#     ax.set_xlabel(param)\n",
    "#     ax.set_ylabel('R_AA at 5 GeV')\n",
    "#     fig.savefig(f'figures/{param}_emukit_prediction.png', dpi =50)\n"
   ]
  }
 ],
 "metadata": {
  "kernelspec": {
   "display_name": "Python 3",
   "language": "python",
   "name": "python3"
  },
  "language_info": {
   "codemirror_mode": {
    "name": "ipython",
    "version": 3
   },
   "file_extension": ".py",
   "mimetype": "text/x-python",
   "name": "python",
   "nbconvert_exporter": "python",
   "pygments_lexer": "ipython3",
   "version": "3.6.13"
  }
 },
 "nbformat": 4,
 "nbformat_minor": 4
}
