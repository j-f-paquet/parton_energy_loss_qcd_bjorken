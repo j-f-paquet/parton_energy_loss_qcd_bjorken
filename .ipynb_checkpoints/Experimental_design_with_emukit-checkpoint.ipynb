{
 "cells": [
  {
   "cell_type": "code",
   "execution_count": 1,
   "metadata": {},
   "outputs": [],
   "source": [
    "import numpy as np\n",
    "import matplotlib.pyplot as plt\n",
    "import run_simple_energy_loss"
   ]
  },
  {
   "cell_type": "markdown",
   "metadata": {},
   "source": [
    "#### Next we will load the simulation. \n",
    " - It will take a numpy array with dimension M x N as input.\n",
    "    - M number of design points\n",
    "    - N number of model parameters of the model\n",
    " - It will return a M x P numpy array.\n",
    "     - M number of design points\n",
    "     - P number of Momentem bins"
   ]
  },
  {
   "cell_type": "code",
   "execution_count": 2,
   "metadata": {},
   "outputs": [],
   "source": [
    "simulation=run_simple_energy_loss.run_simulation"
   ]
  },
  {
   "cell_type": "markdown",
   "metadata": {},
   "source": [
    "#### Make a design matrix\n",
    "\n",
    "There are 4 parameters currently taken as model parameters. \n",
    " - Initialization\n",
    "     - T0_in_GeV (deafult value 0.3)\n",
    "     - tau0 (deafult value 0.2)\n",
    "     - Tf_in_GeV (deafult value 0.15)\n",
    " - Parton Energy loss rates\n",
    "     - alpha_s (deafult value 0.1)"
   ]
  },
  {
   "cell_type": "code",
   "execution_count": 3,
   "metadata": {},
   "outputs": [],
   "source": [
    "hbarc=0.1973\n",
    "n_design = 5"
   ]
  },
  {
   "cell_type": "code",
   "execution_count": 4,
   "metadata": {},
   "outputs": [
    {
     "name": "stdout",
     "output_type": "stream",
     "text": [
      "Shape of the design is (5, 4)\n"
     ]
    }
   ],
   "source": [
    "# design for alpha_s parameter\n",
    "T0_in_fm = np.full((n_design,1), 0.3)\n",
    "tau0 = np.full((n_design,1), 0.2)\n",
    "Tf_in_fm = np.full((n_design,1), 0.15)\n",
    "\n",
    "# We will only consider the change in modle parameter for now\n",
    "alpha_s = np.linspace(0.01,1,n_design).reshape(-1,1)\n",
    "\n",
    "#N_f = np.full((n_design,1), 0)\n",
    "#N_c = np.full((n_design,1), 3)\n",
    "\n",
    "design = np.vstack([T0_in_fm.T, tau0.T, Tf_in_fm.T, alpha_s.T])\n",
    "\n",
    "# design matrix has to have M by N shape. Rows should be design points\n",
    "\n",
    "design = design.T\n",
    "print(f'Shape of the design is {design.shape}')"
   ]
  },
  {
   "cell_type": "markdown",
   "metadata": {},
   "source": [
    "#### Run simulation for the 20 design points"
   ]
  },
  {
   "cell_type": "code",
   "execution_count": null,
   "metadata": {},
   "outputs": [
    {
     "name": "stdout",
     "output_type": "stream",
     "text": [
      "Working on 0/5 designs\n"
     ]
    },
    {
     "name": "stderr",
     "output_type": "stream",
     "text": [
      "/Users/dananjayaliyanage/miniconda3/envs/sensitivity/lib/python3.7/site-packages/scipy/integrate/_ode.py:1177: UserWarning: dopri5: step size becomes too small\n",
      "  self.messages.get(istate, unexpected_istate_msg)))\n",
      "/Users/dananjayaliyanage/miniconda3/envs/sensitivity/lib/python3.7/site-packages/scipy/integrate/_ode.py:1177: UserWarning: dopri5: larger nsteps is needed\n",
      "  self.messages.get(istate, unexpected_istate_msg)))\n",
      "/Users/dananjayaliyanage/git/parton_energy_loss_qcd_bjorken/solver_rk.py:78: IntegrationWarning: The integral is probably divergent, or slowly convergent.\n",
      "  res_quad2b=scipy.integrate.quad(lambda u, p=p: p*integrand_middle(p,u), 0, delta, limit=npts, epsabs=epsabs, epsrel=epsrel)\n",
      "/Users/dananjayaliyanage/git/parton_energy_loss_qcd_bjorken/solver_rk.py:73: IntegrationWarning: The integral is probably divergent, or slowly convergent.\n",
      "  res_quad2a=scipy.integrate.quad(vec_integrand, pmin, p, limit=npts, epsabs=epsabs, epsrel=epsrel)\n"
     ]
    },
    {
     "name": "stdout",
     "output_type": "stream",
     "text": [
      "Working on 1/5 designs\n",
      "Working on 2/5 designs\n",
      "Working on 3/5 designs\n"
     ]
    },
    {
     "name": "stderr",
     "output_type": "stream",
     "text": [
      "/Users/dananjayaliyanage/git/parton_energy_loss_qcd_bjorken/solver_rk.py:42: RuntimeWarning: invalid value encountered in log\n",
      "  log_P_g_prev=np.log(P_g)\n",
      "/Users/dananjayaliyanage/git/parton_energy_loss_qcd_bjorken/solver_rk.py:74: IntegrationWarning: The occurrence of roundoff error is detected, which prevents \n",
      "  the requested tolerance from being achieved.  The error may be \n",
      "  underestimated.\n",
      "  res_quad2c=scipy.integrate.quad(vec_integrand, p, pmax, limit=npts, epsabs=epsabs, epsrel=epsrel)\n",
      "/Users/dananjayaliyanage/git/parton_energy_loss_qcd_bjorken/solver_rk.py:79: IntegrationWarning: The occurrence of roundoff error is detected, which prevents \n",
      "  the requested tolerance from being achieved.  The error may be \n",
      "  underestimated.\n",
      "  res_quad2c=scipy.integrate.quad(vec_integrand, p*(1+delta), pmax, limit=npts, epsabs=epsabs, epsrel=epsrel)\n",
      "/Users/dananjayaliyanage/git/parton_energy_loss_qcd_bjorken/solver_rk.py:78: IntegrationWarning: The occurrence of roundoff error is detected, which prevents \n",
      "  the requested tolerance from being achieved.  The error may be \n",
      "  underestimated.\n",
      "  res_quad2b=scipy.integrate.quad(lambda u, p=p: p*integrand_middle(p,u), 0, delta, limit=npts, epsabs=epsabs, epsrel=epsrel)\n",
      "/Users/dananjayaliyanage/git/parton_energy_loss_qcd_bjorken/solver_rk.py:77: IntegrationWarning: The occurrence of roundoff error is detected, which prevents \n",
      "  the requested tolerance from being achieved.  The error may be \n",
      "  underestimated.\n",
      "  res_quad2a=scipy.integrate.quad(vec_integrand, pmin, p*(1-delta), limit=npts, epsabs=epsabs, epsrel=epsrel)\n",
      "/Users/dananjayaliyanage/git/parton_energy_loss_qcd_bjorken/solver_rk.py:73: IntegrationWarning: The occurrence of roundoff error is detected, which prevents \n",
      "  the requested tolerance from being achieved.  The error may be \n",
      "  underestimated.\n",
      "  res_quad2a=scipy.integrate.quad(vec_integrand, pmin, p, limit=npts, epsabs=epsabs, epsrel=epsrel)\n",
      "/Users/dananjayaliyanage/git/parton_energy_loss_qcd_bjorken/solver_rk.py:74: IntegrationWarning: Extremely bad integrand behavior occurs at some points of the\n",
      "  integration interval.\n",
      "  res_quad2c=scipy.integrate.quad(vec_integrand, p, pmax, limit=npts, epsabs=epsabs, epsrel=epsrel)\n",
      "/Users/dananjayaliyanage/git/parton_energy_loss_qcd_bjorken/solver_rk.py:73: IntegrationWarning: Extremely bad integrand behavior occurs at some points of the\n",
      "  integration interval.\n",
      "  res_quad2a=scipy.integrate.quad(vec_integrand, pmin, p, limit=npts, epsabs=epsabs, epsrel=epsrel)\n"
     ]
    },
    {
     "name": "stdout",
     "output_type": "stream",
     "text": [
      "Working on 4/5 designs\n"
     ]
    }
   ],
   "source": [
    "%%time\n",
    "p_mom=(1, 25, 25)\n",
    "observables=simulation(design,*p_mom)"
   ]
  },
  {
   "cell_type": "code",
   "execution_count": null,
   "metadata": {},
   "outputs": [],
   "source": [
    "# Plot the observables\n",
    "show_obs=[0,1,2,3,8,10,15,18]\n",
    "design_alpha=alpha_s.T\n",
    "pt_list = np.linspace(*p_mom)\n",
    "fig, ax = plt.subplots()\n",
    "for i,pT in enumerate(pt_list):\n",
    "    if i in show_obs:\n",
    "        ax.plot(design_alpha.flatten(),observables[:,i], label=r'$p_T =$' +f'{pT:.2f} GeV')\n",
    "\n",
    "ax.set_xlabel(r'$\\alpha_s$')\n",
    "ax.set_ylabel(r'$R_\\{AA\\}$')\n",
    "ax.legend(loc='upper center', bbox_to_anchor=(0.5, -0.2),shadow=True, ncol=3)"
   ]
  },
  {
   "cell_type": "code",
   "execution_count": null,
   "metadata": {},
   "outputs": [],
   "source": [
    "# plot R_AA vs p_T for different alpha_s values\n",
    "design_alpha=alpha_s.T\n",
    "pt_list = np.linspace(*p_mom)\n",
    "fig, ax = plt.subplots()\n",
    "for i,alpha in enumerate(design_alpha.flatten()):\n",
    "    ax.plot(pt_list, observables[i,:], label=r'$\\alpha_s $' +f' = {alpha:.2f} ')\n",
    "ax.set_xticks(np.arange(min(pt_list), max(pt_list)+1, 1.0))\n",
    "ax.set_xlabel(r'$p_T$' + ' (GeV)')\n",
    "ax.set_ylabel(r'$R_{AA}$')\n",
    "ax.legend(loc='upper right',shadow=True, ncol=3)"
   ]
  }
 ],
 "metadata": {
  "kernelspec": {
   "display_name": "Python 3",
   "language": "python",
   "name": "python3"
  },
  "language_info": {
   "codemirror_mode": {
    "name": "ipython",
    "version": 3
   },
   "file_extension": ".py",
   "mimetype": "text/x-python",
   "name": "python",
   "nbconvert_exporter": "python",
   "pygments_lexer": "ipython3",
   "version": "3.6.13"
  }
 },
 "nbformat": 4,
 "nbformat_minor": 4
}
