{
 "cells": [
  {
   "cell_type": "markdown",
   "metadata": {
    "tags": []
   },
   "source": [
    "## ApproxPosterior (Test Function 1: Branin and Lim)\n",
    "Query efficient posterior estimation in scientific experiments via Bayesian active learning.pdf   \n",
    "https://dflemin3.github.io/approxposterior/tutorial.html?highlight=estburnin   \n",
    "https://github.com/j-f-paquet/parton_energy_loss_qcd_bjorken/blob/main/5parameter_estimation_with_approxposterior.ipynb"
   ]
  },
  {
   "cell_type": "code",
   "execution_count": 1,
   "metadata": {},
   "outputs": [],
   "source": [
    "import numpy as np\n",
    "true_param = np.array([0.2,0.8]).reshape(1,2)\n",
    "prior_ranges= {'x1':(0,1), 'x2':(0,1)}\n",
    "true_values= {'x1': true_param[0][0], 'x2': true_param[0][1]}"
   ]
  },
  {
   "cell_type": "code",
   "execution_count": 2,
   "metadata": {},
   "outputs": [],
   "source": [
    "import emcee\n",
    "from scipy.optimize import minimize\n",
    "import corner\n",
    "import ptemcee\n",
    "import subprocess\n",
    "import pandas as pd\n",
    "import matplotlib.pyplot as plt\n",
    "from emukit.core import ParameterSpace, ContinuousParameter\n",
    "from GPy.models import MultioutputGP\n",
    "from GPy import likelihoods\n",
    "from emukit.model_wrappers import GPyMultiOutputWrapper\n",
    "from GPy.kern import RBF\n",
    "from GPy.models import GPRegression\n",
    "from emukit.model_wrappers import GPyModelWrapper\n",
    "\n",
    "import random\n",
    "seed = random.seed(42)\n",
    "\n",
    "from emukit.experimental_design.acquisitions.contour_MultiObs_min import contourMinEI\n",
    "from emukit.experimental_design.acquisitions.contour_1D import contour1D\n",
    "from emukit.experimental_design import ExperimentalDesignLoop\n",
    "from emukit.core.optimization import GradientAcquisitionOptimizer\n",
    "\n",
    "from matplotlib import pyplot\n",
    "from mpl_toolkits.mplot3d import Axes3D\n",
    "\n",
    "from pyDOE import *\n",
    "from scipy.stats import norm\n",
    "from scipy import integrate\n",
    "import corner\n",
    "\n",
    "import math\n",
    "\n",
    "from approxposterior import approx, gpUtils as gpu\n",
    "import time\n",
    "\n",
    "# set seaborn style\n",
    "import seaborn as sns\n",
    "sns.set_style(\"white\")"
   ]
  },
  {
   "cell_type": "code",
   "execution_count": 3,
   "metadata": {},
   "outputs": [],
   "source": [
    "# 3d plot function\n",
    "def makeplot(position,x,y,z,title):\n",
    "    ax = fig.add_subplot(position,projection='3d')\n",
    "    ax.scatter(x, y, z, c=z, label=title)\n",
    "    ax.legend()\n",
    "    return ax"
   ]
  },
  {
   "cell_type": "code",
   "execution_count": 4,
   "metadata": {},
   "outputs": [],
   "source": [
    "lb = [0,0]\n",
    "ub = [1,1]\n",
    "parameter_space = ParameterSpace([ContinuousParameter('x1', lb[0], ub[0]),ContinuousParameter('x2', lb[1], ub[1])])\n",
    "pi = math.pi\n",
    "a = 1\n",
    "b = 5.1 / (4 * pi **2)\n",
    "c = 5 / pi\n",
    "r = 6\n",
    "s = 10\n",
    "t = 1 / (8*pi)\n",
    "noise = 0.1 # statistical noise\n",
    "\n",
    "# https://www.sfu.ca/~ssurjano/limetal02non.html\n",
    "# https://www.sfu.ca/~ssurjano/branin.html\n",
    "\n",
    "def f(X): # with statistical noise\n",
    "    y1 = 1/6 * ((30+5*X[:,0]*np.sin(5*X[:,0])) * (4+np.exp(-5*X[:,1]))-100) +  np.random.normal(0,noise,X.shape[0])\n",
    "    y2 = a * (X[:,1] - b * X[:,0]**2 + c * X[:,0] - r)**2 + s*(1-t) * np.cos(X[:,0]) + s +  np.random.normal(0,noise,X.shape[0])\n",
    "    return [y1.reshape(-1,1),y2.reshape(-1,1)]\n",
    "\n",
    "def f_noNoise(X): # noise-free\n",
    "    y1 = 1/6 * ((30+5*X[:,0]*np.sin(5*X[:,0])) * (4+np.exp(-5*X[:,1]))-100)\n",
    "    y2 = a * (X[:,1] - b * X[:,0]**2 + c * X[:,0] - r)**2 + s*(1-t) * np.cos(X[:,0]) + s\n",
    "    return [y1.reshape(-1,1),y2.reshape(-1,1)]"
   ]
  },
  {
   "cell_type": "markdown",
   "metadata": {
    "tags": []
   },
   "source": [
    "#### Read in experimental data"
   ]
  },
  {
   "cell_type": "code",
   "execution_count": 5,
   "metadata": {},
   "outputs": [],
   "source": [
    "y_exp = np.array(pd.read_csv('Experimental Data/TF1_ExpData.txt', delimiter=' ', header=None))\n",
    "dy_exp = np.array(pd.read_csv('Experimental Data/TF1_dyExpData.txt', delimiter=' ', header=None)).flatten()"
   ]
  },
  {
   "cell_type": "markdown",
   "metadata": {},
   "source": [
    "#### Define prior, likelihood (using simulator) and uniform sampling function"
   ]
  },
  {
   "cell_type": "code",
   "execution_count": 6,
   "metadata": {},
   "outputs": [],
   "source": [
    "theta_min = 0\n",
    "theta_max = 1\n",
    "ndim = 2\n",
    "\n",
    "# independent uniform prior\n",
    "def log_flat_prior(theta):\n",
    "    # The parameters are stored as a vector of values, so unpack them\n",
    "    theta1, theta2 = theta\n",
    "    # We're using only uniform priors in [0,1]\n",
    "    if (theta_min <= theta1) and (theta1 <= theta_max) and (theta_min <= theta2) and (theta2 <= theta_max):\n",
    "        return 0. # log(1)\n",
    "    else:\n",
    "        return -np.inf  # log(0)\n",
    "    \n",
    "# log_flat_prior = np.vectorize(log_flat_prior)\n",
    "\n",
    "def sim_output(xx, obsno):\n",
    "    \"\"\"This generates output from simulator.\"\"\"\n",
    "    X = xx.reshape(-1, ndim)\n",
    "    y = f(X)[obsno] # use simulator to evaluate likelihood\n",
    "    return y\n",
    "\n",
    "# define log likelihood\n",
    "def log_likelihood_sim(theta, y_exp, dy_exp):\n",
    "    '''\n",
    "    Log-likelihood for data y_exp.\n",
    "    theta: 2d vector;\n",
    "    y_exp: n_exp by 2;\n",
    "    dy_exp: 2d vector (experimental noise is the same for different observations).\n",
    "    '''\n",
    "    log_lik = 0\n",
    "    for obs in range(y_exp.shape[1]): # number of observables\n",
    "        y_pred = sim_output(theta, obs) # simulator (the same value for one input theta)\n",
    "        sigma2 = dy_exp[obs]**2. + 0 # no simulator uncertainty\n",
    "        log_lik = log_lik - 0.5*np.log(2.*np.pi*sigma2) - 0.5/sigma2 * np.sum((y_pred - y_exp[:,obs])**2)    \n",
    "    return log_lik\n",
    "\n",
    "#posterior using flat prior\n",
    "def log_posterior_flat_prior_sim(theta, y_exp, dy_exp):\n",
    "    '''Log posterior for data y_exp and uncertainties \n",
    "        dy_exp given parameter array theta, assuming prior is flat.'''\n",
    "    return log_flat_prior(theta) + log_likelihood_sim(theta, y_exp, dy_exp)"
   ]
  },
  {
   "cell_type": "code",
   "execution_count": 7,
   "metadata": {},
   "outputs": [],
   "source": [
    "def sampleFunction(n):\n",
    "    \"\"\"\n",
    "    docs\n",
    "\n",
    "    Parameters\n",
    "    ----------\n",
    "    n : int\n",
    "        Number of samples\n",
    "\n",
    "    Returns\n",
    "    -------\n",
    "    sample : floats\n",
    "        n x 2 array of floats samples from the prior (uniform)\n",
    "    \"\"\"\n",
    "\n",
    "    # Sample model parameters given prior distributions\n",
    "    return np.array([np.random.uniform(size=(n)),np.random.uniform(size=(n))]).T"
   ]
  },
  {
   "cell_type": "markdown",
   "metadata": {},
   "source": [
    "#### Define Approxposterior parameters: how to set parameters?"
   ]
  },
  {
   "cell_type": "code",
   "execution_count": 8,
   "metadata": {},
   "outputs": [],
   "source": [
    "# Define algorithm parameters\n",
    "m0 = 10                           # Initial size of training set\n",
    "m = 1                            # Number of new points to find each iteration\n",
    "nmax = 35                          # Maximum number of iterations\n",
    "bounds = list(prior_ranges.values())    # Prior bounds\n",
    "algorithm = \"bape\"                # Use the Kandasamy et al. (2017) formalism\n",
    "\n",
    "# emcee MCMC parameters: Use the same MCMC parameters as the emcee-only analysis\n",
    "samplerKwargs = {\"nwalkers\" : 20}  # emcee.EnsembleSampler parameters\n",
    "mcmcKwargs = {\"iterations\" : 5000} # emcee.EnsembleSampler.run_mcmc parameters\n",
    "\n",
    "# Data and uncertainties that we use to condition our model\n",
    "args = (y_exp, dy_exp)"
   ]
  },
  {
   "cell_type": "markdown",
   "metadata": {},
   "source": [
    "Run ApproxPosterior"
   ]
  },
  {
   "cell_type": "code",
   "execution_count": 9,
   "metadata": {},
   "outputs": [
    {
     "name": "stdout",
     "output_type": "stream",
     "text": [
      "Iteration: 0\n",
      "Iteration: 1\n",
      "Iteration: 2\n",
      "Iteration: 3\n",
      "Iteration: 4\n",
      "Iteration: 5\n"
     ]
    },
    {
     "name": "stderr",
     "output_type": "stream",
     "text": [
      " /Library/Frameworks/Python.framework/Versions/3.8/lib/python3.8/site-packages/scipy/optimize/optimize.py:2149: RuntimeWarning:invalid value encountered in double_scalars\n",
      " /Library/Frameworks/Python.framework/Versions/3.8/lib/python3.8/site-packages/scipy/optimize/optimize.py:2150: RuntimeWarning:invalid value encountered in double_scalars\n",
      " /Library/Frameworks/Python.framework/Versions/3.8/lib/python3.8/site-packages/scipy/optimize/optimize.py:2151: RuntimeWarning:invalid value encountered in double_scalars\n"
     ]
    },
    {
     "name": "stdout",
     "output_type": "stream",
     "text": [
      "Iteration: 6\n",
      "Iteration: 7\n",
      "Iteration: 8\n",
      "Iteration: 9\n",
      "Iteration: 10\n",
      "Iteration: 11\n",
      "Iteration: 12\n",
      "Iteration: 13\n",
      "Iteration: 14\n",
      "Iteration: 15\n",
      "Iteration: 16\n",
      "Iteration: 17\n",
      "Iteration: 18\n",
      "Iteration: 19\n",
      "Iteration: 20\n",
      "Iteration: 21\n",
      "Iteration: 22\n",
      "Iteration: 23\n",
      "Iteration: 24\n",
      "Iteration: 25\n",
      "Iteration: 26\n",
      "Iteration: 27\n",
      "Iteration: 28\n",
      "Iteration: 29\n",
      "Iteration: 30\n",
      "Iteration: 31\n",
      "Iteration: 32\n",
      "Iteration: 33\n",
      "Iteration: 34\n",
      "WARNING: mcmcKwargs provided, but initial_state not in mcmcKwargs.\n",
      "Defaulting to nwalkers samples from priorSample.\n",
      "mcmc finished\n",
      "burn-in estimate: 132\n",
      "thin estimate: 22\n"
     ]
    },
    {
     "data": {
      "image/png": "[encoded data removed]",
      "text/plain": [
       "<Figure size 720x252 with 2 Axes>"
      ]
     },
     "metadata": {},
     "output_type": "display_data"
    },
    {
     "name": "stderr",
     "output_type": "stream",
     "text": [
      "WARNING:root:Too few points to create valid contours\n"
     ]
    },
    {
     "data": {
      "image/png": "[encoded data removed]",
      "text/plain": [
       "<Figure size 396x396 with 4 Axes>"
      ]
     },
     "metadata": {},
     "output_type": "display_data"
    }
   ],
   "source": [
    "for runNo in range(1):\n",
    "    #---# Start with a random LHD and train GP on log posterior\n",
    "    # theta = np.array(sampleFunction(m0))\n",
    "    theta = lhs(n=2, samples=m0)\n",
    "\n",
    "    # Evaluate forward model to compute log likelihood + lnprior for each theta\n",
    "    y = list()\n",
    "    for ii in range(len(theta)):\n",
    "        y.append((log_likelihood_sim(theta[ii,:], *args) + log_flat_prior(theta[ii,:])))\n",
    "    y = np.array(y)\n",
    "\n",
    "    # initialize GP\n",
    "    gp = gpu.defaultGP(theta, y)\n",
    "    \n",
    "    #---# Approxposterior\n",
    "    ap = approx.ApproxPosterior(theta=theta,                   # Initial model parameters for inputs\n",
    "                            y=y,                           # Logprobability of each input\n",
    "                            gp=gp,                         # Initialize Gaussian Process\n",
    "                            lnprior=log_flat_prior,              # logprior function\n",
    "                            lnlike=log_likelihood_sim,          # loglikelihood function\n",
    "                            priorSample=sampleFunction,    # Prior sample function\n",
    "                            algorithm=algorithm,           # bape, agp, or alternate\n",
    "                            bounds=bounds)                  # Parameter bounds\n",
    "    \n",
    "    # run\n",
    "    ap.run(m=m, nmax=nmax,estBurnin=True, mcmcKwargs=mcmcKwargs, cache=False,\n",
    "           samplerKwargs=samplerKwargs, verbose=True, args=args, onlyLastMCMC=True,\n",
    "           seed=seed, optGPEveryN = 1, # re-optimize the GP hyperparameters for every new design point\n",
    "           thinChains=True, nGPRestarts = 50, nMinObjRestarts = 10)\n",
    "    \n",
    "    # extract samples\n",
    "    sample_temp = ap.sampler.get_chain(discard=ap.iburns[-1], flat=True, thin=ap.ithins[-1])\n",
    "    \n",
    "    # save samples for R analysis\n",
    "    # plots & save data for R analysis\n",
    "    approx_chain = sample_temp[-2000:,:] # keep last 2000 samples, same as MCMC, LHD and RJ2016\n",
    "    fig,(ax1, ax2) = plt.subplots(1, 2, figsize=(10,3.5))\n",
    "    ax1.plot(approx_chain[:,0], '-', color='k', alpha=0.3)\n",
    "    ax1.axhline(y=true_param[0][0], color='blue')\n",
    "    ax1.title.set_text('theta1')\n",
    "\n",
    "    ax2.plot(approx_chain[:,1], '-', color='k', alpha=0.3)\n",
    "    ax2.axhline(y=true_param[0][1], color='blue')\n",
    "    ax2.title.set_text('theta2')\n",
    "    plt.show()\n",
    "\n",
    "    tmp = corner.corner(approx_chain, labels=['theta1','theta2'], \n",
    "                    truths=[true_param[0][0],true_param[0][1]])\n",
    "    tmp.axes[2].scatter(ap.theta[:,0], ap.theta[:,1], s=8, color=\"red\", zorder=20)\n",
    "    plt.show()\n",
    "\n",
    "    Approx_sim = pd.DataFrame(approx_chain)\n",
    "    Approx_sim.to_csv('Outputs/TF1_MCMCApproxpost_init'+str(m0)+'_seq'+str(nmax-m0)+'.csv', index=False)\n"
   ]
  },
  {
   "cell_type": "code",
   "execution_count": null,
   "metadata": {},
   "outputs": [],
   "source": []
  }
 ],
 "metadata": {
  "kernelspec": {
   "display_name": "Python 3 (ipykernel)",
   "language": "python",
   "name": "python3"
  },
  "language_info": {
   "codemirror_mode": {
    "name": "ipython",
    "version": 3
   },
   "file_extension": ".py",
   "mimetype": "text/x-python",
   "name": "python",
   "nbconvert_exporter": "python",
   "pygments_lexer": "ipython3",
   "version": "3.8.3"
  }
 },
 "nbformat": 4,
 "nbformat_minor": 4
}
