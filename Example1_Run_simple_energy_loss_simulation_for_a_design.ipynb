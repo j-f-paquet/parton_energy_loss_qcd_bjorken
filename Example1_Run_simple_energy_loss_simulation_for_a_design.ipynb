{
 "cells": [
  {
   "cell_type": "code",
   "execution_count": 1,
   "metadata": {},
   "outputs": [
    {
     "name": "stdout",
     "output_type": "stream",
     "text": [
      "Momentem range is (1,30 GeV).\n",
      "Number of bins 50.\n"
     ]
    }
   ],
   "source": [
    "import numpy as np\n",
    "import matplotlib.pyplot as plt\n",
    "import run_simple_energy_loss"
   ]
  },
  {
   "cell_type": "markdown",
   "metadata": {},
   "source": [
    "#### Next we will load the simulation. \n",
    " - It will take a numpy array with dimension M x N as input.\n",
    "    - M number of design points\n",
    "    - N number of model parameters of the model\n",
    " - It will return a M x P numpy array.\n",
    "     - M number of design points\n",
    "     - P number of Momentem bins\n",
    " - For more information please check the documentation for the function"
   ]
  },
  {
   "cell_type": "code",
   "execution_count": 2,
   "metadata": {},
   "outputs": [],
   "source": [
    "simulation=run_simple_energy_loss.run_simulation"
   ]
  },
  {
   "cell_type": "markdown",
   "metadata": {},
   "source": [
    "#### Make a design matrix\n",
    "\n",
    "There are 6 parameters currently taken as model parameters. \n",
    " - Initialization\n",
    "     - T0_in_fm (deafult value 0.3/hbarc)\n",
    "     - tau0 (deafult value 0.2)\n",
    "     - Tf_in_fm (deafult value 0.15/hbarc)\n",
    " - Parton Energy loss rates\n",
    "     - alpha_s (deafult value 0.1)\n",
    "     - N_f (deafult value 0)\n",
    "     - N_c (deafult value 3)"
   ]
  },
  {
   "cell_type": "code",
   "execution_count": 3,
   "metadata": {},
   "outputs": [],
   "source": [
    "hbarc=0.1973\n",
    "n_design = 20"
   ]
  },
  {
   "cell_type": "code",
   "execution_count": 4,
   "metadata": {},
   "outputs": [
    {
     "name": "stdout",
     "output_type": "stream",
     "text": [
      "Shape of the design is (20, 6)\n"
     ]
    }
   ],
   "source": [
    "# design for alpha_s parameter\n",
    "T0_in_fm = np.full((n_design,1), 0.3/hbarc)\n",
    "tau0 = np.full((n_design,1), 0.2)\n",
    "Tf_in_fm = np.full((n_design,1), 0.15/hbarc)\n",
    "\n",
    "# We will only consider the change in modle parameter for now\n",
    "alpha_s = np.linspace(0.01,1,20).reshape(20,1)\n",
    "\n",
    "N_f = np.full((n_design,1), 0)\n",
    "N_c = np.full((n_design,1), 3)\n",
    "\n",
    "design = np.vstack([T0_in_fm.T, tau0.T, Tf_in_fm.T, alpha_s.T, N_f.T, N_c.T])\n",
    "\n",
    "# design matrix has to have M by N shape. Rows should be design points\n",
    "\n",
    "design = design.T\n",
    "print(f'Shape of the design is {design.shape}')"
   ]
  },
  {
   "cell_type": "markdown",
   "metadata": {},
   "source": [
    "#### Run simulation for the 20 design points"
   ]
  },
  {
   "cell_type": "code",
   "execution_count": 5,
   "metadata": {},
   "outputs": [
    {
     "name": "stdout",
     "output_type": "stream",
     "text": [
      "The shape of design matrix is (20, 6)\n",
      "\n",
      "Working on 0/20 designs\n"
     ]
    },
    {
     "name": "stderr",
     "output_type": "stream",
     "text": [
      "/Users/dananjayaliyanage/git/parton_energy_loss_qcd_bjorken/run_simple_energy_loss.py:291: IntegrationWarning: The integral is probably divergent, or slowly convergent.\n",
      "  res=scipy.integrate.quad(integrand, pmin, pmax, limit=10000, epsabs=1e-10, epsrel=1e-3)\n",
      "/Users/dananjayaliyanage/git/parton_energy_loss_qcd_bjorken/run_simple_energy_loss.py:291: IntegrationWarning: The algorithm does not converge.  Roundoff error is detected\n",
      "  in the extrapolation table.  It is assumed that the requested tolerance\n",
      "  cannot be achieved, and that the returned result (if full_output = 1) is \n",
      "  the best which can be obtained.\n",
      "  res=scipy.integrate.quad(integrand, pmin, pmax, limit=10000, epsabs=1e-10, epsrel=1e-3)\n"
     ]
    },
    {
     "name": "stdout",
     "output_type": "stream",
     "text": [
      "Working on 1/20 designs\n"
     ]
    },
    {
     "name": "stderr",
     "output_type": "stream",
     "text": [
      "/Users/dananjayaliyanage/git/parton_energy_loss_qcd_bjorken/run_simple_energy_loss.py:78: RuntimeWarning: invalid value encountered in log\n",
      "  log_P_g=np.log(Pg_update(log_P_g_prev,T_in_GeV,dtau,dGamma_domega_inel))\n",
      "/Users/dananjayaliyanage/git/parton_energy_loss_qcd_bjorken/run_simple_energy_loss.py:291: IntegrationWarning: The occurrence of roundoff error is detected, which prevents \n",
      "  the requested tolerance from being achieved.  The error may be \n",
      "  underestimated.\n",
      "  res=scipy.integrate.quad(integrand, pmin, pmax, limit=10000, epsabs=1e-10, epsrel=1e-3)\n",
      "/Users/dananjayaliyanage/git/parton_energy_loss_qcd_bjorken/run_simple_energy_loss.py:291: IntegrationWarning: Extremely bad integrand behavior occurs at some points of the\n",
      "  integration interval.\n",
      "  res=scipy.integrate.quad(integrand, pmin, pmax, limit=10000, epsabs=1e-10, epsrel=1e-3)\n"
     ]
    },
    {
     "name": "stdout",
     "output_type": "stream",
     "text": [
      "Working on 2/20 designs\n",
      "Working on 3/20 designs\n",
      "Working on 4/20 designs\n",
      "Working on 5/20 designs\n",
      "Working on 6/20 designs\n",
      "Working on 7/20 designs\n",
      "Working on 8/20 designs\n",
      "Working on 9/20 designs\n",
      "Working on 10/20 designs\n",
      "Working on 11/20 designs\n",
      "Working on 12/20 designs\n",
      "Working on 13/20 designs\n",
      "Working on 14/20 designs\n",
      "Working on 15/20 designs\n",
      "Working on 16/20 designs\n",
      "Working on 17/20 designs\n",
      "Working on 18/20 designs\n",
      "Working on 19/20 designs\n",
      "Shape of the result array is (20, 50)\n"
     ]
    }
   ],
   "source": [
    "observables=simulation(design)"
   ]
  },
  {
   "cell_type": "code",
   "execution_count": 35,
   "metadata": {},
   "outputs": [
    {
     "data": {
      "text/plain": [
       "<matplotlib.legend.Legend at 0x7faf56119b10>"
      ]
     },
     "execution_count": 35,
     "metadata": {},
     "output_type": "execute_result"
    },
    {
     "data": {
      "image/png": "[encoded data removed]",
      "text/plain": [
       "<Figure size 432x288 with 1 Axes>"
      ]
     },
     "metadata": {
      "needs_background": "light"
     },
     "output_type": "display_data"
    }
   ],
   "source": [
    "# Plot the observables\n",
    "\n",
    "design_alpha=alpha_s.T\n",
    "pt_list = np.linspace(1,30,50)\n",
    "fig, ax = plt.subplots()\n",
    "for i,pT in enumerate(pt_list):\n",
    "    if (i%10) == 9:\n",
    "        ax.plot(design_alpha.flatten(),observables[:,i], label=r'$p_T =$' +f'{pT:.2f} GeV')\n",
    "\n",
    "ax.set_xlabel(r'$\\alpha_s$')\n",
    "ax.set_ylabel(r'$R_\\{AA\\} for p_T =$' +f'{pT:.2f} GeV')\n",
    "ax.legend()    \n"
   ]
  },
  {
   "cell_type": "code",
   "execution_count": null,
   "metadata": {},
   "outputs": [],
   "source": []
  }
 ],
 "metadata": {
  "kernelspec": {
   "display_name": "Python [conda env:sensitivity] *",
   "language": "python",
   "name": "conda-env-sensitivity-py"
  },
  "language_info": {
   "codemirror_mode": {
    "name": "ipython",
    "version": 3
   },
   "file_extension": ".py",
   "mimetype": "text/x-python",
   "name": "python",
   "nbconvert_exporter": "python",
   "pygments_lexer": "ipython3",
   "version": "3.7.6"
  }
 },
 "nbformat": 4,
 "nbformat_minor": 4
}
