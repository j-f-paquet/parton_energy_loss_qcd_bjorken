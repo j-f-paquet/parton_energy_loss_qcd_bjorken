{
 "cells": [
  {
   "cell_type": "code",
   "execution_count": 1,
   "metadata": {},
   "outputs": [],
   "source": [
    "import numpy as np\n",
    "import matplotlib.pyplot as plt\n",
    "import run_simple_energy_loss"
   ]
  },
  {
   "cell_type": "markdown",
   "metadata": {},
   "source": [
    "#### Next we will load the simulation. \n",
    " - It will take a numpy array with dimension M x N as input.\n",
    "    - M number of design points\n",
    "    - N number of model parameters of the model\n",
    " - It will return a M x P numpy array.\n",
    "     - M number of design points\n",
    "     - P number of Momentem bins"
   ]
  },
  {
   "cell_type": "code",
   "execution_count": 2,
   "metadata": {},
   "outputs": [],
   "source": [
    "simulation=run_simple_energy_loss.run_simulation"
   ]
  },
  {
   "cell_type": "markdown",
   "metadata": {},
   "source": [
    "#### Make a design matrix\n",
    "\n",
    "There are 4 parameters currently taken as model parameters. \n",
    " - Initialization\n",
    "     - T0_in_GeV (deafult value 0.3)\n",
    "     - tau0 (deafult value 0.2)\n",
    "     - Tf_in_GeV (deafult value 0.15)\n",
    " - Parton Energy loss rates\n",
    "     - alpha_s (deafult value 0.1)"
   ]
  },
  {
   "cell_type": "code",
   "execution_count": 3,
   "metadata": {},
   "outputs": [],
   "source": [
    "hbarc=0.1973\n",
    "n_design = 5"
   ]
  },
  {
   "cell_type": "code",
   "execution_count": 4,
   "metadata": {},
   "outputs": [
    {
     "name": "stdout",
     "output_type": "stream",
     "text": [
      "Shape of the design is (5, 4)\n"
     ]
    }
   ],
   "source": [
    "# design for alpha_s parameter\n",
    "T0_in_fm = np.full((n_design,1), 0.3)\n",
    "tau0 = np.full((n_design,1), 0.2)\n",
    "Tf_in_fm = np.full((n_design,1), 0.15)\n",
    "\n",
    "# We will only consider the change in modle parameter for now\n",
    "alpha_s = np.linspace(0.01,1,n_design).reshape(-1,1)\n",
    "\n",
    "#N_f = np.full((n_design,1), 0)\n",
    "#N_c = np.full((n_design,1), 3)\n",
    "\n",
    "design = np.vstack([T0_in_fm.T, tau0.T, Tf_in_fm.T, alpha_s.T])\n",
    "\n",
    "# design matrix has to have M by N shape. Rows should be design points\n",
    "\n",
    "design = design.T\n",
    "print(f'Shape of the design is {design.shape}')"
   ]
  },
  {
   "cell_type": "markdown",
   "metadata": {},
   "source": [
    "#### Run simulation for the 20 design points"
   ]
  },
  {
   "cell_type": "code",
   "execution_count": 5,
   "metadata": {},
   "outputs": [
    {
     "name": "stdout",
     "output_type": "stream",
     "text": [
      "Working on 0/5 designs\n"
     ]
    },
    {
     "name": "stderr",
     "output_type": "stream",
     "text": [
      "/Users/dananjayaliyanage/miniconda3/envs/sensitivity/lib/python3.7/site-packages/scipy/integrate/_ode.py:1177: UserWarning: dopri5: step size becomes too small\n",
      "  self.messages.get(istate, unexpected_istate_msg)))\n",
      "/Users/dananjayaliyanage/git/parton_energy_loss_qcd_bjorken/solver_euler.py:73: IntegrationWarning: The integral is probably divergent, or slowly convergent.\n",
      "  res_quad2b=scipy.integrate.quad(lambda u, p=p: p*integrand_middle(p,u), 0, delta, limit=npts, epsabs=epsabs, epsrel=epsrel)\n",
      "/Users/dananjayaliyanage/git/parton_energy_loss_qcd_bjorken/solver_euler.py:68: IntegrationWarning: The integral is probably divergent, or slowly convergent.\n",
      "  res_quad2a=scipy.integrate.quad(vec_integrand, pmin, p, limit=npts, epsabs=epsabs, epsrel=epsrel)\n"
     ]
    },
    {
     "name": "stdout",
     "output_type": "stream",
     "text": [
      "Working on 1/5 designs\n",
      "Working on 2/5 designs\n",
      "Working on 3/5 designs\n",
      "Working on 4/5 designs\n",
      "Shape of the result array is (5, 20)\n"
     ]
    }
   ],
   "source": [
    "observables=simulation(design)"
   ]
  },
  {
   "cell_type": "code",
   "execution_count": 6,
   "metadata": {},
   "outputs": [
    {
     "data": {
      "text/plain": [
       "array([[1.00004420e+00, 1.00011673e+00, 9.99470097e-01, 9.99204802e-01,\n",
       "        9.99065104e-01, 9.98983493e-01, 9.98933470e-01, 9.98902394e-01,\n",
       "        9.98883327e-01, 9.98872268e-01, 9.98866710e-01, 9.98864957e-01,\n",
       "        9.98865863e-01, 9.98868700e-01, 9.98872658e-01, 9.98877155e-01,\n",
       "        9.98881536e-01, 9.98883932e-01, 9.98881124e-01, 9.98869327e-01],\n",
       "       [1.02845000e+00, 1.07545932e+00, 7.00738717e-01, 5.87116846e-01,\n",
       "        5.34816100e-01, 5.06476272e-01, 4.89905157e-01, 4.79937720e-01,\n",
       "        4.73974955e-01, 4.70600876e-01, 4.68966609e-01, 4.68516387e-01,\n",
       "        4.68878320e-01, 4.69807107e-01, 4.71040457e-01, 4.72340540e-01,\n",
       "        4.73464626e-01, 4.73834948e-01, 4.72603413e-01, 4.68873085e-01],\n",
       "       [1.10206729e+00, 1.28464815e+00, 2.44766102e-01, 1.22141919e-01,\n",
       "        8.45684956e-02, 6.83097224e-02, 6.00423564e-02, 5.55219379e-02,\n",
       "        5.30128758e-02, 5.16961399e-02, 5.11302175e-02, 5.10466955e-02,\n",
       "        5.12683109e-02, 5.16672213e-02, 5.21117002e-02, 5.24734759e-02,\n",
       "        5.26172384e-02, 5.23631603e-02, 5.15029220e-02, 4.99011291e-02],\n",
       "       [1.20999298e+00, 1.67189529e+00, 3.90861692e-02, 7.71717928e-03,\n",
       "        3.25362084e-03, 1.97996282e-03, 1.47740492e-03, 1.24562486e-03,\n",
       "        1.13292196e-03, 1.08109156e-03, 1.06298202e-03, 1.06347607e-03,\n",
       "        1.07280604e-03, 1.08374596e-03, 1.08984494e-03, 1.08583596e-03,\n",
       "        1.06751621e-03, 1.03199098e-03, 9.78027196e-04, 9.07285417e-04],\n",
       "       [1.35198695e+00, 2.38900081e+00, 2.57917061e-03, 1.13950298e-04,\n",
       "        2.08295463e-05, 7.93107949e-06, 4.61016604e-06, 3.43994248e-06,\n",
       "        2.96491758e-06, 2.76774084e-06, 2.68916968e-06, 2.65291913e-06,\n",
       "        2.61714873e-06, 2.55737514e-06, 2.45990773e-06, 2.32055946e-06,\n",
       "        2.14219938e-06, 1.93287249e-06, 1.70354534e-06, 1.46703047e-06]])"
      ]
     },
     "execution_count": 6,
     "metadata": {},
     "output_type": "execute_result"
    }
   ],
   "source": [
    "observables"
   ]
  },
  {
   "cell_type": "code",
   "execution_count": 21,
   "metadata": {},
   "outputs": [
    {
     "data": {
      "text/plain": [
       "<matplotlib.legend.Legend at 0x7fbf2e504f10>"
      ]
     },
     "execution_count": 21,
     "metadata": {},
     "output_type": "execute_result"
    },
    {
     "data": {
      "image/png": "[encoded data removed]",
      "text/plain": [
       "<Figure size 432x288 with 1 Axes>"
      ]
     },
     "metadata": {
      "needs_background": "light"
     },
     "output_type": "display_data"
    }
   ],
   "source": [
    "# Plot the observables\n",
    "show_obs=[0,1,2,3,8,10,15,18]\n",
    "design_alpha=alpha_s.T\n",
    "pt_list = np.linspace(1,20,20)\n",
    "fig, ax = plt.subplots()\n",
    "for i,pT in enumerate(pt_list):\n",
    "    if i in show_obs:\n",
    "        ax.plot(design_alpha.flatten(),observables[:,i], label=r'$p_T =$' +f'{pT:.2f} GeV')\n",
    "\n",
    "ax.set_xlabel(r'$\\alpha_s$')\n",
    "ax.set_ylabel(r'$R_\\{AA\\}$')\n",
    "ax.legend(loc='upper center', bbox_to_anchor=(0.5, -0.05),shadow=True, ncol=3)"
   ]
  },
  {
   "cell_type": "code",
   "execution_count": null,
   "metadata": {},
   "outputs": [],
   "source": []
  }
 ],
 "metadata": {
  "kernelspec": {
   "display_name": "Python 3",
   "language": "python",
   "name": "python3"
  },
  "language_info": {
   "codemirror_mode": {
    "name": "ipython",
    "version": 3
   },
   "file_extension": ".py",
   "mimetype": "text/x-python",
   "name": "python",
   "nbconvert_exporter": "python",
   "pygments_lexer": "ipython3",
   "version": "3.7.6"
  }
 },
 "nbformat": 4,
 "nbformat_minor": 4
}
