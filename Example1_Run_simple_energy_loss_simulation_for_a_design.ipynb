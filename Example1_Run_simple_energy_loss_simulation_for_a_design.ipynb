{
 "cells": [
  {
   "cell_type": "code",
   "execution_count": 1,
   "metadata": {},
   "outputs": [],
   "source": [
    "import numpy as np\n",
    "import matplotlib.pyplot as plt\n",
    "import run_simple_energy_loss"
   ]
  },
  {
   "cell_type": "markdown",
   "metadata": {},
   "source": [
    "#### Next we will load the simulation. \n",
    " - It will take a numpy array with dimension M x N as input.\n",
    "    - M number of design points\n",
    "    - N number of model parameters of the model\n",
    " - It will return a M x P numpy array.\n",
    "     - M number of design points\n",
    "     - P number of Momentem bins"
   ]
  },
  {
   "cell_type": "code",
   "execution_count": 2,
   "metadata": {},
   "outputs": [],
   "source": [
    "simulation=run_simple_energy_loss.run_simulation"
   ]
  },
  {
   "cell_type": "markdown",
   "metadata": {},
   "source": [
    "#### Make a design matrix\n",
    "\n",
    "There are 4 parameters currently taken as model parameters. \n",
    " - Initialization\n",
    "     - T0_in_GeV (deafult value 0.3)\n",
    "     - tau0 (deafult value 0.2)\n",
    "     - Tf_in_GeV (deafult value 0.15)\n",
    " - Parton Energy loss rates\n",
    "     - alpha_s (deafult value 0.1)"
   ]
  },
  {
   "cell_type": "code",
   "execution_count": 3,
   "metadata": {},
   "outputs": [],
   "source": [
    "hbarc=0.1973\n",
    "n_design = 5"
   ]
  },
  {
   "cell_type": "code",
   "execution_count": 4,
   "metadata": {},
   "outputs": [
    {
     "name": "stdout",
     "output_type": "stream",
     "text": [
      "Shape of the design is (5, 4)\n"
     ]
    }
   ],
   "source": [
    "# design for alpha_s parameter\n",
    "T0_in_fm = np.full((n_design,1), 0.3)\n",
    "tau0 = np.full((n_design,1), 0.2)\n",
    "Tf_in_fm = np.full((n_design,1), 0.15)\n",
    "\n",
    "# We will only consider the change in modle parameter for now\n",
    "alpha_s = np.linspace(0.01,1,n_design).reshape(-1,1)\n",
    "\n",
    "#N_f = np.full((n_design,1), 0)\n",
    "#N_c = np.full((n_design,1), 3)\n",
    "\n",
    "design = np.vstack([T0_in_fm.T, tau0.T, Tf_in_fm.T, alpha_s.T])\n",
    "\n",
    "# design matrix has to have M by N shape. Rows should be design points\n",
    "\n",
    "design = design.T\n",
    "print(f'Shape of the design is {design.shape}')"
   ]
  },
  {
   "cell_type": "markdown",
   "metadata": {},
   "source": [
    "#### Run simulation for the 20 design points"
   ]
  },
  {
   "cell_type": "code",
   "execution_count": 29,
   "metadata": {},
   "outputs": [
    {
     "name": "stdout",
     "output_type": "stream",
     "text": [
      "Working on 0/5 designs\n",
      "Working on 1/5 designs\n",
      "Working on 2/5 designs\n",
      "Working on 3/5 designs\n",
      "Working on 4/5 designs\n",
      "Shape of the result array is (5, 20)\n",
      "CPU times: user 10min 3s, sys: 3.18 s, total: 10min 6s\n",
      "Wall time: 10min 9s\n"
     ]
    }
   ],
   "source": [
    "%%time\n",
    "observables=simulation(design)"
   ]
  },
  {
   "cell_type": "code",
   "execution_count": 7,
   "metadata": {},
   "outputs": [
    {
     "data": {
      "text/plain": [
       "<matplotlib.legend.Legend at 0x7fd508331190>"
      ]
     },
     "execution_count": 7,
     "metadata": {},
     "output_type": "execute_result"
    },
    {
     "data": {
      "image/png": "[encoded data removed]",
      "text/plain": [
       "<Figure size 432x288 with 1 Axes>"
      ]
     },
     "metadata": {
      "needs_background": "light"
     },
     "output_type": "display_data"
    }
   ],
   "source": [
    "# Plot the observables\n",
    "show_obs=[0,1,2,3,8,10,15,18]\n",
    "design_alpha=alpha_s.T\n",
    "pt_list = np.linspace(1,20,20)\n",
    "fig, ax = plt.subplots()\n",
    "for i,pT in enumerate(pt_list):\n",
    "    if i in show_obs:\n",
    "        ax.plot(design_alpha.flatten(),observables[:,i], label=r'$p_T =$' +f'{pT:.2f} GeV')\n",
    "\n",
    "ax.set_xlabel(r'$\\alpha_s$')\n",
    "ax.set_ylabel(r'$R_\\{AA\\}$')\n",
    "ax.legend(loc='upper center', bbox_to_anchor=(0.5, -0.2),shadow=True, ncol=3)"
   ]
  }
 ],
 "metadata": {
  "kernelspec": {
   "display_name": "Python 3",
   "language": "python",
   "name": "python3"
  },
  "language_info": {
   "codemirror_mode": {
    "name": "ipython",
    "version": 3
   },
   "file_extension": ".py",
   "mimetype": "text/x-python",
   "name": "python",
   "nbconvert_exporter": "python",
   "pygments_lexer": "ipython3",
   "version": "3.7.6"
  }
 },
 "nbformat": 4,
 "nbformat_minor": 4
}
