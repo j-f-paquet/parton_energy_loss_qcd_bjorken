{
 "cells": [
  {
   "cell_type": "code",
   "execution_count": 1,
   "metadata": {},
   "outputs": [],
   "source": [
    "import numpy as np\n",
    "import matplotlib.pyplot as plt\n",
    "import emcee\n",
    "from scipy.optimize import minimize\n",
    "import corner\n",
    "import george\n",
    "\n",
    "#Our expensive simulation model for the forwar calculations of the likelihood\n",
    "import run_simple_energy_loss\n",
    "\n",
    "\n",
    "from approxposterior import approx, gpUtils as gpu"
   ]
  },
  {
   "cell_type": "markdown",
   "metadata": {},
   "source": [
    "**Data**\n",
    "\n",
    "---\n",
    "\n",
    "First, we generate data from our jet energy loss simulations and assume  indepedent, Gaussian errors, for the measurement of $R_{AA}$."
   ]
  },
  {
   "cell_type": "code",
   "execution_count": 2,
   "metadata": {},
   "outputs": [],
   "source": [
    "simulation=run_simple_energy_loss.run_simulation"
   ]
  },
  {
   "cell_type": "code",
   "execution_count": 3,
   "metadata": {},
   "outputs": [],
   "source": [
    "# Wrap the simulation in a way that it only takes the parameter alpha_s, m_D norm as input and keep all other model\n",
    "# parameters fixed. p_T values have to be discrete and between 1 and 10.\n",
    "def f(alpha_s, mD_factor, p_T_values):\n",
    "    \"\"\"returns simulation output for alpha_s design point\"\"\"\n",
    "    \n",
    "    n_design=1\n",
    "   # print(n_design)\n",
    "    p_mom=(1, 10, 10)\n",
    "    # design for alpha_s parameter\n",
    "    T0_in_fm = np.full((n_design,1), 0.3)\n",
    "    tau0 = np.full((n_design,1), 0.2)\n",
    "    Tf_in_fm = np.full((n_design,1), 0.15)\n",
    "    # We will only consider the change in modle parameter for now\n",
    "    alpha_s = alpha_s.reshape(-1,1)\n",
    "    mD_factor = mD_factor.reshape(-1,1)\n",
    "    design = np.hstack([T0_in_fm, tau0, Tf_in_fm, alpha_s, mD_factor])\n",
    "    #print(design.shape)\n",
    "    observables=simulation(design,*p_mom)\n",
    "    \n",
    "    #Let's just return only one obsrvable for now. The middle p_T bin\n",
    "    p_T_bins=np.array(p_T_values).flatten()\n",
    "    return observables[:,p_T_bins]"
   ]
  },
  {
   "cell_type": "code",
   "execution_count": 4,
   "metadata": {},
   "outputs": [
    {
     "name": "stdout",
     "output_type": "stream",
     "text": [
      "Working on 0/1 designs\n"
     ]
    },
    {
     "name": "stderr",
     "output_type": "stream",
     "text": [
      "/Users/dananjayaliyanage/miniconda3/envs/parton_loss/lib/python3.6/site-packages/scipy/integrate/_ode.py:1180: UserWarning: dopri5: step size becomes too small\n",
      "  self.messages.get(istate, unexpected_istate_msg)))\n",
      "/Users/dananjayaliyanage/miniconda3/envs/parton_loss/lib/python3.6/site-packages/scipy/integrate/_ode.py:1180: UserWarning: dopri5: larger nsteps is needed\n",
      "  self.messages.get(istate, unexpected_istate_msg)))\n",
      "/Users/dananjayaliyanage/git/parton_energy_loss_qcd_bjorken/solver_rk.py:78: IntegrationWarning: The integral is probably divergent, or slowly convergent.\n",
      "  res_quad2b=scipy.integrate.quad(lambda u, p=p: p*integrand_middle(p,u), 0, delta, limit=npts, epsabs=epsabs, epsrel=epsrel)\n",
      "/Users/dananjayaliyanage/git/parton_energy_loss_qcd_bjorken/solver_rk.py:73: IntegrationWarning: The integral is probably divergent, or slowly convergent.\n",
      "  res_quad2a=scipy.integrate.quad(vec_integrand, pmin, p, limit=npts, epsabs=epsabs, epsrel=epsrel)\n"
     ]
    },
    {
     "name": "stdout",
     "output_type": "stream",
     "text": [
      "Shape of the result array is (1, 10)\n"
     ]
    },
    {
     "data": {
      "text/plain": [
       "Text(0.5, 1.0, 'Experimental observations')"
      ]
     },
     "execution_count": 4,
     "metadata": {},
     "output_type": "execute_result"
    },
    {
     "data": {
      "image/png": "[encoded data removed]",
      "text/plain": [
       "<Figure size 576x576 with 1 Axes>"
      ]
     },
     "metadata": {
      "needs_background": "light"
     },
     "output_type": "display_data"
    }
   ],
   "source": [
    "# Set seed for reproducibility.\n",
    "seed = 42\n",
    "np.random.seed(seed)\n",
    "\n",
    "# Choose the \"true\" parameters.\n",
    "alpha_s_true = np.array([0.3])\n",
    "mD_factor_true  = np.array([2])\n",
    "\n",
    "\n",
    "# Generate some synthetic data from the model.\n",
    "x = np.array([3, 5, 7])\n",
    "N = len(x)\n",
    "obserr = 0.05 # Amplitude of noise term\n",
    "obs = f(alpha_s_true, mD_factor_true, x) # True model\n",
    "obs += obserr * np.random.randn(N) # Add some random noise\n",
    "\n",
    "# Now plot it to see what the data looks like\n",
    "fig, ax = plt.subplots(figsize=(8,8))\n",
    "\n",
    "ax.errorbar(x.flatten(), obs.flatten(), yerr=obserr, fmt=\"xk\", capsize=0)\n",
    "#ax.plot(x.flatten(), obs.flatten(), \"k\", alpha=0.3, lw=3)\n",
    "#ax.set_xlim(0, 10)\n",
    "ax.set_xlabel(r\"$p_T$\")\n",
    "ax.set_ylabel(r\"$R_{AA}$\")\n",
    "ax.set_title('Experimental observations')"
   ]
  },
  {
   "cell_type": "markdown",
   "metadata": {},
   "source": [
    "**Inference**\n",
    "\n",
    "---\n",
    "\n",
    "Now we want to infer posterior probability distributions for our model's parameters, $\\theta$, i.e $\\alpha_s$, given the data and uncertainties, D, via Bayes' Theorem: $p(\\theta | D) \\propto l(D | \\theta)p(\\theta)$ where $l(D|\\theta)$ is the likelihood of the data for a given set of model parameters, and $p(\\theta)$ is our assume prior probability of a given $\\theta$. We sample the posterior distribution using the emcee MCMC code.  See the emcee example (https://emcee.readthedocs.io/en/latest/tutorials/line/) for more details of this procedure."
   ]
  },
  {
   "cell_type": "code",
   "execution_count": 5,
   "metadata": {},
   "outputs": [],
   "source": [
    "# Define the loglikelihood function\n",
    "def logLikelihood(theta, x, obs, obserr):\n",
    "  \n",
    "    # Model parameters\n",
    "    theta = np.array(theta)\n",
    "    alpha_s, mD_factor = theta\n",
    "    \n",
    "    # Model predictions given parameters\n",
    "    model = f(alpha_s, mD_factor, x)\n",
    "    \n",
    "    # Likelihood of data given model parameters\n",
    "    return -0.5*np.sum((obs-model)**2/obserr**2)"
   ]
  },
  {
   "cell_type": "code",
   "execution_count": 6,
   "metadata": {},
   "outputs": [],
   "source": [
    "# Define the logprior function\n",
    "def logPrior(theta):\n",
    "    \n",
    "    # Model parameters\n",
    "    theta = np.array(theta)\n",
    "    alpha_s, mD_factor = theta\n",
    "    \n",
    "    # Probability of model parameters: flat prior\n",
    "    if 0 < alpha_s < 1 and 0 < mD_factor < 5:\n",
    "        return 0.0\n",
    "    return -np.inf"
   ]
  },
  {
   "cell_type": "code",
   "execution_count": 7,
   "metadata": {},
   "outputs": [],
   "source": [
    "# Define logprobability function: l(D|theta) * p(theta)\n",
    "# Note: use this for emcee, not approxposterior!\n",
    "def logProbability(theta, x, obs, obserr):\n",
    "        \n",
    "    lp = logPrior(theta)\n",
    "    if not np.isfinite(lp):\n",
    "        return -np.inf\n",
    "    return lp + logLikelihood(theta, x, obs, obserr)"
   ]
  },
  {
   "cell_type": "markdown",
   "metadata": {},
   "source": [
    "**Inference with ```approxposterior```**\n",
    "\n",
    "---\n",
    "\n",
    "Now let's see if we can derive similar constraints using ```approxposterior```.\n",
    "\n",
    "First, ```approxposterior``` requires a function that samples model parameters from the prior distributions."
   ]
  },
  {
   "cell_type": "code",
   "execution_count": 11,
   "metadata": {},
   "outputs": [],
   "source": [
    "def sampleFunction(n):\n",
    "    \"\"\"\n",
    "    docs\n",
    "\n",
    "    Parameters\n",
    "    ----------\n",
    "    n : int\n",
    "        Number of samples\n",
    "\n",
    "    Returns\n",
    "    -------\n",
    "    sample : floats\n",
    "        n x 3 array of floats samples from the prior\n",
    "    \"\"\"\n",
    "\n",
    "    # Sample model parameters given prior distributions\n",
    "    alpha_s = np.random.uniform(size=(n))\n",
    "    mD_norm = np.random.uniform(low=0, high=5, size=(n))\n",
    "   # b = np.random.uniform(low=0, high=10, size=(n))\n",
    "    \n",
    "    return np.array([alpha_s, mD_norm]).T\n",
    "# end function"
   ]
  },
  {
   "cell_type": "markdown",
   "metadata": {},
   "source": [
    "Define the ```approxposterior``` parameters."
   ]
  },
  {
   "cell_type": "code",
   "execution_count": 12,
   "metadata": {},
   "outputs": [],
   "source": [
    "# Define algorithm parameters\n",
    "m0 = 5                           # Initial size of training set\n",
    "m = 10                            # Number of new points to find each iteration\n",
    "nmax = 5                          # Maximum number of iterations\n",
    "bounds = [(0,1),(0,5)]    # Prior bounds\n",
    "algorithm = \"bape\"                # Use the Kandasamy et al. (2017) formalism\n",
    "\n",
    "# emcee MCMC parameters: Use the same MCMC parameters as the emcee-only analysis\n",
    "samplerKwargs = {\"nwalkers\" : 5}  # emcee.EnsembleSampler parameters\n",
    "mcmcKwargs = {\"iterations\" : 5000} # emcee.EnsembleSampler.run_mcmc parameters\n",
    "\n",
    "# Data and uncertainties that we use to condition our model\n",
    "args = (x, obs, obserr)"
   ]
  },
  {
   "cell_type": "markdown",
   "metadata": {},
   "source": [
    "Here we create the initial training set by running the true forward model $m_0$ times.  ```approxposterior``` learns on this training set and, each iteration, runs the forward model $m$ additional times in regions of parameter space that will most improve its owns predictive performance, iteratively improving the posterior distribution estimate."
   ]
  },
  {
   "cell_type": "code",
   "execution_count": 13,
   "metadata": {},
   "outputs": [
    {
     "name": "stdout",
     "output_type": "stream",
     "text": [
      "Working on 0/1 designs\n",
      "Shape of the result array is (1, 10)\n",
      "Working on 0/1 designs\n",
      "Shape of the result array is (1, 10)\n",
      "Working on 0/1 designs\n",
      "Shape of the result array is (1, 10)\n",
      "Working on 0/1 designs\n"
     ]
    },
    {
     "name": "stderr",
     "output_type": "stream",
     "text": [
      "/Users/dananjayaliyanage/git/parton_energy_loss_qcd_bjorken/solver_rk.py:42: RuntimeWarning: invalid value encountered in log\n",
      "  log_P_g_prev=np.log(P_g)\n",
      "/Users/dananjayaliyanage/git/parton_energy_loss_qcd_bjorken/solver_rk.py:74: IntegrationWarning: The occurrence of roundoff error is detected, which prevents \n",
      "  the requested tolerance from being achieved.  The error may be \n",
      "  underestimated.\n",
      "  res_quad2c=scipy.integrate.quad(vec_integrand, p, pmax, limit=npts, epsabs=epsabs, epsrel=epsrel)\n",
      "/Users/dananjayaliyanage/git/parton_energy_loss_qcd_bjorken/solver_rk.py:77: IntegrationWarning: The occurrence of roundoff error is detected, which prevents \n",
      "  the requested tolerance from being achieved.  The error may be \n",
      "  underestimated.\n",
      "  res_quad2a=scipy.integrate.quad(vec_integrand, pmin, p*(1-delta), limit=npts, epsabs=epsabs, epsrel=epsrel)\n",
      "/Users/dananjayaliyanage/git/parton_energy_loss_qcd_bjorken/solver_rk.py:78: IntegrationWarning: The occurrence of roundoff error is detected, which prevents \n",
      "  the requested tolerance from being achieved.  The error may be \n",
      "  underestimated.\n",
      "  res_quad2b=scipy.integrate.quad(lambda u, p=p: p*integrand_middle(p,u), 0, delta, limit=npts, epsabs=epsabs, epsrel=epsrel)\n",
      "/Users/dananjayaliyanage/git/parton_energy_loss_qcd_bjorken/solver_rk.py:79: IntegrationWarning: The occurrence of roundoff error is detected, which prevents \n",
      "  the requested tolerance from being achieved.  The error may be \n",
      "  underestimated.\n",
      "  res_quad2c=scipy.integrate.quad(vec_integrand, p*(1+delta), pmax, limit=npts, epsabs=epsabs, epsrel=epsrel)\n",
      "/Users/dananjayaliyanage/git/parton_energy_loss_qcd_bjorken/solver_rk.py:73: IntegrationWarning: The occurrence of roundoff error is detected, which prevents \n",
      "  the requested tolerance from being achieved.  The error may be \n",
      "  underestimated.\n",
      "  res_quad2a=scipy.integrate.quad(vec_integrand, pmin, p, limit=npts, epsabs=epsabs, epsrel=epsrel)\n",
      "/Users/dananjayaliyanage/git/parton_energy_loss_qcd_bjorken/solver_rk.py:74: IntegrationWarning: Extremely bad integrand behavior occurs at some points of the\n",
      "  integration interval.\n",
      "  res_quad2c=scipy.integrate.quad(vec_integrand, p, pmax, limit=npts, epsabs=epsabs, epsrel=epsrel)\n",
      "/Users/dananjayaliyanage/git/parton_energy_loss_qcd_bjorken/solver_rk.py:73: IntegrationWarning: Extremely bad integrand behavior occurs at some points of the\n",
      "  integration interval.\n",
      "  res_quad2a=scipy.integrate.quad(vec_integrand, pmin, p, limit=npts, epsabs=epsabs, epsrel=epsrel)\n"
     ]
    },
    {
     "name": "stdout",
     "output_type": "stream",
     "text": [
      "Shape of the result array is (1, 10)\n",
      "Working on 0/1 designs\n",
      "Shape of the result array is (1, 10)\n"
     ]
    }
   ],
   "source": [
    "# Create a training set to condition the GP\n",
    "\n",
    "# Randomly sample initial conditions from the prior\n",
    "theta = np.array(sampleFunction(m0))\n",
    "\n",
    "# Evaluate forward model to compute log likelihood + lnprior for each theta\n",
    "y = list()\n",
    "for ii in range(len(theta)):\n",
    "    y.append(logLikelihood(theta[ii,:], *args) + logPrior(theta[ii,:]))\n",
    "y = np.array(y)\n",
    "\n",
    "# We'll create the initial GP using approxposterior's built-in default\n",
    "# initialization.  This default typically works well in many applications.\n",
    "gp = gpu.defaultGP(theta, y)"
   ]
  },
  {
   "cell_type": "markdown",
   "metadata": {},
   "source": [
    "Now initialize the ```ApproxPosterior``` object and we're ready to go!"
   ]
  },
  {
   "cell_type": "code",
   "execution_count": 14,
   "metadata": {},
   "outputs": [],
   "source": [
    "ap = approx.ApproxPosterior(theta=theta,                   # Initial model parameters for inputs\n",
    "                            y=y,                           # Logprobability of each input\n",
    "                            gp=gp,                         # Initialize Gaussian Process\n",
    "                            lnprior=logPrior,              # logprior function\n",
    "                            lnlike=logLikelihood,          # loglikelihood function\n",
    "                            priorSample=sampleFunction,    # Prior sample function\n",
    "                            algorithm=algorithm,           # bape, agp, or alternate\n",
    "                            bounds=bounds)                 # Parameter bounds"
   ]
  },
  {
   "cell_type": "markdown",
   "metadata": {},
   "source": [
    "Run ```approxposterior```! Note that we set cache to False so ```approxposterior``` only saves the most recent sampler and MCMC chain instead of saving each full MCMC chain to a local HD5f file (see emcee v3 documentation for more details on how emcee caches data)."
   ]
  },
  {
   "cell_type": "code",
   "execution_count": 15,
   "metadata": {},
   "outputs": [
    {
     "name": "stderr",
     "output_type": "stream",
     "text": [
      "/Users/dananjayaliyanage/miniconda3/envs/parton_loss/lib/python3.6/site-packages/scipy/optimize/optimize.py:2116: RuntimeWarning: invalid value encountered in double_scalars\n",
      "  tmp2 = (x - v) * (fx - fw)\n",
      "\r",
      "  0%|          | 0/10 [00:00<?, ?it/s]"
     ]
    },
    {
     "name": "stdout",
     "output_type": "stream",
     "text": [
      "Working on 0/1 designs\n"
     ]
    },
    {
     "name": "stderr",
     "output_type": "stream",
     "text": [
      "\r",
      " 10%|█         | 1/10 [02:40<24:08, 160.92s/it]"
     ]
    },
    {
     "name": "stdout",
     "output_type": "stream",
     "text": [
      "Shape of the result array is (1, 10)\n",
      "hyperparameters [-145.0129453   -14.78349568   -3.28864441]\n",
      "Working on 0/1 designs\n"
     ]
    },
    {
     "name": "stderr",
     "output_type": "stream",
     "text": [
      "\r",
      " 20%|██        | 2/10 [02:51<09:39, 72.38s/it] "
     ]
    },
    {
     "name": "stdout",
     "output_type": "stream",
     "text": [
      "Shape of the result array is (1, 10)\n",
      "hyperparameters [-125.43915243  -14.7932839    -3.28184452]\n",
      "Working on 0/1 designs\n"
     ]
    },
    {
     "name": "stderr",
     "output_type": "stream",
     "text": [
      "\r",
      " 30%|███       | 3/10 [03:19<06:03, 51.99s/it]"
     ]
    },
    {
     "name": "stdout",
     "output_type": "stream",
     "text": [
      "Shape of the result array is (1, 10)\n",
      "hyperparameters [-125.77760902   -3.94177893   -1.61229298]\n",
      "Working on 0/1 designs\n"
     ]
    },
    {
     "name": "stderr",
     "output_type": "stream",
     "text": [
      "\r",
      " 40%|████      | 4/10 [05:54<09:17, 92.87s/it]"
     ]
    },
    {
     "name": "stdout",
     "output_type": "stream",
     "text": [
      "Shape of the result array is (1, 10)\n",
      "hyperparameters [-125.85112294   -4.13411578   -1.62134899]\n",
      "Working on 0/1 designs\n"
     ]
    },
    {
     "name": "stderr",
     "output_type": "stream",
     "text": [
      "\r",
      " 50%|█████     | 5/10 [10:12<12:41, 152.25s/it]"
     ]
    },
    {
     "name": "stdout",
     "output_type": "stream",
     "text": [
      "Shape of the result array is (1, 10)\n",
      "hyperparameters [-125.81962263   -4.11501845   -1.62002359]\n",
      "Working on 0/1 designs\n"
     ]
    },
    {
     "name": "stderr",
     "output_type": "stream",
     "text": [
      "\r",
      " 60%|██████    | 6/10 [10:41<07:21, 110.43s/it]"
     ]
    },
    {
     "name": "stdout",
     "output_type": "stream",
     "text": [
      "Shape of the result array is (1, 10)\n",
      "hyperparameters [-125.79966406   -4.10739436   -1.61590261]\n",
      "Working on 0/1 designs\n"
     ]
    },
    {
     "name": "stderr",
     "output_type": "stream",
     "text": [
      "\r",
      " 70%|███████   | 7/10 [11:08<04:10, 83.34s/it] "
     ]
    },
    {
     "name": "stdout",
     "output_type": "stream",
     "text": [
      "Shape of the result array is (1, 10)\n",
      "hyperparameters [-125.6361339    -4.0350364    -1.60612937]\n",
      "Working on 0/1 designs\n"
     ]
    },
    {
     "name": "stderr",
     "output_type": "stream",
     "text": [
      "\r",
      " 80%|████████  | 8/10 [11:33<02:09, 64.58s/it]"
     ]
    },
    {
     "name": "stdout",
     "output_type": "stream",
     "text": [
      "Shape of the result array is (1, 10)\n",
      "hyperparameters [-118.02315791   -4.90586522   -1.57735449]\n",
      "Working on 0/1 designs\n"
     ]
    },
    {
     "name": "stderr",
     "output_type": "stream",
     "text": [
      "\r",
      " 90%|█████████ | 9/10 [11:46<00:48, 48.61s/it]"
     ]
    },
    {
     "name": "stdout",
     "output_type": "stream",
     "text": [
      "Shape of the result array is (1, 10)\n",
      "hyperparameters [-115.70597852   -5.30414472   -1.51946392]\n",
      "Working on 0/1 designs\n"
     ]
    },
    {
     "name": "stderr",
     "output_type": "stream",
     "text": [
      "100%|██████████| 10/10 [12:01<00:00, 72.11s/it]\n",
      "  0%|          | 0/10 [00:00<?, ?it/s]"
     ]
    },
    {
     "name": "stdout",
     "output_type": "stream",
     "text": [
      "Shape of the result array is (1, 10)\n",
      "hyperparameters [-115.73948889   -5.0108718    -1.52310425]\n",
      "Working on 0/1 designs\n"
     ]
    },
    {
     "name": "stderr",
     "output_type": "stream",
     "text": [
      "\r",
      " 10%|█         | 1/10 [00:15<02:17, 15.31s/it]"
     ]
    },
    {
     "name": "stdout",
     "output_type": "stream",
     "text": [
      "Shape of the result array is (1, 10)\n",
      "hyperparameters [-115.10901541   -4.61929349   -1.52976793]\n",
      "Working on 0/1 designs\n"
     ]
    },
    {
     "name": "stderr",
     "output_type": "stream",
     "text": [
      "\r",
      " 20%|██        | 2/10 [00:29<01:55, 14.38s/it]"
     ]
    },
    {
     "name": "stdout",
     "output_type": "stream",
     "text": [
      "Shape of the result array is (1, 10)\n",
      "hyperparameters [-110.26256586   -4.46309952   -1.40139768]\n",
      "Working on 0/1 designs\n"
     ]
    },
    {
     "name": "stderr",
     "output_type": "stream",
     "text": [
      "\r",
      " 30%|███       | 3/10 [00:42<01:37, 13.93s/it]"
     ]
    },
    {
     "name": "stdout",
     "output_type": "stream",
     "text": [
      "Shape of the result array is (1, 10)\n",
      "hyperparameters [-110.30511408   -4.44094914   -1.39676147]\n",
      "Working on 0/1 designs\n"
     ]
    },
    {
     "name": "stderr",
     "output_type": "stream",
     "text": [
      "\r",
      " 40%|████      | 4/10 [00:56<01:23, 13.93s/it]"
     ]
    },
    {
     "name": "stdout",
     "output_type": "stream",
     "text": [
      "Shape of the result array is (1, 10)\n",
      "hyperparameters [-111.64663185   -4.49830877   -1.54579368]\n",
      "Working on 0/1 designs\n"
     ]
    },
    {
     "name": "stderr",
     "output_type": "stream",
     "text": [
      "\r",
      " 50%|█████     | 5/10 [01:09<01:08, 13.80s/it]"
     ]
    },
    {
     "name": "stdout",
     "output_type": "stream",
     "text": [
      "Shape of the result array is (1, 10)\n",
      "hyperparameters [-106.34468951   -4.84737886   -1.36165527]\n",
      "Working on 0/1 designs\n"
     ]
    },
    {
     "name": "stderr",
     "output_type": "stream",
     "text": [
      "\r",
      " 60%|██████    | 6/10 [01:23<00:54, 13.69s/it]"
     ]
    },
    {
     "name": "stdout",
     "output_type": "stream",
     "text": [
      "Shape of the result array is (1, 10)\n",
      "hyperparameters [-105.42044677   -4.94883425   -1.34717711]\n",
      "Working on 0/1 designs\n"
     ]
    },
    {
     "name": "stderr",
     "output_type": "stream",
     "text": [
      "\r",
      " 70%|███████   | 7/10 [01:37<00:41, 13.94s/it]"
     ]
    },
    {
     "name": "stdout",
     "output_type": "stream",
     "text": [
      "Shape of the result array is (1, 10)\n",
      "hyperparameters [-105.87218674   -4.85711875   -1.34846304]\n",
      "Working on 0/1 designs\n"
     ]
    },
    {
     "name": "stderr",
     "output_type": "stream",
     "text": [
      "\r",
      " 80%|████████  | 8/10 [01:52<00:28, 14.19s/it]"
     ]
    },
    {
     "name": "stdout",
     "output_type": "stream",
     "text": [
      "Shape of the result array is (1, 10)\n",
      "hyperparameters [-97.79909714  -5.43792804  -1.2732881 ]\n",
      "Working on 0/1 designs\n"
     ]
    },
    {
     "name": "stderr",
     "output_type": "stream",
     "text": [
      "\r",
      " 90%|█████████ | 9/10 [02:05<00:13, 13.94s/it]"
     ]
    },
    {
     "name": "stdout",
     "output_type": "stream",
     "text": [
      "Shape of the result array is (1, 10)\n",
      "hyperparameters [-97.6437879   -5.40491881  -1.28100356]\n",
      "Working on 0/1 designs\n"
     ]
    },
    {
     "name": "stderr",
     "output_type": "stream",
     "text": [
      "100%|██████████| 10/10 [02:19<00:00, 13.93s/it]\n",
      "  0%|          | 0/10 [00:00<?, ?it/s]"
     ]
    },
    {
     "name": "stdout",
     "output_type": "stream",
     "text": [
      "Shape of the result array is (1, 10)\n",
      "hyperparameters [-97.47321842  -5.40850339  -1.27832888]\n",
      "Working on 0/1 designs\n"
     ]
    },
    {
     "name": "stderr",
     "output_type": "stream",
     "text": [
      "\r",
      " 10%|█         | 1/10 [00:13<02:00, 13.36s/it]"
     ]
    },
    {
     "name": "stdout",
     "output_type": "stream",
     "text": [
      "Shape of the result array is (1, 10)\n",
      "hyperparameters [-97.29265474  -5.33548711  -1.24946034]\n",
      "Working on 0/1 designs\n"
     ]
    },
    {
     "name": "stderr",
     "output_type": "stream",
     "text": [
      "\r",
      " 20%|██        | 2/10 [00:26<01:45, 13.23s/it]"
     ]
    },
    {
     "name": "stdout",
     "output_type": "stream",
     "text": [
      "Shape of the result array is (1, 10)\n",
      "hyperparameters [-95.64058972  -5.44114945  -1.19432145]\n",
      "Working on 0/1 designs\n"
     ]
    },
    {
     "name": "stderr",
     "output_type": "stream",
     "text": [
      "\r",
      " 30%|███       | 3/10 [04:44<14:33, 124.80s/it]"
     ]
    },
    {
     "name": "stdout",
     "output_type": "stream",
     "text": [
      "Shape of the result array is (1, 10)\n",
      "hyperparameters [-40.8214299   -1.7399636  -16.72750464]\n",
      "Working on 0/1 designs\n"
     ]
    },
    {
     "name": "stderr",
     "output_type": "stream",
     "text": [
      "\r",
      " 40%|████      | 4/10 [05:01<08:15, 82.56s/it] "
     ]
    },
    {
     "name": "stdout",
     "output_type": "stream",
     "text": [
      "Shape of the result array is (1, 10)\n",
      "hyperparameters [-93.83863779  -5.42633736  -1.18336813]\n",
      "Working on 0/1 designs\n"
     ]
    },
    {
     "name": "stderr",
     "output_type": "stream",
     "text": [
      "\r",
      " 50%|█████     | 5/10 [05:15<04:48, 57.73s/it]"
     ]
    },
    {
     "name": "stdout",
     "output_type": "stream",
     "text": [
      "Shape of the result array is (1, 10)\n",
      "hyperparameters [-89.46142063  -5.65980087  -1.10197219]\n",
      "Working on 0/1 designs\n"
     ]
    },
    {
     "name": "stderr",
     "output_type": "stream",
     "text": [
      "\r",
      " 60%|██████    | 6/10 [05:29<02:51, 42.77s/it]"
     ]
    },
    {
     "name": "stdout",
     "output_type": "stream",
     "text": [
      "Shape of the result array is (1, 10)\n",
      "hyperparameters [-88.67560384  -5.65831736  -1.10048113]\n",
      "Working on 0/1 designs\n"
     ]
    },
    {
     "name": "stderr",
     "output_type": "stream",
     "text": [
      "\r",
      " 70%|███████   | 7/10 [05:42<01:39, 33.20s/it]"
     ]
    },
    {
     "name": "stdout",
     "output_type": "stream",
     "text": [
      "Shape of the result array is (1, 10)\n",
      "hyperparameters [-88.51048339  -5.65078379  -1.09806104]\n",
      "Working on 0/1 designs\n"
     ]
    },
    {
     "name": "stderr",
     "output_type": "stream",
     "text": [
      "\r",
      " 80%|████████  | 8/10 [05:50<00:50, 25.08s/it]"
     ]
    },
    {
     "name": "stdout",
     "output_type": "stream",
     "text": [
      "Shape of the result array is (1, 10)\n",
      "hyperparameters [-35.14917239  -2.09796004 -17.05393065]\n",
      "Working on 0/1 designs\n"
     ]
    },
    {
     "name": "stderr",
     "output_type": "stream",
     "text": [
      "\r",
      " 90%|█████████ | 9/10 [06:04<00:21, 21.53s/it]"
     ]
    },
    {
     "name": "stdout",
     "output_type": "stream",
     "text": [
      "Shape of the result array is (1, 10)\n",
      "hyperparameters [-113.79841174   -4.64349091   -1.39167675]\n",
      "Working on 0/1 designs\n"
     ]
    },
    {
     "name": "stderr",
     "output_type": "stream",
     "text": [
      "100%|██████████| 10/10 [06:19<00:00, 37.95s/it]\n",
      "  0%|          | 0/10 [00:00<?, ?it/s]"
     ]
    },
    {
     "name": "stdout",
     "output_type": "stream",
     "text": [
      "Shape of the result array is (1, 10)\n",
      "hyperparameters [-113.70489019   -4.67275663   -1.36388625]\n",
      "Working on 0/1 designs\n"
     ]
    },
    {
     "name": "stderr",
     "output_type": "stream",
     "text": [
      "\r",
      " 10%|█         | 1/10 [00:14<02:08, 14.27s/it]"
     ]
    },
    {
     "name": "stdout",
     "output_type": "stream",
     "text": [
      "Shape of the result array is (1, 10)\n",
      "hyperparameters [-113.15087883   -4.67973155   -1.37086616]\n",
      "Working on 0/1 designs\n"
     ]
    },
    {
     "name": "stderr",
     "output_type": "stream",
     "text": [
      "\r",
      " 20%|██        | 2/10 [00:27<01:50, 13.87s/it]"
     ]
    },
    {
     "name": "stdout",
     "output_type": "stream",
     "text": [
      "Shape of the result array is (1, 10)\n",
      "hyperparameters [-114.00743428   -4.78941052   -1.59735428]\n",
      "Working on 0/1 designs\n"
     ]
    },
    {
     "name": "stderr",
     "output_type": "stream",
     "text": [
      "\r",
      " 30%|███       | 3/10 [00:41<01:37, 13.97s/it]"
     ]
    },
    {
     "name": "stdout",
     "output_type": "stream",
     "text": [
      "Shape of the result array is (1, 10)\n",
      "hyperparameters [-114.08573404   -4.79000442   -1.58866141]\n",
      "Working on 0/1 designs\n"
     ]
    },
    {
     "name": "stderr",
     "output_type": "stream",
     "text": [
      "\r",
      " 40%|████      | 4/10 [00:56<01:24, 14.13s/it]"
     ]
    },
    {
     "name": "stdout",
     "output_type": "stream",
     "text": [
      "Shape of the result array is (1, 10)\n",
      "hyperparameters [-114.13977011   -4.93835462   -1.49889473]\n",
      "Working on 0/1 designs\n"
     ]
    },
    {
     "name": "stderr",
     "output_type": "stream",
     "text": [
      "\r",
      " 50%|█████     | 5/10 [01:10<01:10, 14.03s/it]"
     ]
    },
    {
     "name": "stdout",
     "output_type": "stream",
     "text": [
      "Shape of the result array is (1, 10)\n",
      "hyperparameters [-112.41181614   -4.83000061   -1.52248232]\n",
      "Working on 0/1 designs\n"
     ]
    },
    {
     "name": "stderr",
     "output_type": "stream",
     "text": [
      "\r",
      " 60%|██████    | 6/10 [01:24<00:56, 14.13s/it]"
     ]
    },
    {
     "name": "stdout",
     "output_type": "stream",
     "text": [
      "Shape of the result array is (1, 10)\n",
      "hyperparameters [-110.4722106    -4.53310547   -2.00923352]\n",
      "Working on 0/1 designs\n"
     ]
    },
    {
     "name": "stderr",
     "output_type": "stream",
     "text": [
      "\r",
      " 70%|███████   | 7/10 [01:38<00:41, 13.95s/it]"
     ]
    },
    {
     "name": "stdout",
     "output_type": "stream",
     "text": [
      "Shape of the result array is (1, 10)\n",
      "hyperparameters [-110.13075638   -4.55588871   -1.98775342]\n",
      "Working on 0/1 designs\n"
     ]
    },
    {
     "name": "stderr",
     "output_type": "stream",
     "text": [
      "\r",
      " 80%|████████  | 8/10 [04:22<02:03, 61.90s/it]"
     ]
    },
    {
     "name": "stdout",
     "output_type": "stream",
     "text": [
      "Shape of the result array is (1, 10)\n",
      "hyperparameters [-109.90470119   -4.5456144    -1.99734059]\n",
      "Working on 0/1 designs\n"
     ]
    },
    {
     "name": "stderr",
     "output_type": "stream",
     "text": [
      "\r",
      " 90%|█████████ | 9/10 [06:54<01:30, 90.01s/it]"
     ]
    },
    {
     "name": "stdout",
     "output_type": "stream",
     "text": [
      "Shape of the result array is (1, 10)\n",
      "hyperparameters [-109.98925612   -4.55353424   -1.9872696 ]\n",
      "Working on 0/1 designs\n"
     ]
    },
    {
     "name": "stderr",
     "output_type": "stream",
     "text": [
      "100%|██████████| 10/10 [07:09<00:00, 42.94s/it]\n",
      "  0%|          | 0/10 [00:00<?, ?it/s]"
     ]
    },
    {
     "name": "stdout",
     "output_type": "stream",
     "text": [
      "Shape of the result array is (1, 10)\n",
      "hyperparameters [-35.27906841  -3.11837572 -16.74730948]\n",
      "Working on 0/1 designs\n",
      "Shape of the result array is (1, 10)\n",
      "hyperparameters [-109.71291791   -4.5699716    -2.00051948]\n"
     ]
    },
    {
     "name": "stderr",
     "output_type": "stream",
     "text": [
      "\r",
      " 10%|█         | 1/10 [00:13<02:04, 13.80s/it]"
     ]
    },
    {
     "name": "stdout",
     "output_type": "stream",
     "text": [
      "Working on 0/1 designs\n"
     ]
    },
    {
     "name": "stderr",
     "output_type": "stream",
     "text": [
      "\r",
      " 20%|██        | 2/10 [00:27<01:48, 13.59s/it]"
     ]
    },
    {
     "name": "stdout",
     "output_type": "stream",
     "text": [
      "Shape of the result array is (1, 10)\n",
      "hyperparameters [-108.84648888   -4.55284399   -1.95096157]\n",
      "Working on 0/1 designs\n"
     ]
    },
    {
     "name": "stderr",
     "output_type": "stream",
     "text": [
      "\r",
      " 30%|███       | 3/10 [00:40<01:34, 13.47s/it]"
     ]
    },
    {
     "name": "stdout",
     "output_type": "stream",
     "text": [
      "Shape of the result array is (1, 10)\n",
      "hyperparameters [-107.90860334   -4.56251309   -1.89981587]\n",
      "Working on 0/1 designs\n"
     ]
    },
    {
     "name": "stderr",
     "output_type": "stream",
     "text": [
      "\r",
      " 40%|████      | 4/10 [03:14<06:52, 68.76s/it]"
     ]
    },
    {
     "name": "stdout",
     "output_type": "stream",
     "text": [
      "Shape of the result array is (1, 10)\n",
      "hyperparameters [-107.72653659   -4.54500514   -1.89762084]\n",
      "Working on 0/1 designs\n"
     ]
    },
    {
     "name": "stderr",
     "output_type": "stream",
     "text": [
      "\r",
      " 50%|█████     | 5/10 [03:27<04:04, 48.94s/it]"
     ]
    },
    {
     "name": "stdout",
     "output_type": "stream",
     "text": [
      "Shape of the result array is (1, 10)\n",
      "hyperparameters [-105.93435776   -4.56025004   -1.87845853]\n",
      "Working on 0/1 designs\n"
     ]
    },
    {
     "name": "stderr",
     "output_type": "stream",
     "text": [
      "\r",
      " 60%|██████    | 6/10 [03:43<02:29, 37.50s/it]"
     ]
    },
    {
     "name": "stdout",
     "output_type": "stream",
     "text": [
      "Shape of the result array is (1, 10)\n",
      "hyperparameters [-104.81095116   -4.56028424   -1.89043616]\n",
      "Working on 0/1 designs\n"
     ]
    },
    {
     "name": "stderr",
     "output_type": "stream",
     "text": [
      "\r",
      " 70%|███████   | 7/10 [03:58<01:30, 30.11s/it]"
     ]
    },
    {
     "name": "stdout",
     "output_type": "stream",
     "text": [
      "Shape of the result array is (1, 10)\n",
      "hyperparameters [-104.42058559   -4.5333972    -2.1978996 ]\n",
      "Working on 0/1 designs\n"
     ]
    },
    {
     "name": "stderr",
     "output_type": "stream",
     "text": [
      "\r",
      " 80%|████████  | 8/10 [04:11<00:49, 24.89s/it]"
     ]
    },
    {
     "name": "stdout",
     "output_type": "stream",
     "text": [
      "Shape of the result array is (1, 10)\n",
      "hyperparameters [-104.57261078   -4.54311936   -2.19831578]\n",
      "Working on 0/1 designs\n"
     ]
    },
    {
     "name": "stderr",
     "output_type": "stream",
     "text": [
      "\r",
      " 90%|█████████ | 9/10 [04:25<00:21, 21.43s/it]"
     ]
    },
    {
     "name": "stdout",
     "output_type": "stream",
     "text": [
      "Shape of the result array is (1, 10)\n",
      "hyperparameters [-103.26478639   -4.50610828   -2.17510667]\n",
      "Working on 0/1 designs\n"
     ]
    },
    {
     "name": "stderr",
     "output_type": "stream",
     "text": [
      "100%|██████████| 10/10 [04:39<00:00, 27.93s/it]"
     ]
    },
    {
     "name": "stdout",
     "output_type": "stream",
     "text": [
      "Shape of the result array is (1, 10)\n",
      "hyperparameters [-103.06452976   -4.52148118   -2.173509  ]\n"
     ]
    },
    {
     "name": "stderr",
     "output_type": "stream",
     "text": [
      "\n"
     ]
    }
   ],
   "source": [
    "# Run!\n",
    "ap.run(m=m, nmax=nmax,estBurnin=True, mcmcKwargs=mcmcKwargs, cache=False,\n",
    "       samplerKwargs=samplerKwargs, verbose=False, args=args, onlyLastMCMC=True,\n",
    "       seed=seed)"
   ]
  },
  {
   "cell_type": "markdown",
   "metadata": {},
   "source": [
    "As before, let's plot the joint and marginal posterior probability distributions to see how ```approxposterior``` did. In addition, as red points, we'll plot where ```approxposterior``` decided to evaluate the forward model to improve its own performance.  As you'll see below, ```approxposterior``` preferentially runs the forward model in regions of high posterior probability density - it doesn't waste time on low likelihood regions of parameter space!"
   ]
  },
  {
   "cell_type": "code",
   "execution_count": 16,
   "metadata": {},
   "outputs": [
    {
     "data": {
      "image/png": "[encoded data removed]",
      "text/plain": [
       "<Figure size 396x396 with 4 Axes>"
      ]
     },
     "metadata": {
      "needs_background": "light"
     },
     "output_type": "display_data"
    }
   ],
   "source": [
    "samples = ap.sampler.get_chain(discard=500, flat=True, thin=1)\n",
    "\n",
    "fig = corner.corner(samples, quantiles=[0.16, 0.5, 0.84], truths=[alpha_s_true, mD_factor_true],\n",
    "                    labels=[r\"$\\alpha_s$\", \"mD_factor\"], show_titles=True, scale_hist=True,\n",
    "                    plot_contours=True, range=([0,1],[0, 5]));\n",
    "\n",
    "# Plot where forward model was evaluated\n",
    "fig.axes[2].scatter(ap.theta[:,0], ap.theta[:,1], s=8, color=\"red\", zorder=20);"
   ]
  },
  {
   "cell_type": "markdown",
   "metadata": {},
   "source": [
    "The predictions are close to the true MCMC!"
   ]
  },
  {
   "cell_type": "code",
   "execution_count": null,
   "metadata": {},
   "outputs": [],
   "source": []
  }
 ],
 "metadata": {
  "kernelspec": {
   "display_name": "Python 3",
   "language": "python",
   "name": "python3"
  },
  "language_info": {
   "codemirror_mode": {
    "name": "ipython",
    "version": 3
   },
   "file_extension": ".py",
   "mimetype": "text/x-python",
   "name": "python",
   "nbconvert_exporter": "python",
   "pygments_lexer": "ipython3",
   "version": "3.6.13"
  }
 },
 "nbformat": 4,
 "nbformat_minor": 4
}
