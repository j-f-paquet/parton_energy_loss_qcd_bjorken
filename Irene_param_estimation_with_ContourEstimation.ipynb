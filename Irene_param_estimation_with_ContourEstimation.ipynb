{
 "cells": [
  {
   "cell_type": "code",
   "execution_count": 1,
   "metadata": {},
   "outputs": [],
   "source": [
    "import emcee\n",
    "from scipy.optimize import minimize\n",
    "import corner\n",
    "import ptemcee\n",
    "import subprocess\n",
    "import pandas as pd\n",
    "import numpy as np\n",
    "import matplotlib.pyplot as plt\n",
    "from emukit.core import ParameterSpace, ContinuousParameter\n",
    "from GPy.models import MultioutputGP\n",
    "from GPy import likelihoods\n",
    "from emukit.model_wrappers import GPyMultiOutputWrapper\n",
    "from GPy.kern import RBF"
   ]
  },
  {
   "cell_type": "markdown",
   "metadata": {},
   "source": [
    "1-dimensional input, 2-dimensional outputs"
   ]
  },
  {
   "cell_type": "code",
   "execution_count": 2,
   "metadata": {},
   "outputs": [],
   "source": [
    "parameter_space = ParameterSpace([ContinuousParameter('x', 0, 1)])"
   ]
  },
  {
   "cell_type": "code",
   "execution_count": 3,
   "metadata": {},
   "outputs": [],
   "source": [
    "from emukit.core.initial_designs import RandomDesign\n",
    "\n",
    "design = RandomDesign(parameter_space)\n",
    "num_data_points = 2\n",
    "X = design.get_samples(num_data_points)"
   ]
  },
  {
   "cell_type": "code",
   "execution_count": 4,
   "metadata": {},
   "outputs": [],
   "source": [
    "def f(X): # add noise\n",
    "    y1 = np.sin(X)\n",
    "    y2 = np.cos(X)\n",
    "    return np.hstack([np.sin(X),np.cos(X)])"
   ]
  },
  {
   "cell_type": "code",
   "execution_count": 5,
   "metadata": {},
   "outputs": [
    {
     "data": {
      "text/plain": [
       "array([[0.4778312 ],\n",
       "       [0.25618252]])"
      ]
     },
     "execution_count": 5,
     "metadata": {},
     "output_type": "execute_result"
    }
   ],
   "source": [
    "X"
   ]
  },
  {
   "cell_type": "markdown",
   "metadata": {},
   "source": [
    "Predict 1 point:"
   ]
  },
  {
   "cell_type": "markdown",
   "metadata": {},
   "source": [
    "Use 0,1 to indicate which output to predict:"
   ]
  },
  {
   "cell_type": "code",
   "execution_count": 6,
   "metadata": {},
   "outputs": [
    {
     "data": {
      "text/plain": [
       "array([[0.5, 0. ],\n",
       "       [0.5, 1. ]])"
      ]
     },
     "execution_count": 6,
     "metadata": {},
     "output_type": "execute_result"
    }
   ],
   "source": [
    "xtest = np.array([[0.5],[0.5]])\n",
    "new_column = [[0], [1]]\n",
    "xtest = np.append(xtest, new_column, axis=1)\n",
    "xtest"
   ]
  },
  {
   "cell_type": "markdown",
   "metadata": {},
   "source": [
    "Add indicator to training points:"
   ]
  },
  {
   "cell_type": "code",
   "execution_count": 7,
   "metadata": {},
   "outputs": [],
   "source": [
    "from emukit.multi_fidelity.convert_lists_to_array import convert_xy_lists_to_arrays"
   ]
  },
  {
   "cell_type": "code",
   "execution_count": 8,
   "metadata": {
    "scrolled": true
   },
   "outputs": [
    {
     "data": {
      "text/plain": [
       "[array([[0.4778312 , 0.        ],\n",
       "        [0.25618252, 0.        ],\n",
       "        [0.4778312 , 1.        ],\n",
       "        [0.25618252, 1.        ]]),\n",
       " array([[0.45985438],\n",
       "        [0.25338951],\n",
       "        [0.88799434],\n",
       "        [0.96736433]])]"
      ]
     },
     "execution_count": 8,
     "metadata": {},
     "output_type": "execute_result"
    }
   ],
   "source": [
    "X_train, Y_train = convert_xy_lists_to_arrays([X,X],[np.sin(X),np.cos(X)])\n",
    "[X_train, Y_train]"
   ]
  },
  {
   "cell_type": "code",
   "execution_count": 16,
   "metadata": {
    "scrolled": true
   },
   "outputs": [],
   "source": [
    "kernel1 = RBF(input_dim=1)\n",
    "kernel2 = RBF(input_dim=1)\n",
    "model_gpy = MultioutputGP([X,X],[np.sin(X),np.cos(X)],\n",
    "                          likelihood_list=[likelihoods.Gaussian(),likelihoods.Gaussian()],\n",
    "                          kernel_list=[kernel1,kernel2])\n",
    "model_emukit = GPyMultiOutputWrapper(model_gpy, n_outputs=2, n_optimization_restarts=10)"
   ]
  },
  {
   "cell_type": "code",
   "execution_count": 17,
   "metadata": {},
   "outputs": [
    {
     "name": "stdout",
     "output_type": "stream",
     "text": [
      "Optimization restart 1/10, f = 0.4583460194830993\n",
      "Optimization restart 2/10, f = 0.45834601930101293\n",
      "Optimization restart 3/10, f = 0.45834601947268716\n",
      "Optimization restart 4/10, f = 0.45834601938853403\n",
      "Optimization restart 5/10, f = 0.458346019255937\n",
      "Optimization restart 6/10, f = 0.45834601930338437\n",
      "Optimization restart 7/10, f = 0.45834601925918506\n",
      "Optimization restart 8/10, f = 0.4583460192566724\n",
      "Optimization restart 9/10, f = 0.4583460192567541\n",
      "Optimization restart 10/10, f = 0.4583460192576956\n"
     ]
    }
   ],
   "source": [
    "model_emukit.optimize()"
   ]
  },
  {
   "cell_type": "code",
   "execution_count": 18,
   "metadata": {},
   "outputs": [
    {
     "data": {
      "text/plain": [
       "array([[0.5, 0. ],\n",
       "       [0.5, 1. ]])"
      ]
     },
     "execution_count": 18,
     "metadata": {},
     "output_type": "execute_result"
    }
   ],
   "source": [
    "xtest"
   ]
  },
  {
   "cell_type": "code",
   "execution_count": 19,
   "metadata": {},
   "outputs": [
    {
     "data": {
      "text/plain": [
       "(array([[0.43167024],\n",
       "        [0.88898683]]),\n",
       " array([[0.01191372],\n",
       "        [0.00131162]]))"
      ]
     },
     "execution_count": 19,
     "metadata": {},
     "output_type": "execute_result"
    }
   ],
   "source": [
    "model_emukit.predict(xtest)"
   ]
  },
  {
   "cell_type": "markdown",
   "metadata": {},
   "source": [
    "TO UPDATE"
   ]
  },
  {
   "cell_type": "code",
   "execution_count": null,
   "metadata": {},
   "outputs": [],
   "source": [
    "from emukit.experimental_design.acquisitions.contour_MultiObs import contourWeightedEI"
   ]
  },
  {
   "cell_type": "code",
   "execution_count": null,
   "metadata": {},
   "outputs": [],
   "source": [
    "a_list = [0.2, 0.5]\n",
    "alpha_list = [2, 2]\n",
    "w_list = [0.5, 0.5]"
   ]
  },
  {
   "cell_type": "code",
   "execution_count": null,
   "metadata": {
    "scrolled": true
   },
   "outputs": [],
   "source": [
    "contour_MD = contourWeightedEI(models = model_emukit, a_list = a_list, alpha_list = alpha_list, w_list = w_list)"
   ]
  },
  {
   "cell_type": "code",
   "execution_count": null,
   "metadata": {},
   "outputs": [],
   "source": []
  }
 ],
 "metadata": {
  "kernelspec": {
   "display_name": "Python 3",
   "language": "python",
   "name": "python3"
  },
  "language_info": {
   "codemirror_mode": {
    "name": "ipython",
    "version": 3
   },
   "file_extension": ".py",
   "mimetype": "text/x-python",
   "name": "python",
   "nbconvert_exporter": "python",
   "pygments_lexer": "ipython3",
   "version": "3.6.13"
  }
 },
 "nbformat": 4,
 "nbformat_minor": 4
}
