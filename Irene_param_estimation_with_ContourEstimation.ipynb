{
 "cells": [
  {
   "cell_type": "code",
   "execution_count": 1,
   "metadata": {},
   "outputs": [],
   "source": [
    "import emcee\n",
    "from scipy.optimize import minimize\n",
    "import corner\n",
    "import ptemcee\n",
    "import subprocess\n",
    "import pandas as pd"
   ]
  },
  {
   "cell_type": "code",
   "execution_count": 2,
   "metadata": {},
   "outputs": [],
   "source": [
    "import numpy as np\n",
    "import matplotlib.pyplot as plt\n",
    "from simulation import run_simple_energy_loss"
   ]
  },
  {
   "cell_type": "code",
   "execution_count": 3,
   "metadata": {},
   "outputs": [],
   "source": [
    "simulation=run_simple_energy_loss.run_simulation"
   ]
  },
  {
   "cell_type": "code",
   "execution_count": 4,
   "metadata": {},
   "outputs": [],
   "source": [
    "pT_range = (1, 10, 10) # Compute more observable than needed to avoid boundry unstabilities.\n",
    "pT_obs = [3, 5, 7] # p_T Observables we will use for the analysis"
   ]
  },
  {
   "cell_type": "code",
   "execution_count": 5,
   "metadata": {},
   "outputs": [],
   "source": [
    "from emukit.core import ParameterSpace, ContinuousParameter"
   ]
  },
  {
   "cell_type": "code",
   "execution_count": 6,
   "metadata": {},
   "outputs": [],
   "source": [
    "prior_ranges= {'alpha_s':(0.05,0.5), 'exponent_inel':(-3,3), 'exponent_el':(-3,3), 'scale_inel':(0.1, 0.5), 'scale_el':(0.1, 0.5)}\n",
    "true_values= {'alpha_s': 0.2, 'exponent_inel': -1, 'exponent_el': 1, 'scale_inel': 0.3, 'scale_el': 0.3}\n",
    "name_to_position =  {'alpha_s':0, 'exponent_inel':1, 'exponent_el':2, 'scale_inel':3, 'scale_el':4}"
   ]
  },
  {
   "cell_type": "code",
   "execution_count": 7,
   "metadata": {},
   "outputs": [],
   "source": [
    "# We will generate observable for these model parametr values and consider them as experimental data\n",
    "# We will generate observables for these model parameter values and consider them as experimental data\n",
    "truth = np.array([true_values['alpha_s'],  true_values['exponent_inel'],\n",
    "                 true_values['exponent_el'],true_values['scale_inel'],true_values['scale_el']]).reshape(1,-1)"
   ]
  },
  {
   "cell_type": "code",
   "execution_count": 8,
   "metadata": {},
   "outputs": [
    {
     "name": "stdout",
     "output_type": "stream",
     "text": [
      "Working on design 1\n"
     ]
    },
    {
     "name": "stderr",
     "output_type": "stream",
     "text": [
      "/Library/Frameworks/Python.framework/Versions/3.8/lib/python3.8/site-packages/scipy/integrate/_ode.py:1181: UserWarning: dopri5: step size becomes too small\n",
      "  warnings.warn('{:s}: {:s}'.format(self.__class__.__name__,\n",
      "/Library/Frameworks/Python.framework/Versions/3.8/lib/python3.8/site-packages/scipy/integrate/_ode.py:1181: UserWarning: dopri5: larger nsteps is needed\n",
      "  warnings.warn('{:s}: {:s}'.format(self.__class__.__name__,\n",
      "/Users/yiji/ALL_Python_Projects/parton_energy_loss_qcd_bjorken/simulation/solver_rk.py:78: IntegrationWarning: The integral is probably divergent, or slowly convergent.\n",
      "  res_quad2b=scipy.integrate.quad(lambda u, p=p: p*integrand_middle(p,u), 0, delta, limit=npts, epsabs=epsabs, epsrel=epsrel)\n",
      "/Users/yiji/ALL_Python_Projects/parton_energy_loss_qcd_bjorken/simulation/solver_rk.py:73: IntegrationWarning: The integral is probably divergent, or slowly convergent.\n",
      "  res_quad2a=scipy.integrate.quad(vec_integrand, pmin, p, limit=npts, epsabs=epsabs, epsrel=epsrel)\n"
     ]
    },
    {
     "data": {
      "text/plain": [
       "Text(0.5, 1.0, 'Experimental observations')"
      ]
     },
     "execution_count": 8,
     "metadata": {},
     "output_type": "execute_result"
    },
    {
     "data": {
      "image/png": "[encoded data removed]",
      "text/plain": [
       "<Figure size 576x576 with 1 Axes>"
      ]
     },
     "metadata": {
      "needs_background": "light"
     },
     "output_type": "display_data"
    }
   ],
   "source": [
    "# Set seed for reproducibility.\n",
    "seed = 42\n",
    "np.random.seed(seed)\n",
    "\n",
    "# Generate some synthetic data from the model.\n",
    "x = np.array(pT_obs)\n",
    "N = len(x)\n",
    "obserr = 0.05 # Amplitude of noise term\n",
    "obs = simulation(truth, *pT_range)[:,pT_obs] # True model\n",
    "obs += obserr * np.random.randn(N) # Add some random noise\n",
    "\n",
    "# Now plot it to see what the data looks like\n",
    "fig, ax = plt.subplots(figsize=(8,8))\n",
    "\n",
    "ax.errorbar(x.flatten(), obs.flatten(), yerr=obserr, fmt=\"xk\", capsize=0)\n",
    "#ax.plot(x.flatten(), obs.flatten(), \"k\", alpha=0.3, lw=3)\n",
    "#ax.set_xlim(0, 10)\n",
    "ax.set_xlabel(r\"$p_T$\")\n",
    "ax.set_ylabel(r\"$R_{AA}$\")\n",
    "ax.set_title('Experimental observations')"
   ]
  },
  {
   "cell_type": "code",
   "execution_count": 10,
   "metadata": {},
   "outputs": [],
   "source": [
    "parameter_space = ParameterSpace([ContinuousParameter('alpha_s', 0.05,0.5 ),\n",
    "                                  ContinuousParameter('exponent_inel', -3, 3),\n",
    "                                  ContinuousParameter('exponent_el', -3, 3),\n",
    "                                  ContinuousParameter('scale_inel', 0.1, 0.5),\n",
    "                                  ContinuousParameter('scale_el', 0.1, 0.5)])"
   ]
  },
  {
   "cell_type": "code",
   "execution_count": 11,
   "metadata": {},
   "outputs": [
    {
     "name": "stdout",
     "output_type": "stream",
     "text": [
      "Shape of X (5, 5)\n"
     ]
    }
   ],
   "source": [
    "from emukit.core.initial_designs import RandomDesign\n",
    "\n",
    "design = RandomDesign(parameter_space)\n",
    "num_data_points = 5\n",
    "X = design.get_samples(num_data_points)\n",
    "print(f'Shape of X {X.shape}')"
   ]
  },
  {
   "cell_type": "code",
   "execution_count": 12,
   "metadata": {},
   "outputs": [],
   "source": [
    "def f(design, pT=pT_obs[0]):\n",
    "    \"\"\"returns simulation output for a design matrix\"\"\"\n",
    "    print(design)\n",
    "    observables=simulation(design,*pT_range)\n",
    "    #Let's just return only one obsrvable for now. The middle p_T bin\n",
    "    return observables[:,pT]\n",
    "\n",
    "def f1(design, pT=pT_obs[0]):\n",
    "    \"\"\"returns simulation output for a design matrix\"\"\"\n",
    "    print(design)\n",
    "    observables=simulation(design,*pT_range)\n",
    "    #Let's just return only one obsrvable for now. The middle p_T bin\n",
    "    return observables[:,pT].reshape(-1,1)\n",
    "\n",
    "def f2(design, pT=pT_obs[1]):\n",
    "    \"\"\"returns simulation output for a design matrix\"\"\"\n",
    "    print(design)\n",
    "    observables=simulation(design,*pT_range)\n",
    "    #Let's just return only one obsrvable for now. The middle p_T bin\n",
    "    return observables[:,pT].reshape(-1,1)\n",
    "\n",
    "def f3(design, pT=pT_obs[2]):\n",
    "    \"\"\"returns simulation output for a design matrix\"\"\"\n",
    "    print(design)\n",
    "    observables=simulation(design,*pT_range)\n",
    "    #Let's just return only one obsrvable for now. The middle p_T bin\n",
    "    return observables[:,pT].reshape(-1,1)\n",
    "\n",
    "fun=np.array([f1, f2, f3])"
   ]
  },
  {
   "cell_type": "code",
   "execution_count": 13,
   "metadata": {},
   "outputs": [
    {
     "name": "stdout",
     "output_type": "stream",
     "text": [
      "[[ 0.12020839  1.24843547 -1.9090502   0.21649166  0.28242799]\n",
      " [ 0.12019753 -2.87649303 -1.89957294  0.34474116  0.41407038]\n",
      " [ 0.07613763  2.81945911 -1.17454654  0.15579754  0.17986951]\n",
      " [ 0.43977927  1.99465584  0.14853859  0.21685786  0.30569378]\n",
      " [ 0.32050176 -1.72596534 -0.40832989  0.24654474  0.33696583]]\n",
      "Working on design 1\n",
      "Working on design 2\n",
      "Working on design 3\n",
      "Working on design 4\n",
      "Working on design 5\n"
     ]
    },
    {
     "name": "stderr",
     "output_type": "stream",
     "text": [
      "/Users/yiji/ALL_Python_Projects/parton_energy_loss_qcd_bjorken/simulation/solver_rk.py:42: RuntimeWarning: invalid value encountered in log\n",
      "  log_P_g_prev=np.log(P_g)\n",
      "/Users/yiji/ALL_Python_Projects/parton_energy_loss_qcd_bjorken/simulation/solver_rk.py:74: IntegrationWarning: The occurrence of roundoff error is detected, which prevents \n",
      "  the requested tolerance from being achieved.  The error may be \n",
      "  underestimated.\n",
      "  res_quad2c=scipy.integrate.quad(vec_integrand, p, pmax, limit=npts, epsabs=epsabs, epsrel=epsrel)\n",
      "/Users/yiji/ALL_Python_Projects/parton_energy_loss_qcd_bjorken/simulation/solver_rk.py:79: IntegrationWarning: The occurrence of roundoff error is detected, which prevents \n",
      "  the requested tolerance from being achieved.  The error may be \n",
      "  underestimated.\n",
      "  res_quad2c=scipy.integrate.quad(vec_integrand, p*(1+delta), pmax, limit=npts, epsabs=epsabs, epsrel=epsrel)\n",
      "/Users/yiji/ALL_Python_Projects/parton_energy_loss_qcd_bjorken/simulation/solver_rk.py:78: IntegrationWarning: The occurrence of roundoff error is detected, which prevents \n",
      "  the requested tolerance from being achieved.  The error may be \n",
      "  underestimated.\n",
      "  res_quad2b=scipy.integrate.quad(lambda u, p=p: p*integrand_middle(p,u), 0, delta, limit=npts, epsabs=epsabs, epsrel=epsrel)\n",
      "/Users/yiji/ALL_Python_Projects/parton_energy_loss_qcd_bjorken/simulation/solver_rk.py:77: IntegrationWarning: The occurrence of roundoff error is detected, which prevents \n",
      "  the requested tolerance from being achieved.  The error may be \n",
      "  underestimated.\n",
      "  res_quad2a=scipy.integrate.quad(vec_integrand, pmin, p*(1-delta), limit=npts, epsabs=epsabs, epsrel=epsrel)\n",
      "/Users/yiji/ALL_Python_Projects/parton_energy_loss_qcd_bjorken/simulation/solver_rk.py:73: IntegrationWarning: The occurrence of roundoff error is detected, which prevents \n",
      "  the requested tolerance from being achieved.  The error may be \n",
      "  underestimated.\n",
      "  res_quad2a=scipy.integrate.quad(vec_integrand, pmin, p, limit=npts, epsabs=epsabs, epsrel=epsrel)\n",
      "/Users/yiji/ALL_Python_Projects/parton_energy_loss_qcd_bjorken/simulation/solver_rk.py:74: IntegrationWarning: Extremely bad integrand behavior occurs at some points of the\n",
      "  integration interval.\n",
      "  res_quad2c=scipy.integrate.quad(vec_integrand, p, pmax, limit=npts, epsabs=epsabs, epsrel=epsrel)\n"
     ]
    }
   ],
   "source": [
    "#Generate 5 random observables\n",
    "Y = f(X,pT_obs)"
   ]
  },
  {
   "cell_type": "code",
   "execution_count": 15,
   "metadata": {
    "scrolled": true
   },
   "outputs": [],
   "source": [
    "from GPy.kern import RBF, White\n",
    "from GPy.models import GPRegression\n",
    "from emukit.model_wrappers import GPyModelWrapper\n",
    "from multiprocessing import Pool"
   ]
  },
  {
   "cell_type": "markdown",
   "metadata": {},
   "source": [
    "### Let's build a emulator for each observable (3 in total) and query 5 points for each emulator at a time. Then train all 3 emulators on these new 5 points that we get in each iteration. "
   ]
  },
  {
   "cell_type": "code",
   "execution_count": 30,
   "metadata": {},
   "outputs": [
    {
     "data": {
      "text/plain": [
       "[3, 5, 7]"
      ]
     },
     "execution_count": 30,
     "metadata": {},
     "output_type": "execute_result"
    }
   ],
   "source": [
    "pT_obs"
   ]
  },
  {
   "cell_type": "code",
   "execution_count": 16,
   "metadata": {
    "scrolled": true
   },
   "outputs": [
    {
     "name": "stdout",
     "output_type": "stream",
     "text": [
      "Optimization restart 1/30, f = -0.517570421816393\n",
      "Optimization restart 2/30, f = -0.5175747604149712\n",
      "Optimization restart 3/30, f = -0.5175746063830977\n",
      "Optimization restart 4/30, f = 0.2116361865511216\n",
      "Optimization restart 5/30, f = 3.7854579870774465\n",
      "Optimization restart 6/30, f = -0.5175580628978849\n",
      "Optimization restart 7/30, f = -0.5175747161419957\n",
      "Optimization restart 8/30, f = -0.5175747258556558\n",
      "Optimization restart 9/30, f = -0.5175646946937569\n",
      "Optimization restart 10/30, f = -0.517572795787645\n",
      "Optimization restart 11/30, f = -0.5175746838216861\n",
      "Optimization restart 12/30, f = 3.785458013298841\n",
      "Optimization restart 13/30, f = 3.785457200859773\n",
      "Optimization restart 14/30, f = -0.5175747586068393\n",
      "Optimization restart 15/30, f = 0.2439208648515816\n",
      "Optimization restart 16/30, f = -0.5175747629383332\n",
      "Optimization restart 17/30, f = -0.5175747704436229\n",
      "Optimization restart 18/30, f = 0.09529531154006454\n",
      "Optimization restart 19/30, f = 0.24392091118951997\n",
      "Optimization restart 20/30, f = -0.5175558135555653\n",
      "Optimization restart 21/30, f = 0.21163619391384403\n",
      "Optimization restart 22/30, f = 3.7854530199974246\n",
      "Optimization restart 23/30, f = -0.5175746506982999\n",
      "Optimization restart 24/30, f = -0.5175484254369622\n",
      "Optimization restart 25/30, f = -0.51757474996535\n",
      "Optimization restart 26/30, f = -0.5175632653859905\n",
      "Optimization restart 27/30, f = -0.5175747611434245\n",
      "Optimization restart 28/30, f = -0.5175747526758729\n",
      "Optimization restart 29/30, f = -0.5175744330523662\n",
      "Optimization restart 30/30, f = 3.7854568761436673\n",
      "Optimization restart 1/30, f = -0.46611975331687905\n",
      "Optimization restart 2/30, f = -0.14061605337975447\n",
      "Optimization restart 3/30, f = 3.4976398501580586\n",
      "Optimization restart 4/30, f = -0.46608417942037095\n",
      "Optimization restart 5/30, f = -0.46611891674571915\n",
      "Optimization restart 6/30, f = -0.14061573179169518\n",
      "Optimization restart 7/30, f = 3.497768410158757\n",
      "Optimization restart 8/30, f = -0.4661201308824965\n",
      "Optimization restart 9/30, f = -0.4661201331675269\n",
      "Optimization restart 10/30, f = -0.14061609997638147\n",
      "Optimization restart 11/30, f = -0.4661201325264237\n",
      "Optimization restart 12/30, f = -0.14061610563061233\n",
      "Optimization restart 13/30, f = -0.4661125452917947"
     ]
    },
    {
     "name": "stderr",
     "output_type": "stream",
     "text": [
      " /Library/Frameworks/Python.framework/Versions/3.8/lib/python3.8/site-packages/GPy/kern/src/stationary.py:166: RuntimeWarning:overflow encountered in true_divide\n",
      " /Library/Frameworks/Python.framework/Versions/3.8/lib/python3.8/site-packages/GPy/kern/src/stationary.py:137: RuntimeWarning:overflow encountered in square\n",
      " /Library/Frameworks/Python.framework/Versions/3.8/lib/python3.8/site-packages/GPy/kern/src/stationary.py:138: RuntimeWarning:invalid value encountered in add\n",
      " /Library/Frameworks/Python.framework/Versions/3.8/lib/python3.8/site-packages/GPy/kern/src/rbf.py:76: RuntimeWarning:invalid value encountered in multiply\n"
     ]
    },
    {
     "name": "stdout",
     "output_type": "stream",
     "text": [
      "\n",
      "Optimization restart 14/30, f = -0.4661199749129157\n",
      "Optimization restart 15/30, f = -0.46606990856893526\n",
      "Optimization restart 16/30, f = -0.46612012872900976\n",
      "Optimization restart 17/30, f = -0.46612011138415\n",
      "Optimization restart 18/30, f = 3.497640463387766\n",
      "Optimization restart 19/30, f = -0.46611456220678793\n",
      "Optimization restart 20/30, f = -0.4660823637671605\n",
      "Optimization restart 21/30, f = -0.46611420459025865\n",
      "Optimization restart 22/30, f = -0.1406160134376755\n",
      "Optimization restart 23/30, f = -0.466120060058703\n",
      "Optimization restart 24/30, f = -0.14061600124747287\n",
      "Optimization restart 25/30, f = 3.4977667205524856\n",
      "Optimization restart 26/30, f = -0.46612012289817395\n",
      "Optimization restart 27/30, f = -0.4661198683205421\n",
      "Optimization restart 28/30, f = -0.14061612819193137\n",
      "Optimization restart 29/30, f = -0.46611819765024487\n",
      "Optimization restart 30/30, f = 3.4977680675267644\n",
      "Optimization restart 1/30, f = -0.44678043874928175\n",
      "Optimization restart 2/30, f = -0.44677899706758817\n",
      "Optimization restart 3/30, f = 0.2504204587498142\n",
      "Optimization restart 4/30, f = -0.2496368428390392\n",
      "Optimization restart 5/30, f = 3.405143870562505\n",
      "Optimization restart 6/30, f = -0.24963680630233354\n",
      "Optimization restart 7/30, f = 3.4051438914358894\n",
      "Optimization restart 8/30, f = -0.44677056596518083\n",
      "Optimization restart 9/30, f = 3.405142825010367\n",
      "Optimization restart 10/30, f = -0.44678031591704714\n",
      "Optimization restart 11/30, f = -0.24926233765417294\n",
      "Optimization restart 12/30, f = -0.44678048143785576\n",
      "Optimization restart 13/30, f = 0.2504205315879484\n",
      "Optimization restart 14/30, f = -0.44678047343131766\n",
      "Optimization restart 15/30, f = -0.24963659034959962\n",
      "Optimization restart 16/30, f = -0.44678043663983\n",
      "Optimization restart 17/30, f = -0.44678046700156226\n",
      "Optimization restart 18/30, f = -0.44676393980902773\n",
      "Optimization restart 19/30, f = -0.24963654863300588\n",
      "Optimization restart 20/30, f = 3.2074099719713263\n",
      "Optimization restart 21/30, f = 3.4051438914359404\n",
      "Optimization restart 22/30, f = -0.44676414216714777\n",
      "Optimization restart 23/30, f = -0.4467707770063982\n",
      "Optimization restart 24/30, f = -0.4467317976934635\n",
      "Optimization restart 25/30, f = -0.4467751881688642\n",
      "Optimization restart 26/30, f = -0.24963686731731194\n",
      "Optimization restart 27/30, f = 3.4051438914359498\n",
      "Optimization restart 28/30, f = -0.24963684662359276\n",
      "Optimization restart 29/30, f = -0.2496084082966803\n",
      "Optimization restart 30/30, f = -0.44678049294341093\n"
     ]
    }
   ],
   "source": [
    "# size of possible variation of parameters\n",
    "ptp = np.array([prior_ranges['alpha_s'][1],prior_ranges['exponent_inel'][1],prior_ranges['exponent_el'][1],prior_ranges['scale_inel'][1],prior_ranges['scale_el'][1]])\\\n",
    "-np.array([prior_ranges['alpha_s'][0],prior_ranges['exponent_inel'][0],prior_ranges['exponent_el'][0],prior_ranges['scale_inel'][0],prior_ranges['scale_el'][0]])\n",
    "\n",
    "gp_array = []\n",
    "for i,pt in enumerate(pT_obs):\n",
    "    rbf_kern =      RBF(  input_dim=5,\n",
    "                          variance= 1,\n",
    "                          lengthscale=ptp,\n",
    "                          ARD=True)\n",
    "    my_kernel = rbf_kern\n",
    "    model_gpy = GPRegression(X=X,Y=Y[:, i].reshape(-1,1),kernel=my_kernel, noise_var=0.01**2)\n",
    "    model_gpy.optimize_restarts(num_restarts = 30)\n",
    "    model_emukit = GPyModelWrapper(model_gpy, n_restarts=30)\n",
    "    gp_array.append(model_emukit)"
   ]
  },
  {
   "cell_type": "code",
   "execution_count": 17,
   "metadata": {},
   "outputs": [],
   "source": [
    "# gp_array[1].predict(X[0,:].reshape(-1,5))"
   ]
  },
  {
   "cell_type": "code",
   "execution_count": 18,
   "metadata": {},
   "outputs": [],
   "source": [
    "# from emukit.experimental_design.acquisitions import IntegratedVarianceReduction, ModelVariance\n",
    "from emukit.experimental_design.acquisitions.contour_MultiObs import contourWeightedEI"
   ]
  },
  {
   "cell_type": "code",
   "execution_count": 19,
   "metadata": {},
   "outputs": [],
   "source": [
    "a_list = [0.2, 0.5, 0.8]\n",
    "alpha_list = [2, 2, 2]\n",
    "w_list = [0.5, 0.3, 0.2]"
   ]
  },
  {
   "cell_type": "code",
   "execution_count": 20,
   "metadata": {},
   "outputs": [],
   "source": [
    "contour_MD = contourWeightedEI(model_list = gp_array, a_list = a_list, alpha_list = alpha_list, w_list = w_list)"
   ]
  },
  {
   "cell_type": "code",
   "execution_count": 24,
   "metadata": {},
   "outputs": [],
   "source": [
    "from emukit.experimental_design import ExperimentalDesignLoop_list\n",
    "expdesign_loop = ExperimentalDesignLoop(model_list = gp_array, # 1. modify \"experimental_design_loop.py\"\n",
    "                                         space = parameter_space,\n",
    "                                         acquisition = contour_MD,\n",
    "                                         batch_size = 1)"
   ]
  },
  {
   "cell_type": "code",
   "execution_count": null,
   "metadata": {},
   "outputs": [],
   "source": [
    "max_iterations = 20\n",
    "x_plot = np.linspace(0.2, 0.4,100).reshape(-1,1)\n",
    "\n",
    "for i in range(0,max_iterations): # need to loop for multiple observables\n",
    "    plt.figure(figsize=(12, 8))\n",
    "    #fig,axs = plt.subplots(nrow=2, ncols=3)\n",
    "    mu_plot, var_plot = model_emukit.predict(x_plot)\n",
    "    mu_plot = mu_plot.reshape(-1,1)\n",
    "\n",
    "    plt.plot(model_emukit.X, model_emukit.Y, \"ro\", markersize=10, label=\"Observations\")\n",
    "    plt.plot(x_plot, mu_plot, \"C0\", label=\"Model\")\n",
    "    plt.fill_between(x_plot[:, 0],\n",
    "                 mu_plot[:, 0] + np.sqrt(var_plot)[:, 0],\n",
    "                 mu_plot[:, 0] - np.sqrt(var_plot)[:, 0], color=\"C0\", alpha=0.6, label=r'$\\sigma$')\n",
    "\n",
    "    plt.fill_between(x_plot[:, 0],\n",
    "                 mu_plot[:, 0] + 20 * np.sqrt(var_plot)[:, 0],\n",
    "                 mu_plot[:, 0] - 20 * np.sqrt(var_plot)[:, 0], color=\"C0\", alpha=0.4, label=r'$20\\sigma$')\n",
    "\n",
    "    plt.fill_between(x_plot[:, 0],\n",
    "                 mu_plot[:, 0] + 30 * np.sqrt(var_plot)[:, 0],\n",
    "                 mu_plot[:, 0] - 30 * np.sqrt(var_plot)[:, 0], color=\"C0\", alpha=0.2, label=r'$30\\sigma$')\n",
    "    #plt.legend(loc='upper right', prop={'size': LEGEND_SIZE})\n",
    "    plt.xlabel(r\"$\\alpha_s$\", fontsize=15)\n",
    "    plt.ylabel(r\"$R_{AA}$\" + ' at '+r\"$p_T$\"+'=5 GeV', fontsize=15)\n",
    "    plt.grid(True)\n",
    "    plt.savefig(f'figures/exp_design_ivr_{i}.png',dpi=50)\n",
    "    plt.show()\n",
    "    \n",
    "    plt.figure(figsize=(12,8))\n",
    "    aqu_values= contour_1D.evaluate(x=x_plot)\n",
    "    plt.plot(x_plot, aqu_values)\n",
    "    plt.xlabel(r\"$\\alpha_s$\", fontsize=15)\n",
    "    plt.ylabel('aqusition function values', fontsize=15)\n",
    "    plt.grid(True)\n",
    "    plt.show()\n",
    "    ed=expdesign_loop.run_loop(f,1) # 2. to modify run_loop function in outer_loop.py"
   ]
  },
  {
   "cell_type": "code",
   "execution_count": null,
   "metadata": {},
   "outputs": [],
   "source": []
  },
  {
   "cell_type": "code",
   "execution_count": null,
   "metadata": {},
   "outputs": [],
   "source": []
  },
  {
   "cell_type": "code",
   "execution_count": null,
   "metadata": {},
   "outputs": [],
   "source": []
  }
 ],
 "metadata": {
  "kernelspec": {
   "display_name": "Python 3 (ipykernel)",
   "language": "python",
   "name": "python3"
  },
  "language_info": {
   "codemirror_mode": {
    "name": "ipython",
    "version": 3
   },
   "file_extension": ".py",
   "mimetype": "text/x-python",
   "name": "python",
   "nbconvert_exporter": "python",
   "pygments_lexer": "ipython3",
   "version": "3.8.3"
  }
 },
 "nbformat": 4,
 "nbformat_minor": 4
}
