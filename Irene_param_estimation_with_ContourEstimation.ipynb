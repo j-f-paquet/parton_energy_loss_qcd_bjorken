{
 "cells": [
  {
   "cell_type": "code",
   "execution_count": 1,
   "metadata": {},
   "outputs": [],
   "source": [
    "import emcee\n",
    "from scipy.optimize import minimize\n",
    "import corner\n",
    "import ptemcee\n",
    "import subprocess\n",
    "import pandas as pd\n",
    "import numpy as np\n",
    "import matplotlib.pyplot as plt\n",
    "from emukit.core import ParameterSpace, ContinuousParameter\n",
    "from GPy.models import GPRegression\n",
    "from emukit.model_wrappers import GPyMultiOutputWrapper\n",
    "from GPy.kern import RBF"
   ]
  },
  {
   "cell_type": "markdown",
   "metadata": {},
   "source": [
    "1-dimensional input, 2-dimensional outputs"
   ]
  },
  {
   "cell_type": "code",
   "execution_count": 2,
   "metadata": {},
   "outputs": [],
   "source": [
    "parameter_space = ParameterSpace([ContinuousParameter('x', 0, 1)])"
   ]
  },
  {
   "cell_type": "code",
   "execution_count": 3,
   "metadata": {},
   "outputs": [],
   "source": [
    "from emukit.core.initial_designs import RandomDesign\n",
    "\n",
    "design = RandomDesign(parameter_space)\n",
    "num_data_points = 2\n",
    "X = design.get_samples(num_data_points)"
   ]
  },
  {
   "cell_type": "code",
   "execution_count": 4,
   "metadata": {},
   "outputs": [],
   "source": [
    "def f(X): # add noise\n",
    "    y1 = np.sin(X)\n",
    "    y2 = np.cos(X)\n",
    "    return np.hstack([np.sin(X),np.cos(X)])"
   ]
  },
  {
   "cell_type": "code",
   "execution_count": 5,
   "metadata": {},
   "outputs": [],
   "source": [
    "Y = f(X)\n",
    "kernel = RBF(input_dim=1)\n",
    "model_gpy = GPRegression(X,Y,kernel=kernel, noise_var=0.01**2)\n",
    "model_emukit = GPyMultiOutputWrapper(model_gpy, n_outputs=2, n_optimization_restarts=1)"
   ]
  },
  {
   "cell_type": "markdown",
   "metadata": {},
   "source": [
    "Predict 1 point:"
   ]
  },
  {
   "cell_type": "code",
   "execution_count": 6,
   "metadata": {},
   "outputs": [
    {
     "data": {
      "text/plain": [
       "(array([[0.47537514, 0.87433045]]), array([[0.00411324]]))"
      ]
     },
     "execution_count": 6,
     "metadata": {},
     "output_type": "execute_result"
    }
   ],
   "source": [
    "model_emukit.predict(np.array(0.5).reshape(1,-1))\n",
    "# Only 1 variance? Covariance?"
   ]
  },
  {
   "cell_type": "code",
   "execution_count": 7,
   "metadata": {},
   "outputs": [
    {
     "data": {
      "text/plain": [
       "array([[0.00411324]])"
      ]
     },
     "execution_count": 7,
     "metadata": {},
     "output_type": "execute_result"
    }
   ],
   "source": [
    "model_emukit.predict_covariance(np.array(0.5).reshape(1,-1)) \n",
    "# Is this the covariance estimate between 2 outputs? How to create a wrapper for 2 independent outputs?"
   ]
  },
  {
   "cell_type": "markdown",
   "metadata": {},
   "source": [
    "Use 0,1 to indicate which output to predict:"
   ]
  },
  {
   "cell_type": "code",
   "execution_count": 8,
   "metadata": {},
   "outputs": [
    {
     "data": {
      "text/plain": [
       "array([[0.5, 0. ],\n",
       "       [0.5, 1. ]])"
      ]
     },
     "execution_count": 8,
     "metadata": {},
     "output_type": "execute_result"
    }
   ],
   "source": [
    "xtest = np.array([[0.5],[0.5]])\n",
    "new_column = [[0], [1]]\n",
    "xtest = np.append(xtest, new_column, axis=1)\n",
    "xtest"
   ]
  },
  {
   "cell_type": "code",
   "execution_count": 9,
   "metadata": {},
   "outputs": [
    {
     "data": {
      "text/plain": [
       "(array([[0.47537514, 0.87433045],\n",
       "        [0.47537514, 0.87433045]]),\n",
       " array([[0.00411324],\n",
       "        [0.00411324]]))"
      ]
     },
     "execution_count": 9,
     "metadata": {},
     "output_type": "execute_result"
    }
   ],
   "source": [
    "model_emukit.predict(xtest)\n",
    "# Same result?"
   ]
  },
  {
   "cell_type": "markdown",
   "metadata": {},
   "source": [
    "TO UPDATE"
   ]
  },
  {
   "cell_type": "code",
   "execution_count": 10,
   "metadata": {},
   "outputs": [],
   "source": [
    "from emukit.experimental_design.acquisitions.contour_MultiObs import contourWeightedEI"
   ]
  },
  {
   "cell_type": "code",
   "execution_count": 11,
   "metadata": {},
   "outputs": [],
   "source": [
    "a_list = [0.2, 0.5]\n",
    "alpha_list = [2, 2]\n",
    "w_list = [0.5, 0.5]"
   ]
  },
  {
   "cell_type": "code",
   "execution_count": 12,
   "metadata": {
    "scrolled": true
   },
   "outputs": [],
   "source": [
    "contour_MD = contourWeightedEI(models = model_emukit, a_list = a_list, alpha_list = alpha_list, w_list = w_list)"
   ]
  },
  {
   "cell_type": "code",
   "execution_count": null,
   "metadata": {},
   "outputs": [],
   "source": []
  }
 ],
 "metadata": {
  "kernelspec": {
   "display_name": "Python 3 (ipykernel)",
   "language": "python",
   "name": "python3"
  },
  "language_info": {
   "codemirror_mode": {
    "name": "ipython",
    "version": 3
   },
   "file_extension": ".py",
   "mimetype": "text/x-python",
   "name": "python",
   "nbconvert_exporter": "python",
   "pygments_lexer": "ipython3",
   "version": "3.8.3"
  }
 },
 "nbformat": 4,
 "nbformat_minor": 4
}
