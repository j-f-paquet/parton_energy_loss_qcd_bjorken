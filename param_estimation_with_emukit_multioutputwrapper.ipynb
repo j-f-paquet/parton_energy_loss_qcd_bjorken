{
 "cells": [
  {
   "cell_type": "code",
   "execution_count": 1,
   "metadata": {},
   "outputs": [],
   "source": [
    "import numpy as np\n",
    "import matplotlib.pyplot as plt\n",
    "import run_simple_energy_loss"
   ]
  },
  {
   "cell_type": "code",
   "execution_count": 2,
   "metadata": {},
   "outputs": [],
   "source": [
    "simulation=run_simple_energy_loss.run_simulation"
   ]
  },
  {
   "cell_type": "code",
   "execution_count": 3,
   "metadata": {},
   "outputs": [],
   "source": [
    "pT_range = (1, 10, 10) # Compute more observable than needed to avoid boundry unstabilities.\n",
    "pT_obs = [3, 5, 7] # p_T Observables we will use for the analysis"
   ]
  },
  {
   "cell_type": "code",
   "execution_count": 4,
   "metadata": {},
   "outputs": [],
   "source": [
    "from emukit.core import ParameterSpace, ContinuousParameter"
   ]
  },
  {
   "cell_type": "code",
   "execution_count": 5,
   "metadata": {},
   "outputs": [],
   "source": [
    "prior_ranges= {'alpha_s':(0.05,0.5), 'exponent_inel':(-3,3), 'exponent_el':(-3,3), 'scale_inel':(0.1, 0.5), 'scale_el':(0.1, 0.5)}\n",
    "true_values= {'alpha_s': 0.2, 'exponent_inel': -1, 'exponent_el': 1, 'scale_inel': 0.3, 'scale_el': 0.3}\n",
    "name_to_position =  {'alpha_s':0, 'exponent_inel':1, 'exponent_el':2, 'scale_inel':3, 'scale_el':4}"
   ]
  },
  {
   "cell_type": "code",
   "execution_count": 6,
   "metadata": {},
   "outputs": [
    {
     "name": "stdout",
     "output_type": "stream",
     "text": [
      "[[ 0.2 -1.   1.   0.3  0.3]]\n"
     ]
    }
   ],
   "source": [
    "# We will generate observable for these model parametr values and consider them as experimental data\n",
    "truth = np.array(list(true_values.values())).reshape(1,-1)\n",
    "print(truth)"
   ]
  },
  {
   "cell_type": "code",
   "execution_count": 7,
   "metadata": {},
   "outputs": [
    {
     "name": "stdout",
     "output_type": "stream",
     "text": [
      "Working on 1/1 design\n"
     ]
    },
    {
     "name": "stderr",
     "output_type": "stream",
     "text": [
      "/Users/dananjayaliyanage/miniconda3/envs/parton_loss/lib/python3.6/site-packages/scipy/integrate/_ode.py:1180: UserWarning: dopri5: step size becomes too small\n",
      "  self.messages.get(istate, unexpected_istate_msg)))\n",
      "/Users/dananjayaliyanage/miniconda3/envs/parton_loss/lib/python3.6/site-packages/scipy/integrate/_ode.py:1180: UserWarning: dopri5: larger nsteps is needed\n",
      "  self.messages.get(istate, unexpected_istate_msg)))\n",
      "/Users/dananjayaliyanage/git/parton_energy_loss_qcd_bjorken/solver_rk.py:78: IntegrationWarning: The integral is probably divergent, or slowly convergent.\n",
      "  res_quad2b=scipy.integrate.quad(lambda u, p=p: p*integrand_middle(p,u), 0, delta, limit=npts, epsabs=epsabs, epsrel=epsrel)\n",
      "/Users/dananjayaliyanage/git/parton_energy_loss_qcd_bjorken/solver_rk.py:73: IntegrationWarning: The integral is probably divergent, or slowly convergent.\n",
      "  res_quad2a=scipy.integrate.quad(vec_integrand, pmin, p, limit=npts, epsabs=epsabs, epsrel=epsrel)\n"
     ]
    },
    {
     "data": {
      "text/plain": [
       "Text(0.5, 1.0, 'Experimental observations')"
      ]
     },
     "execution_count": 7,
     "metadata": {},
     "output_type": "execute_result"
    },
    {
     "data": {
      "image/png": "[encoded data removed]",
      "text/plain": [
       "<Figure size 576x576 with 1 Axes>"
      ]
     },
     "metadata": {
      "needs_background": "light"
     },
     "output_type": "display_data"
    }
   ],
   "source": [
    "# Set seed for reproducibility.\n",
    "seed = 42\n",
    "np.random.seed(seed)\n",
    "\n",
    "# Generate some synthetic data from the model.\n",
    "x = np.array(pT_obs)\n",
    "N = len(x)\n",
    "obserr = 0.05 # Amplitude of noise term\n",
    "obs = simulation(truth, *pT_range)[:,pT_obs] # True model\n",
    "obs += obserr * np.random.randn(N) # Add some random noise\n",
    "\n",
    "# Now plot it to see what the data looks like\n",
    "fig, ax = plt.subplots(figsize=(8,8))\n",
    "\n",
    "ax.errorbar(x.flatten(), obs.flatten(), yerr=obserr, fmt=\"xk\", capsize=0)\n",
    "#ax.plot(x.flatten(), obs.flatten(), \"k\", alpha=0.3, lw=3)\n",
    "#ax.set_xlim(0, 10)\n",
    "ax.set_xlabel(r\"$p_T$\")\n",
    "ax.set_ylabel(r\"$R_{AA}$\")\n",
    "ax.set_title('Experimental observations')"
   ]
  },
  {
   "cell_type": "code",
   "execution_count": 8,
   "metadata": {},
   "outputs": [],
   "source": [
    "parameter_space = ParameterSpace([ContinuousParameter('alpha_s', 0.05,0.5 ),\n",
    "                                  ContinuousParameter('exponent_inel', -3, 3),\n",
    "                                  ContinuousParameter('exponent_el', -3, 3),\n",
    "                                  ContinuousParameter('scale_inel', 0.1, 0.5),\n",
    "                                  ContinuousParameter('scale_el', 0.1, 0.5)])"
   ]
  },
  {
   "cell_type": "code",
   "execution_count": 9,
   "metadata": {},
   "outputs": [
    {
     "name": "stdout",
     "output_type": "stream",
     "text": [
      "Shape of X (5, 5)\n"
     ]
    }
   ],
   "source": [
    "from emukit.core.initial_designs import RandomDesign\n",
    "\n",
    "design = RandomDesign(parameter_space)\n",
    "num_data_points = 5\n",
    "X = design.get_samples(num_data_points)\n",
    "print(f'Shape of X {X.shape}')"
   ]
  },
  {
   "cell_type": "code",
   "execution_count": 10,
   "metadata": {},
   "outputs": [],
   "source": [
    "def f(design):\n",
    "    \"\"\"returns simulation output for a design matrix\"\"\"\n",
    "    print(design.shape)\n",
    "    observables=simulation(design,*pT_range)\n",
    "    #Let's just return only one obsrvable for now. The middle p_T bin\n",
    "    return observables[:,pT_obs]"
   ]
  },
  {
   "cell_type": "code",
   "execution_count": 11,
   "metadata": {
    "scrolled": true
   },
   "outputs": [],
   "source": [
    "from GPy.kern import RBF, White\n",
    "from GPy.models import GPRegression\n",
    "from emukit.model_wrappers import GPyMultiOutputWrapper\n"
   ]
  },
  {
   "cell_type": "markdown",
   "metadata": {},
   "source": [
    "### Let's build a emulator for each observable (3 in total) and query 5 points for each emulator at a time.  \n",
    "## Or actually no need. Let's try the multioutput model wrapper first"
   ]
  },
  {
   "cell_type": "code",
   "execution_count": 12,
   "metadata": {},
   "outputs": [],
   "source": [
    "# size of possible variation of parameters\n",
    "ptp = np.array([prior_ranges['alpha_s'][1],prior_ranges['exponent_inel'][1],prior_ranges['exponent_el'][1],prior_ranges['scale_inel'][1],prior_ranges['scale_el'][1]])\\\n",
    "-np.array([prior_ranges['alpha_s'][0],prior_ranges['exponent_inel'][0],prior_ranges['exponent_el'][0],prior_ranges['scale_inel'][0],prior_ranges['scale_el'][0]])\n",
    "\n",
    "#Squared Exponential Kernel\n",
    "rbf_kern =      RBF(  input_dim=5,\n",
    "                      variance= 1,\n",
    "                      lengthscale=ptp,\n",
    "                      ARD=True)\n",
    "#This is a white noise kernel for finite statistical accuracy\n",
    "#white_kern = White(input_dim= 5,\n",
    "#                   variance=.1\n",
    "#                  )\n",
    "\n",
    "#kernel is the sum of the Sq. Exponential and White Noise kernels\n",
    "my_kernel = (rbf_kern)"
   ]
  },
  {
   "cell_type": "code",
   "execution_count": 13,
   "metadata": {},
   "outputs": [
    {
     "data": {
      "text/plain": [
       "(5, 5)"
      ]
     },
     "execution_count": 13,
     "metadata": {},
     "output_type": "execute_result"
    }
   ],
   "source": [
    "X.shape"
   ]
  },
  {
   "cell_type": "code",
   "execution_count": 14,
   "metadata": {},
   "outputs": [
    {
     "name": "stdout",
     "output_type": "stream",
     "text": [
      "(5, 5)\n",
      "Working on 1/5 design\n"
     ]
    },
    {
     "name": "stderr",
     "output_type": "stream",
     "text": [
      " /Users/dananjayaliyanage/miniconda3/envs/parton_loss/lib/python3.6/site-packages/scipy/integrate/_ode.py:1180: UserWarning:dopri5: step size becomes too small\n",
      " /Users/dananjayaliyanage/miniconda3/envs/parton_loss/lib/python3.6/site-packages/scipy/integrate/_ode.py:1180: UserWarning:dopri5: larger nsteps is needed\n",
      " /Users/dananjayaliyanage/git/parton_energy_loss_qcd_bjorken/solver_rk.py:78: IntegrationWarning:The integral is probably divergent, or slowly convergent.\n",
      " /Users/dananjayaliyanage/git/parton_energy_loss_qcd_bjorken/solver_rk.py:73: IntegrationWarning:The integral is probably divergent, or slowly convergent.\n"
     ]
    },
    {
     "name": "stdout",
     "output_type": "stream",
     "text": [
      "Working on 2/5 design\n",
      "Working on 3/5 design\n",
      "Working on 4/5 design\n",
      "Working on 5/5 design\n"
     ]
    }
   ],
   "source": [
    "\n",
    "Y = f(X)\n",
    "model_gpy = GPRegression(X,Y,kernel=my_kernel, noise_var=0.01**2)\n",
    "model_emukit = GPyMultiOutputWrapper(model_gpy, n_outputs=5, n_optimization_restarts=1)"
   ]
  },
  {
   "cell_type": "code",
   "execution_count": 15,
   "metadata": {},
   "outputs": [],
   "source": [
    "from emukit.experimental_design.acquisitions import IntegratedVarianceReduction, ModelVariance\n",
    "\n",
    "model_variance = ModelVariance(model = model_emukit)\n",
    "integrated_var = IntegratedVarianceReduction(model = model_emukit, space=parameter_space)"
   ]
  },
  {
   "cell_type": "code",
   "execution_count": 16,
   "metadata": {},
   "outputs": [],
   "source": [
    "from emukit.experimental_design import ExperimentalDesignLoop\n",
    "expdesign_loop = ExperimentalDesignLoop(model = model_emukit,\n",
    "                                         space = parameter_space,\n",
    "                                         acquisition = integrated_var,\n",
    "                                         batch_size = 10)"
   ]
  },
  {
   "cell_type": "code",
   "execution_count": 17,
   "metadata": {},
   "outputs": [
    {
     "name": "stdout",
     "output_type": "stream",
     "text": [
      "(10, 5)\n",
      "Working on 1/10 design\n",
      "Working on 2/10 design\n",
      "Working on 3/10 design\n"
     ]
    },
    {
     "name": "stderr",
     "output_type": "stream",
     "text": [
      " /Users/dananjayaliyanage/git/parton_energy_loss_qcd_bjorken/solver_rk.py:42: RuntimeWarning:invalid value encountered in log\n",
      " /Users/dananjayaliyanage/git/parton_energy_loss_qcd_bjorken/solver_rk.py:74: IntegrationWarning:The occurrence of roundoff error is detected, which prevents \n",
      "  the requested tolerance from being achieved.  The error may be \n",
      "  underestimated.\n",
      " /Users/dananjayaliyanage/git/parton_energy_loss_qcd_bjorken/solver_rk.py:79: IntegrationWarning:The occurrence of roundoff error is detected, which prevents \n",
      "  the requested tolerance from being achieved.  The error may be \n",
      "  underestimated.\n",
      " /Users/dananjayaliyanage/git/parton_energy_loss_qcd_bjorken/solver_rk.py:78: IntegrationWarning:The occurrence of roundoff error is detected, which prevents \n",
      "  the requested tolerance from being achieved.  The error may be \n",
      "  underestimated.\n",
      " /Users/dananjayaliyanage/git/parton_energy_loss_qcd_bjorken/solver_rk.py:77: IntegrationWarning:The occurrence of roundoff error is detected, which prevents \n",
      "  the requested tolerance from being achieved.  The error may be \n",
      "  underestimated.\n",
      " /Users/dananjayaliyanage/git/parton_energy_loss_qcd_bjorken/solver_rk.py:73: IntegrationWarning:The occurrence of roundoff error is detected, which prevents \n",
      "  the requested tolerance from being achieved.  The error may be \n",
      "  underestimated.\n",
      " /Users/dananjayaliyanage/git/parton_energy_loss_qcd_bjorken/solver_rk.py:74: IntegrationWarning:Extremely bad integrand behavior occurs at some points of the\n",
      "  integration interval.\n",
      " /Users/dananjayaliyanage/git/parton_energy_loss_qcd_bjorken/solver_rk.py:73: IntegrationWarning:Extremely bad integrand behavior occurs at some points of the\n",
      "  integration interval.\n"
     ]
    },
    {
     "name": "stdout",
     "output_type": "stream",
     "text": [
      "For model parameters [ 0.30436106 -1.96762347 -2.13438558  0.40911457  0.11474142] takes 75.60566806793213 S\n",
      "Working on 4/10 design\n",
      "For model parameters [ 0.42689807 -2.50264822 -1.40326885  0.4124861   0.26200175] takes 191.84533667564392 S\n",
      "Working on 5/10 design\n",
      "Working on 6/10 design\n",
      "Working on 7/10 design\n",
      "Working on 8/10 design\n",
      "Working on 9/10 design\n",
      "Working on 10/10 design\n"
     ]
    },
    {
     "name": "stderr",
     "output_type": "stream",
     "text": [
      " /Users/dananjayaliyanage/miniconda3/envs/parton_loss/lib/python3.6/site-packages/paramz/transformations.py:111: RuntimeWarning:overflow encountered in expm1\n"
     ]
    },
    {
     "name": "stdout",
     "output_type": "stream",
     "text": [
      "(10, 5)\n",
      "Working on 1/10 design\n",
      "Working on 2/10 design\n",
      "Working on 3/10 design\n",
      "Working on 4/10 design\n",
      "Working on 5/10 design\n",
      "Working on 6/10 design\n",
      "Working on 7/10 design\n",
      "Working on 8/10 design\n",
      "Working on 9/10 design\n",
      "For model parameters [ 0.49185035 -1.15396922 -1.57216854  0.38478864  0.11355724] takes 73.77193903923035 S\n",
      "Working on 10/10 design\n",
      "(10, 5)\n",
      "Working on 1/10 design\n",
      "For model parameters [ 0.37032132 -1.99495616  1.82031917  0.47890719  0.33467759] takes 79.0513219833374 S\n",
      "Working on 2/10 design\n",
      "Working on 3/10 design\n",
      "Working on 4/10 design\n",
      "Working on 5/10 design\n",
      "Working on 6/10 design\n",
      "Working on 7/10 design\n",
      "Working on 8/10 design\n",
      "Working on 9/10 design\n",
      "Working on 10/10 design\n",
      "(10, 5)\n",
      "Working on 1/10 design\n",
      "Working on 2/10 design\n",
      "Working on 3/10 design\n",
      "Working on 4/10 design\n",
      "Working on 5/10 design\n",
      "Working on 6/10 design\n",
      "Working on 7/10 design\n",
      "Working on 8/10 design\n",
      "Working on 9/10 design\n",
      "Working on 10/10 design\n",
      "(10, 5)\n",
      "Working on 1/10 design\n",
      "Working on 2/10 design\n",
      "Working on 3/10 design\n",
      "Working on 4/10 design\n",
      "Working on 5/10 design\n",
      "Working on 6/10 design\n",
      "Working on 7/10 design\n",
      "For model parameters [ 0.48538168 -2.55945217  2.03564606  0.24503782  0.39965122] takes 63.83033299446106 S\n",
      "Working on 8/10 design\n",
      "Working on 9/10 design\n",
      "Working on 10/10 design\n",
      "(10, 5)\n",
      "Working on 1/10 design\n",
      "Working on 2/10 design\n",
      "Working on 3/10 design\n",
      "Working on 4/10 design\n",
      "Working on 5/10 design\n",
      "Working on 6/10 design\n",
      "Working on 7/10 design\n",
      "Working on 8/10 design\n",
      "Working on 9/10 design\n",
      "Working on 10/10 design\n",
      "(10, 5)\n",
      "Working on 1/10 design\n",
      "Working on 2/10 design\n",
      "Working on 3/10 design\n",
      "Working on 4/10 design\n",
      "Working on 5/10 design\n",
      "Working on 6/10 design\n",
      "Working on 7/10 design\n",
      "Working on 8/10 design\n",
      "For model parameters [ 0.45477107 -1.83515804 -1.19252613  0.35365494  0.1654889 ] takes 61.901686906814575 S\n",
      "Working on 9/10 design\n",
      "Working on 10/10 design\n",
      "For model parameters [ 0.39703677 -2.38476869 -1.987864    0.46765695  0.43162026] takes 134.31678366661072 S\n",
      "(10, 5)\n",
      "Working on 1/10 design\n",
      "Working on 2/10 design\n",
      "Working on 3/10 design\n",
      "Working on 4/10 design\n",
      "Working on 5/10 design\n",
      "Working on 6/10 design\n",
      "Working on 7/10 design\n",
      "Working on 8/10 design\n",
      "Working on 9/10 design\n",
      "Working on 10/10 design\n",
      "(10, 5)\n",
      "Working on 1/10 design\n",
      "Working on 2/10 design\n",
      "Working on 3/10 design\n",
      "Working on 4/10 design\n",
      "Working on 5/10 design\n",
      "Working on 6/10 design\n",
      "Working on 7/10 design\n",
      "Working on 8/10 design\n",
      "Working on 9/10 design\n",
      "For model parameters [ 0.48005846 -1.03653625 -2.22627363  0.47565026  0.27766764] takes 75.4933111667633 S\n",
      "Working on 10/10 design\n",
      "(10, 5)\n",
      "Working on 1/10 design\n",
      "Working on 2/10 design\n",
      "Working on 3/10 design\n",
      "Working on 4/10 design\n",
      "Working on 5/10 design\n",
      "Working on 6/10 design\n",
      "Working on 7/10 design\n",
      "Working on 8/10 design\n",
      "Working on 9/10 design\n",
      "For model parameters [ 0.26529808 -2.64775972 -1.09159313  0.43922483  0.19736395] takes 71.93978500366211 S\n",
      "Working on 10/10 design\n"
     ]
    }
   ],
   "source": [
    "ed=expdesign_loop.run_loop(f,10)"
   ]
  },
  {
   "cell_type": "code",
   "execution_count": 25,
   "metadata": {},
   "outputs": [
    {
     "data": {
      "text/plain": [
       "(array([[0.51113107, 0.43353747, 0.40775085]]), array([[0.00059396]]))"
      ]
     },
     "execution_count": 25,
     "metadata": {},
     "output_type": "execute_result"
    }
   ],
   "source": [
    "model_emukit.predict(X=np.array(truth).reshape(1,-1))"
   ]
  },
  {
   "cell_type": "code",
   "execution_count": 19,
   "metadata": {},
   "outputs": [
    {
     "name": "stdout",
     "output_type": "stream",
     "text": [
      "[0.2, -1, 1, 0.3, 0.3]\n",
      "[[0.50994125 0.43267379 0.40702065]]\n"
     ]
    },
    {
     "data": {
      "text/plain": [
       "<matplotlib.legend.Legend at 0x7f83f4dfa5f8>"
      ]
     },
     "execution_count": 19,
     "metadata": {},
     "output_type": "execute_result"
    },
    {
     "data": {
      "image/png": "[encoded data removed]",
      "text/plain": [
       "<Figure size 576x576 with 1 Axes>"
      ]
     },
     "metadata": {
      "needs_background": "light"
     },
     "output_type": "display_data"
    }
   ],
   "source": [
    "truth = list(true_values.values())\n",
    "print(truth)\n",
    "obs_1,_ = model_emukit.predict(X=np.array(truth).reshape(1,-1))\n",
    "print(obs_1)\n",
    "#deg_obs_2 = simulation(second_mean, *pT_range)[:,pT_obs]\n",
    "# Now plot it to see what the data looks like\n",
    "fig, ax = plt.subplots(figsize=(8,8))\n",
    "\n",
    "ax.errorbar(x.flatten(), obs.flatten(), yerr=obserr, fmt=\"xk\", capsize=0, elinewidth=1)\n",
    "ax.scatter(x.flatten(), obs_1.flatten(), label ='prediction' )\n",
    "#ax.scatter(x.flatten(), deg_obs_2.flatten(), label ='2nd Degenerate mean prediction' )\n",
    "#ax.plot(x.flatten(), obs.flatten(), \"k\", alpha=0.3, lw=3)\n",
    "#ax.set_xlim(0, 10)\n",
    "ax.set_xlabel(r\"$p_T$\")\n",
    "ax.set_ylabel(r\"$R_{AA}$\")\n",
    "ax.set_title('Simulation MAP predictions')\n",
    "ax.legend()"
   ]
  },
  {
   "cell_type": "code",
   "execution_count": 20,
   "metadata": {},
   "outputs": [],
   "source": [
    "# truth = list(true_values.values())\n",
    "# for i,param in enumerate(list(prior_ranges.keys())):\n",
    "#     x = np.linspace(*prior_ranges[param],100)\n",
    "#     y = []\n",
    "#     for xx in x:\n",
    "#         parameters = np.array(truth).reshape(1,-1)\n",
    "#         parameters[0,i] = xx\n",
    "#         parameters=parameters\n",
    "#         print(parameters)\n",
    "#         mu_plot, var_plot = model_emukit.predict(parameters)\n",
    "#         print(mu_plot)\n",
    "#         y.append(mu_plot)\n",
    "#     y= np.array(y).reshape(-1,)\n",
    "#     fig, ax = plt.subplots()\n",
    "#     ax.plot(x,y)\n",
    "#     ax.set_xlabel(param)\n",
    "#     ax.set_ylabel('R_AA at 5 GeV')\n",
    "#     fig.savefig(f'figures/{param}_emukit_prediction.png', dpi =50)\n"
   ]
  }
 ],
 "metadata": {
  "kernelspec": {
   "display_name": "Python 3",
   "language": "python",
   "name": "python3"
  },
  "language_info": {
   "codemirror_mode": {
    "name": "ipython",
    "version": 3
   },
   "file_extension": ".py",
   "mimetype": "text/x-python",
   "name": "python",
   "nbconvert_exporter": "python",
   "pygments_lexer": "ipython3",
   "version": "3.6.13"
  }
 },
 "nbformat": 4,
 "nbformat_minor": 4
}
